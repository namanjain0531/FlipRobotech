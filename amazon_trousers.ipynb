{
 "cells": [
  {
   "cell_type": "code",
   "execution_count": 1,
   "metadata": {},
   "outputs": [],
   "source": [
    "from selenium import webdriver\n",
    "import os"
   ]
  },
  {
   "cell_type": "code",
   "execution_count": 2,
   "metadata": {},
   "outputs": [],
   "source": [
    "browser=webdriver.Chrome(\"C:/Users/HP/Desktop/images/chromedriver_win32/chromedriver.exe\")"
   ]
  },
  {
   "cell_type": "code",
   "execution_count": 14,
   "metadata": {},
   "outputs": [],
   "source": [
    "url=browser.get('https://www.amazon.in/s?k=trousers+for+mens&page=2&crid=3ID0LPWS3YJWZ&qid=1594382943&sprefix=trousers+for+%2Caps%2C349&ref=sr_pg_2')"
   ]
  },
  {
   "cell_type": "code",
   "execution_count": 4,
   "metadata": {},
   "outputs": [],
   "source": [
    "def make_directory(dirname):\n",
    "    current_path=os.getcwd()\n",
    "    path=os.path.join(current_path,dirname)\n",
    "    if not os.path.exists(path):\n",
    "        os.makedirs(path)"
   ]
  },
  {
   "cell_type": "code",
   "execution_count": 5,
   "metadata": {},
   "outputs": [],
   "source": [
    "make_directory(\"amazon_trousers\")"
   ]
  },
  {
   "cell_type": "code",
   "execution_count": 15,
   "metadata": {},
   "outputs": [
    {
     "name": "stdout",
     "output_type": "stream",
     "text": [
      "[<selenium.webdriver.remote.webelement.WebElement (session=\"e0147743c0da16e2c5be8cf748a3816a\", element=\"1c32fe74-f009-45db-82f7-720b144a2bfd\")>, <selenium.webdriver.remote.webelement.WebElement (session=\"e0147743c0da16e2c5be8cf748a3816a\", element=\"a4877b9a-b24d-40fb-b7d2-f4f0c2089332\")>, <selenium.webdriver.remote.webelement.WebElement (session=\"e0147743c0da16e2c5be8cf748a3816a\", element=\"c8042d4a-71a9-4f6e-a2b0-fc3a7c910b69\")>, <selenium.webdriver.remote.webelement.WebElement (session=\"e0147743c0da16e2c5be8cf748a3816a\", element=\"7d67073b-d57e-4b5a-8008-2ecbd38e71e6\")>, <selenium.webdriver.remote.webelement.WebElement (session=\"e0147743c0da16e2c5be8cf748a3816a\", element=\"2106b0ce-ece0-47d9-bc38-27096d4e2883\")>, <selenium.webdriver.remote.webelement.WebElement (session=\"e0147743c0da16e2c5be8cf748a3816a\", element=\"b39544f6-167b-4ca9-be0e-bfe33708ded3\")>, <selenium.webdriver.remote.webelement.WebElement (session=\"e0147743c0da16e2c5be8cf748a3816a\", element=\"e90ff131-67e1-4d23-bfe1-73fb0b96ba73\")>, <selenium.webdriver.remote.webelement.WebElement (session=\"e0147743c0da16e2c5be8cf748a3816a\", element=\"eb34186f-1c63-4919-86a9-3f1cd01cb9f2\")>, <selenium.webdriver.remote.webelement.WebElement (session=\"e0147743c0da16e2c5be8cf748a3816a\", element=\"ae2dd647-32db-46fa-b2e1-3ddd391bec4d\")>, <selenium.webdriver.remote.webelement.WebElement (session=\"e0147743c0da16e2c5be8cf748a3816a\", element=\"e0aec525-dcfb-4686-b894-a8544becc582\")>, <selenium.webdriver.remote.webelement.WebElement (session=\"e0147743c0da16e2c5be8cf748a3816a\", element=\"283ef883-0495-4972-b662-e2a7eef6e3f2\")>, <selenium.webdriver.remote.webelement.WebElement (session=\"e0147743c0da16e2c5be8cf748a3816a\", element=\"da5fe11e-b71f-4bf3-85d4-d69636676023\")>, <selenium.webdriver.remote.webelement.WebElement (session=\"e0147743c0da16e2c5be8cf748a3816a\", element=\"4bb93ddf-e618-4327-a755-2a56ccee15b3\")>, <selenium.webdriver.remote.webelement.WebElement (session=\"e0147743c0da16e2c5be8cf748a3816a\", element=\"57ca7aab-83dc-4391-8ff3-2be0daf38345\")>, <selenium.webdriver.remote.webelement.WebElement (session=\"e0147743c0da16e2c5be8cf748a3816a\", element=\"ec5e03ab-be85-420d-a06f-51052551abe5\")>, <selenium.webdriver.remote.webelement.WebElement (session=\"e0147743c0da16e2c5be8cf748a3816a\", element=\"cd615e7e-5165-43b0-9518-d19a25713e76\")>, <selenium.webdriver.remote.webelement.WebElement (session=\"e0147743c0da16e2c5be8cf748a3816a\", element=\"dc15357b-e2ae-4bf8-9743-665a0df6e4ca\")>, <selenium.webdriver.remote.webelement.WebElement (session=\"e0147743c0da16e2c5be8cf748a3816a\", element=\"78f7277f-79e9-4ab6-8bfe-c5e84f6eab2f\")>, <selenium.webdriver.remote.webelement.WebElement (session=\"e0147743c0da16e2c5be8cf748a3816a\", element=\"104a8304-2848-4ced-ab7f-e16281e279a2\")>, <selenium.webdriver.remote.webelement.WebElement (session=\"e0147743c0da16e2c5be8cf748a3816a\", element=\"003b001b-bb89-4432-8e1e-d23cae5993e6\")>, <selenium.webdriver.remote.webelement.WebElement (session=\"e0147743c0da16e2c5be8cf748a3816a\", element=\"68d13708-1a70-4d76-9e42-520f406dd2f5\")>, <selenium.webdriver.remote.webelement.WebElement (session=\"e0147743c0da16e2c5be8cf748a3816a\", element=\"b849a500-0200-4d25-9241-6802ded21537\")>, <selenium.webdriver.remote.webelement.WebElement (session=\"e0147743c0da16e2c5be8cf748a3816a\", element=\"1586ba26-3c19-4e6f-ad5d-f57316842a78\")>, <selenium.webdriver.remote.webelement.WebElement (session=\"e0147743c0da16e2c5be8cf748a3816a\", element=\"855b1787-0954-4b96-8050-89f3a2666166\")>, <selenium.webdriver.remote.webelement.WebElement (session=\"e0147743c0da16e2c5be8cf748a3816a\", element=\"9ac0e6ef-8fe4-4c38-a282-79d59734aea4\")>, <selenium.webdriver.remote.webelement.WebElement (session=\"e0147743c0da16e2c5be8cf748a3816a\", element=\"1cdeafcf-0749-429a-8130-d37babf3b732\")>, <selenium.webdriver.remote.webelement.WebElement (session=\"e0147743c0da16e2c5be8cf748a3816a\", element=\"98b3796e-7c65-4469-bc8d-904a47e265e2\")>, <selenium.webdriver.remote.webelement.WebElement (session=\"e0147743c0da16e2c5be8cf748a3816a\", element=\"d9bab5ff-b953-4437-8baf-7b727f92d0b7\")>, <selenium.webdriver.remote.webelement.WebElement (session=\"e0147743c0da16e2c5be8cf748a3816a\", element=\"47b5baf3-aa29-489a-95e1-77f3f7331310\")>, <selenium.webdriver.remote.webelement.WebElement (session=\"e0147743c0da16e2c5be8cf748a3816a\", element=\"07b9dd61-edc4-43b4-b0e4-4a2ec27c749a\")>, <selenium.webdriver.remote.webelement.WebElement (session=\"e0147743c0da16e2c5be8cf748a3816a\", element=\"eac06f78-f2a9-4462-b0e2-4948f3ad59e7\")>, <selenium.webdriver.remote.webelement.WebElement (session=\"e0147743c0da16e2c5be8cf748a3816a\", element=\"e1755cf3-a962-4cf2-a061-f441e3dbd6b2\")>, <selenium.webdriver.remote.webelement.WebElement (session=\"e0147743c0da16e2c5be8cf748a3816a\", element=\"0c7e8271-a9be-473a-8695-fe8055e7cef4\")>, <selenium.webdriver.remote.webelement.WebElement (session=\"e0147743c0da16e2c5be8cf748a3816a\", element=\"21487dc4-114d-4278-a83b-7599942a8817\")>, <selenium.webdriver.remote.webelement.WebElement (session=\"e0147743c0da16e2c5be8cf748a3816a\", element=\"8b82909b-e95b-4dd3-95ec-111b264327eb\")>, <selenium.webdriver.remote.webelement.WebElement (session=\"e0147743c0da16e2c5be8cf748a3816a\", element=\"c6cb399c-071a-490a-9be3-893e37a11e59\")>, <selenium.webdriver.remote.webelement.WebElement (session=\"e0147743c0da16e2c5be8cf748a3816a\", element=\"c320500d-4bb5-425c-9374-1340fce9ebc9\")>, <selenium.webdriver.remote.webelement.WebElement (session=\"e0147743c0da16e2c5be8cf748a3816a\", element=\"47827767-40a6-4b2d-b2d1-333cba604a75\")>, <selenium.webdriver.remote.webelement.WebElement (session=\"e0147743c0da16e2c5be8cf748a3816a\", element=\"027650be-d7a6-4386-8ce1-af109d1dccd6\")>, <selenium.webdriver.remote.webelement.WebElement (session=\"e0147743c0da16e2c5be8cf748a3816a\", element=\"971fb72f-77aa-426d-954c-52dc972d2ef3\")>, <selenium.webdriver.remote.webelement.WebElement (session=\"e0147743c0da16e2c5be8cf748a3816a\", element=\"bbc49929-35ef-4c83-8c4a-f9aeb10fc41d\")>, <selenium.webdriver.remote.webelement.WebElement (session=\"e0147743c0da16e2c5be8cf748a3816a\", element=\"1209a327-f9ce-4a66-b34b-6187d30fe7be\")>, <selenium.webdriver.remote.webelement.WebElement (session=\"e0147743c0da16e2c5be8cf748a3816a\", element=\"8f0a833c-4135-469e-bae1-eee233771425\")>, <selenium.webdriver.remote.webelement.WebElement (session=\"e0147743c0da16e2c5be8cf748a3816a\", element=\"0fe0dc3b-2f86-4783-a521-5459554a1b66\")>, <selenium.webdriver.remote.webelement.WebElement (session=\"e0147743c0da16e2c5be8cf748a3816a\", element=\"48bb7761-9dbf-4f2c-bce0-d253855a0f23\")>, <selenium.webdriver.remote.webelement.WebElement (session=\"e0147743c0da16e2c5be8cf748a3816a\", element=\"23233244-5941-44f0-8553-3728e8853cfb\")>, <selenium.webdriver.remote.webelement.WebElement (session=\"e0147743c0da16e2c5be8cf748a3816a\", element=\"94e9ce50-8266-40bf-a0bb-d5333c77f487\")>, <selenium.webdriver.remote.webelement.WebElement (session=\"e0147743c0da16e2c5be8cf748a3816a\", element=\"fadc5db7-7abe-41d8-a254-72152078520a\")>, <selenium.webdriver.remote.webelement.WebElement (session=\"e0147743c0da16e2c5be8cf748a3816a\", element=\"83d281e1-9d62-4c41-87da-e526250b2e91\")>, <selenium.webdriver.remote.webelement.WebElement (session=\"e0147743c0da16e2c5be8cf748a3816a\", element=\"28ac9a1c-9286-47fb-b727-18d9c5c8df78\")>, <selenium.webdriver.remote.webelement.WebElement (session=\"e0147743c0da16e2c5be8cf748a3816a\", element=\"cdd88eab-9fda-4d35-8770-e9b1a3b843f1\")>, <selenium.webdriver.remote.webelement.WebElement (session=\"e0147743c0da16e2c5be8cf748a3816a\", element=\"3a629aa1-152c-41ef-95c4-3c98f3ac9b68\")>, <selenium.webdriver.remote.webelement.WebElement (session=\"e0147743c0da16e2c5be8cf748a3816a\", element=\"a3e7e2aa-c124-42fd-825f-f59d28d0a1ba\")>, <selenium.webdriver.remote.webelement.WebElement (session=\"e0147743c0da16e2c5be8cf748a3816a\", element=\"a0e4403c-e8b5-49a5-8ccf-237f4250871a\")>, <selenium.webdriver.remote.webelement.WebElement (session=\"e0147743c0da16e2c5be8cf748a3816a\", element=\"27d3d7f9-3472-4eab-bdcc-a6acda900a35\")>, <selenium.webdriver.remote.webelement.WebElement (session=\"e0147743c0da16e2c5be8cf748a3816a\", element=\"e8b64db3-687c-4d21-8f15-4e198d8a5758\")>, <selenium.webdriver.remote.webelement.WebElement (session=\"e0147743c0da16e2c5be8cf748a3816a\", element=\"bfc43759-8eb9-4122-bd63-1ba89082367a\")>, <selenium.webdriver.remote.webelement.WebElement (session=\"e0147743c0da16e2c5be8cf748a3816a\", element=\"3ceb1374-94df-4c41-ad7c-424dec6abcab\")>, <selenium.webdriver.remote.webelement.WebElement (session=\"e0147743c0da16e2c5be8cf748a3816a\", element=\"a4cc5d72-16c4-4d1e-aaee-df5068f0f352\")>, <selenium.webdriver.remote.webelement.WebElement (session=\"e0147743c0da16e2c5be8cf748a3816a\", element=\"7a879c91-d788-42ff-8f6c-ca722df7c1b9\")>]\n"
     ]
    }
   ],
   "source": [
    "images=browser.find_elements_by_xpath(\"//div[@class='a-section aok-relative s-image-tall-aspect']//img\")\n",
    "print(images)"
   ]
  },
  {
   "cell_type": "code",
   "execution_count": 16,
   "metadata": {},
   "outputs": [
    {
     "name": "stdout",
     "output_type": "stream",
     "text": [
      "https://m.media-amazon.com/images/I/81aLEvSqU+L._AC_UL320_.jpg\n",
      "https://m.media-amazon.com/images/I/71pscH78yAL._AC_UL320_.jpg\n",
      "https://m.media-amazon.com/images/I/71p+y8xHJFL._AC_UL320_.jpg\n",
      "https://m.media-amazon.com/images/I/71yXjuYYh6L._AC_UL320_.jpg\n",
      "https://m.media-amazon.com/images/I/71D7E1WltZL._AC_UL320_.jpg\n",
      "https://m.media-amazon.com/images/I/81s3BJ7ufeL._AC_UL320_.jpg\n",
      "https://m.media-amazon.com/images/I/513JgXuAAwL._AC_UL320_.jpg\n",
      "https://m.media-amazon.com/images/I/71bZfPvkpIL._AC_UL320_.jpg\n",
      "https://m.media-amazon.com/images/I/81g5ctyMTnL._AC_UL320_.jpg\n",
      "https://m.media-amazon.com/images/I/71+G0cuRNvL._AC_UL320_.jpg\n",
      "https://m.media-amazon.com/images/I/71mf9aWSsBL._AC_UL320_.jpg\n",
      "https://m.media-amazon.com/images/I/81tXjK3RaqL._AC_UL320_.jpg\n",
      "https://m.media-amazon.com/images/I/71UGxT8Q18L._AC_UL320_.jpg\n",
      "https://m.media-amazon.com/images/I/71Yqhczm3nL._AC_UL320_.jpg\n",
      "https://m.media-amazon.com/images/I/618eMduURAL._AC_UL320_.jpg\n",
      "https://m.media-amazon.com/images/I/815HokhWpWL._AC_UL320_.jpg\n",
      "https://m.media-amazon.com/images/I/915jMAh44EL._AC_UL320_.jpg\n",
      "https://m.media-amazon.com/images/I/81uTY7mxCvL._AC_UL320_.jpg\n",
      "https://m.media-amazon.com/images/I/31DLX2xvIOL._AC_UL320_.jpg\n",
      "https://m.media-amazon.com/images/I/81cgAFX29oL._AC_UL320_.jpg\n",
      "https://m.media-amazon.com/images/I/61k-17XWkQL._AC_UL320_.jpg\n",
      "https://m.media-amazon.com/images/I/71OD5KF5dwL._AC_UL320_.jpg\n",
      "https://m.media-amazon.com/images/I/71HoJ1uCkSL._AC_UL320_.jpg\n",
      "https://m.media-amazon.com/images/I/81sQFfA3YeL._AC_UL320_.jpg\n",
      "https://m.media-amazon.com/images/I/71L80CB48bL._AC_UL320_.jpg\n",
      "https://m.media-amazon.com/images/I/71ZBsa81BoL._AC_UL320_.jpg\n",
      "https://m.media-amazon.com/images/I/51Au9X2fxsL._AC_UL320_.jpg\n",
      "https://m.media-amazon.com/images/I/41o-kaE04DL._AC_UL320_.jpg\n",
      "https://m.media-amazon.com/images/I/41y8WJpHigL._AC_UL320_.jpg\n",
      "https://m.media-amazon.com/images/I/918u9FjqK0L._AC_UL320_.jpg\n",
      "https://m.media-amazon.com/images/I/71Pof91deKL._AC_UL320_.jpg\n",
      "https://m.media-amazon.com/images/I/71+pUeNdg7L._AC_UL320_.jpg\n",
      "https://m.media-amazon.com/images/I/71Bg7uWx2YL._AC_UL320_.jpg\n",
      "https://m.media-amazon.com/images/I/61Don-d8JfL._AC_UL320_.jpg\n",
      "https://m.media-amazon.com/images/I/71pU4X1l11L._AC_UL320_.jpg\n",
      "https://m.media-amazon.com/images/I/81+EGoDmNUL._AC_UL320_.jpg\n",
      "https://m.media-amazon.com/images/I/71Ka4mWKBlL._AC_UL320_.jpg\n",
      "https://m.media-amazon.com/images/I/71AOS3JjAhL._AC_UL320_.jpg\n",
      "https://m.media-amazon.com/images/I/610BjJqZ67L._AC_UL320_.jpg\n",
      "https://m.media-amazon.com/images/I/61sbqNFEfqL._AC_UL320_.jpg\n",
      "https://m.media-amazon.com/images/I/81mAqF6EmNL._AC_UL320_.jpg\n",
      "https://m.media-amazon.com/images/I/91-MtNEwPUL._AC_UL320_.jpg\n",
      "https://m.media-amazon.com/images/I/71a5s6PLvVL._AC_UL320_.jpg\n",
      "https://m.media-amazon.com/images/I/51QKc6hDrwL._AC_UL320_.jpg\n",
      "https://m.media-amazon.com/images/I/91FYzgMkMFL._AC_UL320_.jpg\n",
      "https://m.media-amazon.com/images/I/51h-vw7DCRL._AC_UL320_.jpg\n",
      "https://m.media-amazon.com/images/I/81sZ6XebDkL._AC_UL320_.jpg\n",
      "https://m.media-amazon.com/images/I/71R4hi-jIsL._AC_UL320_.jpg\n",
      "https://m.media-amazon.com/images/I/810LLDqT7XL._AC_UL320_.jpg\n",
      "https://m.media-amazon.com/images/I/8180oEyIx+L._AC_UL320_.jpg\n",
      "https://m.media-amazon.com/images/I/718Jsezi1zL._AC_UL320_.jpg\n",
      "https://m.media-amazon.com/images/I/81Eh+wMM6xL._AC_UL320_.jpg\n",
      "https://m.media-amazon.com/images/I/5143BT-Us5L._AC_UL320_.jpg\n",
      "https://m.media-amazon.com/images/I/919su-ijepL._AC_UL320_.jpg\n",
      "https://m.media-amazon.com/images/I/81fAP423MwL._AC_UL320_.jpg\n",
      "https://m.media-amazon.com/images/I/812+Y-oVn+L._AC_UL320_.jpg\n",
      "https://m.media-amazon.com/images/I/71hLZEKJ1wL._AC_UL320_.jpg\n",
      "https://m.media-amazon.com/images/I/717AxxDjrDL._AC_UL320_.jpg\n",
      "https://m.media-amazon.com/images/I/71D1yn0kJ9L._AC_UL320_.jpg\n",
      "https://m.media-amazon.com/images/I/61fQtsLLn6L._AC_UL320_.jpg\n"
     ]
    }
   ],
   "source": [
    "urls= []\n",
    "for image in images:\n",
    "    source=image.get_attribute('src')\n",
    "    urls.append(source)\n",
    "    print(source)"
   ]
  },
  {
   "cell_type": "code",
   "execution_count": 17,
   "metadata": {},
   "outputs": [
    {
     "data": {
      "text/plain": [
       "60"
      ]
     },
     "execution_count": 17,
     "metadata": {},
     "output_type": "execute_result"
    }
   ],
   "source": [
    "len(urls)"
   ]
  },
  {
   "cell_type": "code",
   "execution_count": 18,
   "metadata": {},
   "outputs": [],
   "source": [
    "import shutil\n",
    "import requests"
   ]
  },
  {
   "cell_type": "code",
   "execution_count": 12,
   "metadata": {},
   "outputs": [
    {
     "name": "stdout",
     "output_type": "stream",
     "text": [
      "Downloading 1 of 60 images\n",
      "Downloading 2 of 60 images\n",
      "Downloading 3 of 60 images\n",
      "Downloading 4 of 60 images\n",
      "Downloading 5 of 60 images\n",
      "Downloading 6 of 60 images\n",
      "Downloading 7 of 60 images\n",
      "Downloading 8 of 60 images\n",
      "Downloading 9 of 60 images\n",
      "Downloading 10 of 60 images\n",
      "Downloading 11 of 60 images\n",
      "Downloading 12 of 60 images\n",
      "Downloading 13 of 60 images\n",
      "Downloading 14 of 60 images\n",
      "Downloading 15 of 60 images\n",
      "Downloading 16 of 60 images\n",
      "Downloading 17 of 60 images\n",
      "Downloading 18 of 60 images\n",
      "Downloading 19 of 60 images\n",
      "Downloading 20 of 60 images\n",
      "Downloading 21 of 60 images\n",
      "Downloading 22 of 60 images\n",
      "Downloading 23 of 60 images\n",
      "Downloading 24 of 60 images\n",
      "Downloading 25 of 60 images\n",
      "Downloading 26 of 60 images\n",
      "Downloading 27 of 60 images\n",
      "Downloading 28 of 60 images\n",
      "Downloading 29 of 60 images\n",
      "Downloading 30 of 60 images\n",
      "Downloading 31 of 60 images\n",
      "Downloading 32 of 60 images\n",
      "Downloading 33 of 60 images\n",
      "Downloading 34 of 60 images\n",
      "Downloading 35 of 60 images\n",
      "Downloading 36 of 60 images\n",
      "Downloading 37 of 60 images\n",
      "Downloading 38 of 60 images\n",
      "Downloading 39 of 60 images\n",
      "Downloading 40 of 60 images\n",
      "Downloading 41 of 60 images\n",
      "Downloading 42 of 60 images\n",
      "Downloading 43 of 60 images\n",
      "Downloading 44 of 60 images\n",
      "Downloading 45 of 60 images\n",
      "Downloading 46 of 60 images\n",
      "Downloading 47 of 60 images\n",
      "Downloading 48 of 60 images\n",
      "Downloading 49 of 60 images\n",
      "Downloading 50 of 60 images\n",
      "Downloading 51 of 60 images\n",
      "Downloading 52 of 60 images\n",
      "Downloading 53 of 60 images\n",
      "Downloading 54 of 60 images\n",
      "Downloading 55 of 60 images\n",
      "Downloading 56 of 60 images\n",
      "Downloading 57 of 60 images\n",
      "Downloading 58 of 60 images\n",
      "Downloading 59 of 60 images\n",
      "Downloading 60 of 60 images\n"
     ]
    }
   ],
   "source": [
    "for index, link in enumerate(urls):\n",
    "    print(\"Downloading {0} of {1} images\".format(index+1, len(urls)))\n",
    "    response=requests.get(link)\n",
    "    with open('amazon_trousers/img_{0}.jpeg'.format(index), \"wb\") as file:\n",
    "        file.write(response.content)"
   ]
  },
  {
   "cell_type": "code",
   "execution_count": 29,
   "metadata": {},
   "outputs": [
    {
     "name": "stdout",
     "output_type": "stream",
     "text": [
      "Downloading 61 of 60 images\n",
      "Downloading 62 of 60 images\n",
      "Downloading 63 of 60 images\n",
      "Downloading 64 of 60 images\n",
      "Downloading 65 of 60 images\n",
      "Downloading 66 of 60 images\n",
      "Downloading 67 of 60 images\n",
      "Downloading 68 of 60 images\n",
      "Downloading 69 of 60 images\n",
      "Downloading 70 of 60 images\n",
      "Downloading 71 of 60 images\n",
      "Downloading 72 of 60 images\n",
      "Downloading 73 of 60 images\n",
      "Downloading 74 of 60 images\n",
      "Downloading 75 of 60 images\n",
      "Downloading 76 of 60 images\n",
      "Downloading 77 of 60 images\n",
      "Downloading 78 of 60 images\n",
      "Downloading 79 of 60 images\n",
      "Downloading 80 of 60 images\n",
      "Downloading 81 of 60 images\n",
      "Downloading 82 of 60 images\n",
      "Downloading 83 of 60 images\n",
      "Downloading 84 of 60 images\n",
      "Downloading 85 of 60 images\n",
      "Downloading 86 of 60 images\n",
      "Downloading 87 of 60 images\n",
      "Downloading 88 of 60 images\n",
      "Downloading 89 of 60 images\n",
      "Downloading 90 of 60 images\n",
      "Downloading 91 of 60 images\n",
      "Downloading 92 of 60 images\n",
      "Downloading 93 of 60 images\n",
      "Downloading 94 of 60 images\n",
      "Downloading 95 of 60 images\n",
      "Downloading 96 of 60 images\n",
      "Downloading 97 of 60 images\n",
      "Downloading 98 of 60 images\n",
      "Downloading 99 of 60 images\n",
      "Downloading 100 of 60 images\n",
      "Downloading 101 of 60 images\n",
      "Downloading 102 of 60 images\n",
      "Downloading 103 of 60 images\n",
      "Downloading 104 of 60 images\n",
      "Downloading 105 of 60 images\n",
      "Downloading 106 of 60 images\n",
      "Downloading 107 of 60 images\n",
      "Downloading 108 of 60 images\n",
      "Downloading 109 of 60 images\n",
      "Downloading 110 of 60 images\n",
      "Downloading 111 of 60 images\n",
      "Downloading 112 of 60 images\n",
      "Downloading 113 of 60 images\n",
      "Downloading 114 of 60 images\n",
      "Downloading 115 of 60 images\n",
      "Downloading 116 of 60 images\n",
      "Downloading 117 of 60 images\n",
      "Downloading 118 of 60 images\n",
      "Downloading 119 of 60 images\n",
      "Downloading 120 of 60 images\n"
     ]
    }
   ],
   "source": [
    "for index, link in enumerate(urls):\n",
    "    print(\"Downloading {0} of {1} images\".format(index+61, len(urls)))\n",
    "    response=requests.get(link)\n",
    "    with open('amazon_trousers/img_{0}.jpeg'.format(index), \"wb\") as file:\n",
    "        file.write(response.content)"
   ]
  },
  {
   "cell_type": "code",
   "execution_count": null,
   "metadata": {},
   "outputs": [],
   "source": []
  }
 ],
 "metadata": {
  "kernelspec": {
   "display_name": "Python 3",
   "language": "python",
   "name": "python3"
  },
  "language_info": {
   "codemirror_mode": {
    "name": "ipython",
    "version": 3
   },
   "file_extension": ".py",
   "mimetype": "text/x-python",
   "name": "python",
   "nbconvert_exporter": "python",
   "pygments_lexer": "ipython3",
   "version": "3.6.10"
  }
 },
 "nbformat": 4,
 "nbformat_minor": 4
}
