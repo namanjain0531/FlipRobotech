{
  "nbformat": 4,
  "nbformat_minor": 0,
  "metadata": {
    "colab": {
      "name": "Assignment 7.ipynb",
      "provenance": [],
      "authorship_tag": "ABX9TyN9A+ofgWn1k/HLr/NdPQZd",
      "include_colab_link": true
    },
    "kernelspec": {
      "name": "python3",
      "display_name": "Python 3"
    },
    "accelerator": "GPU"
  },
  "cells": [
    {
      "cell_type": "markdown",
      "metadata": {
        "id": "view-in-github",
        "colab_type": "text"
      },
      "source": [
        "<a href=\"https://colab.research.google.com/github/namanjain0531/FlipRobotech/blob/master/Assignment_7.ipynb\" target=\"_parent\"><img src=\"https://colab.research.google.com/assets/colab-badge.svg\" alt=\"Open In Colab\"/></a>"
      ]
    },
    {
      "cell_type": "code",
      "metadata": {
        "id": "fO4SqODInYv2",
        "colab_type": "code",
        "colab": {}
      },
      "source": [
        "import nltk\n",
        "\n",
        "from gensim.models import Word2Vec\n",
        "from nltk.corpus import stopwords\n",
        "import matplotlib.pyplot as plt\n",
        "%matplotlib inline\n",
        "import re\n",
        "\n",
        "paragraph = \"\"\"Life is beautiful, but not always. It has lots of problems you have to face everyday. \n",
        "               Don't worry though! All these problems make you strong, it gives you courage to stand alone in future.\n",
        "               Life is full of moments of joy, pleasure, success and comfort punctuated by misery, defeat, failures and problems.\n",
        "               There is no human being on Earth, strong, powerful, wise or rich, who has not experienced, struggle, suffering \n",
        "               or failure. You have to work hard to reach to the highest position. Life is full of paths, you just have to choose\n",
        "               the right one. Life is interesting and amazing like the stars up in the skies.With no doubt, \n",
        "               Life is beautiful and full of celebrations. However you should always be ready to face adversity and challenges. \n",
        "               There are difficult situations in life as well.Be careful!! You might get hurt too hard. \n",
        "               Life is sometimes too selfish to think about yourself. Then life is too hard to handle. \n",
        "               Falling in love! People tend to fall in love nowadays but i personally think the right time has to come... \n",
        "               You might also get hurt in Love. You might be broken-hearted as the people say.\n",
        "               Life is the place where people treat everyone differently, racism exists as well as bullying. \n",
        "               People tend to say bad stuff behind people's back. There are millions of people using horrible\n",
        "               words to call people, People use people everyday.Life is not that easy in my view. Sometimes,\n",
        "               all you want to do is sit alone and question yourself with hundred of questions.\n",
        "               Am I ugly as the people say?  Why don't i have any friends?\n",
        "               Why is the world so hard to live in? What do i look like in other peoples eyes?\n",
        "               Why don't i have the same colour of the skin as everyone else? :'( :'(How can i make others happy?\n",
        "               The questions does not stop. You ask those questions over and over again. When you don't have \n",
        "               any answers, you want to scream out loud or cry.Bullying? Racism? What are all these?, I don't understand \n",
        "               what people get from making others unhappy and upset. Every single one of you there in the world have your own beauty. \n",
        "               EVERYTHING IS BEAUTIFUL! So don't sit there saying i'm ugly say i'm PRETTY or HANDSOME, \n",
        "               Damnn care about what people say.\"RUMORS ARE SPREADED BY HATERS, CARRIED BY FOOLS AND ACCEPTED BY IDIOT!\"\n",
        "               Treat people the way they treat you! Be strong and face these saddo people around the world.\n",
        "               Haters are always around you. but it doesn't matter cause they are the ones who make you famous. \n",
        "               So what? If you're not beautiful, pretty, you have life and thats the most of it. Not everyone \n",
        "               gets to live and those who do are sooo lucky! People die, life changes, people come and go but guess \n",
        "               what you have to go with it however much it hurts . You miss people who were in your life, that's the\n",
        "               way they remind you that they still exist in your life. I know the feeling of that, I miss my handsome uncle\n",
        "               as well but i know we can never meet again. I know he is not here anymore, So what i will still love him the\n",
        "               most in my life. People say forget the past, life in present and save the future for tomorrow. I think that\n",
        "               is true, but i cannot forget my past, it has all those beautiful moments which mean the world to me. It is\n",
        "               the hardest thing but i just try try try and try. Don't give up or lose hope on anything.\n",
        "               Live your life however you want  Have fun! Dance as much you want! Take risks.. Trust yourself. Believe in yourself....\n",
        "               Damn care about haters! There is so much to do so stop faffing about.Life is too short to save it for tomorrow.\n",
        "               Don't give up and Hope always! Love Forever!! Do what your heart says... DREAM AS MUCH AS YOU LIKE AND MAKE IT TRUE!\n",
        "               YOU ONLY LIVE ONCE SO MAKE THE MOST OF IT ! <3 Learn lessons from the mistakes....\n",
        "               From this i learned awful a lot things. I started to enjoy life instead of listening to sad songs and\n",
        "               sitting alone. Happiness came into my life but there is sadness as well. Everyday i used to dress in \n",
        "               dull clothes now i love colours i used to hate going out of my house but guess what all these sound outside\n",
        "               sounds attractive than sad songs. Rock music is what i listen to now, sometimes sad as well All things in \n",
        "               life depends on what your mood and the situation.\"\"\""
      ],
      "execution_count": 1,
      "outputs": []
    },
    {
      "cell_type": "code",
      "metadata": {
        "id": "pGcG45mirBxu",
        "colab_type": "code",
        "colab": {}
      },
      "source": [
        "# Preprocessing the data  (for more details on regular expression visit https://regexr.com/)\n",
        "text = re.sub(r'\\[[0-9]*\\]',' ',paragraph)\n",
        "text = re.sub(r'\\s+',' ',text)\n",
        "\n",
        "text = text.lower()\n",
        "\n",
        "text = re.sub(r'\\d',' ',text)\n",
        "text = re.sub(r'\\s+',' ',text)"
      ],
      "execution_count": 2,
      "outputs": []
    },
    {
      "cell_type": "code",
      "metadata": {
        "id": "KudHFVAsrQDA",
        "colab_type": "code",
        "colab": {
          "base_uri": "https://localhost:8080/",
          "height": 1000
        },
        "outputId": "5e3aefb6-2b3a-47e8-9c02-1cf72ccabdb4"
      },
      "source": [
        "import nltk\n",
        "nltk.download('punkt')\n",
        "# Preparing the dataset\n",
        "sentences = nltk.sent_tokenize(text)\n",
        "sentences"
      ],
      "execution_count": 5,
      "outputs": [
        {
          "output_type": "stream",
          "text": [
            "[nltk_data] Downloading package punkt to /root/nltk_data...\n",
            "[nltk_data]   Unzipping tokenizers/punkt.zip.\n"
          ],
          "name": "stdout"
        },
        {
          "output_type": "execute_result",
          "data": {
            "text/plain": [
              "['life is beautiful, but not always.',\n",
              " 'it has lots of problems you have to face everyday.',\n",
              " \"don't worry though!\",\n",
              " 'all these problems make you strong, it gives you courage to stand alone in future.',\n",
              " 'life is full of moments of joy, pleasure, success and comfort punctuated by misery, defeat, failures and problems.',\n",
              " 'there is no human being on earth, strong, powerful, wise or rich, who has not experienced, struggle, suffering or failure.',\n",
              " 'you have to work hard to reach to the highest position.',\n",
              " 'life is full of paths, you just have to choose the right one.',\n",
              " 'life is interesting and amazing like the stars up in the skies.with no doubt, life is beautiful and full of celebrations.',\n",
              " 'however you should always be ready to face adversity and challenges.',\n",
              " 'there are difficult situations in life as well.be careful!!',\n",
              " 'you might get hurt too hard.',\n",
              " 'life is sometimes too selfish to think about yourself.',\n",
              " 'then life is too hard to handle.',\n",
              " 'falling in love!',\n",
              " 'people tend to fall in love nowadays but i personally think the right time has to come... you might also get hurt in love.',\n",
              " 'you might be broken-hearted as the people say.',\n",
              " 'life is the place where people treat everyone differently, racism exists as well as bullying.',\n",
              " \"people tend to say bad stuff behind people's back.\",\n",
              " 'there are millions of people using horrible words to call people, people use people everyday.life is not that easy in my view.',\n",
              " 'sometimes, all you want to do is sit alone and question yourself with hundred of questions.',\n",
              " 'am i ugly as the people say?',\n",
              " \"why don't i have any friends?\",\n",
              " 'why is the world so hard to live in?',\n",
              " 'what do i look like in other peoples eyes?',\n",
              " \"why don't i have the same colour of the skin as everyone else?\",\n",
              " \":'( :'(how can i make others happy?\",\n",
              " 'the questions does not stop.',\n",
              " 'you ask those questions over and over again.',\n",
              " \"when you don't have any answers, you want to scream out loud or cry.bullying?\",\n",
              " 'racism?',\n",
              " \"what are all these?, i don't understand what people get from making others unhappy and upset.\",\n",
              " 'every single one of you there in the world have your own beauty.',\n",
              " 'everything is beautiful!',\n",
              " \"so don't sit there saying i'm ugly say i'm pretty or handsome, damnn care about what people say.\",\n",
              " '\"rumors are spreaded by haters, carried by fools and accepted by idiot!\"',\n",
              " 'treat people the way they treat you!',\n",
              " 'be strong and face these saddo people around the world.',\n",
              " 'haters are always around you.',\n",
              " \"but it doesn't matter cause they are the ones who make you famous.\",\n",
              " 'so what?',\n",
              " \"if you're not beautiful, pretty, you have life and thats the most of it.\",\n",
              " 'not everyone gets to live and those who do are sooo lucky!',\n",
              " 'people die, life changes, people come and go but guess what you have to go with it however much it hurts .',\n",
              " \"you miss people who were in your life, that's the way they remind you that they still exist in your life.\",\n",
              " 'i know the feeling of that, i miss my handsome uncle as well but i know we can never meet again.',\n",
              " 'i know he is not here anymore, so what i will still love him the most in my life.',\n",
              " 'people say forget the past, life in present and save the future for tomorrow.',\n",
              " 'i think that is true, but i cannot forget my past, it has all those beautiful moments which mean the world to me.',\n",
              " 'it is the hardest thing but i just try try try and try.',\n",
              " \"don't give up or lose hope on anything.\",\n",
              " 'live your life however you want have fun!',\n",
              " 'dance as much you want!',\n",
              " 'take risks.. trust yourself.',\n",
              " 'believe in yourself.... damn care about haters!',\n",
              " 'there is so much to do so stop faffing about.life is too short to save it for tomorrow.',\n",
              " \"don't give up and hope always!\",\n",
              " 'love forever!!',\n",
              " 'do what your heart says... dream as much as you like and make it true!',\n",
              " 'you only live once so make the most of it !',\n",
              " '< learn lessons from the mistakes.... from this i learned awful a lot things.',\n",
              " 'i started to enjoy life instead of listening to sad songs and sitting alone.',\n",
              " 'happiness came into my life but there is sadness as well.',\n",
              " 'everyday i used to dress in dull clothes now i love colours i used to hate going out of my house but guess what all these sound outside sounds attractive than sad songs.',\n",
              " 'rock music is what i listen to now, sometimes sad as well all things in life depends on what your mood and the situation.']"
            ]
          },
          "metadata": {
            "tags": []
          },
          "execution_count": 5
        }
      ]
    },
    {
      "cell_type": "code",
      "metadata": {
        "id": "kqxtkWturaER",
        "colab_type": "code",
        "colab": {}
      },
      "source": [
        "sent_word = [nltk.word_tokenize(sentence) for sentence in sentences]"
      ],
      "execution_count": 6,
      "outputs": []
    },
    {
      "cell_type": "code",
      "metadata": {
        "id": "YqchmsEMsNMr",
        "colab_type": "code",
        "colab": {
          "base_uri": "https://localhost:8080/",
          "height": 1000
        },
        "outputId": "f2b7f99e-7b94-439b-8a1a-46dd834cb5f1"
      },
      "source": [
        "sent_word"
      ],
      "execution_count": 7,
      "outputs": [
        {
          "output_type": "execute_result",
          "data": {
            "text/plain": [
              "[['life', 'is', 'beautiful', ',', 'but', 'not', 'always', '.'],\n",
              " ['it',\n",
              "  'has',\n",
              "  'lots',\n",
              "  'of',\n",
              "  'problems',\n",
              "  'you',\n",
              "  'have',\n",
              "  'to',\n",
              "  'face',\n",
              "  'everyday',\n",
              "  '.'],\n",
              " ['do', \"n't\", 'worry', 'though', '!'],\n",
              " ['all',\n",
              "  'these',\n",
              "  'problems',\n",
              "  'make',\n",
              "  'you',\n",
              "  'strong',\n",
              "  ',',\n",
              "  'it',\n",
              "  'gives',\n",
              "  'you',\n",
              "  'courage',\n",
              "  'to',\n",
              "  'stand',\n",
              "  'alone',\n",
              "  'in',\n",
              "  'future',\n",
              "  '.'],\n",
              " ['life',\n",
              "  'is',\n",
              "  'full',\n",
              "  'of',\n",
              "  'moments',\n",
              "  'of',\n",
              "  'joy',\n",
              "  ',',\n",
              "  'pleasure',\n",
              "  ',',\n",
              "  'success',\n",
              "  'and',\n",
              "  'comfort',\n",
              "  'punctuated',\n",
              "  'by',\n",
              "  'misery',\n",
              "  ',',\n",
              "  'defeat',\n",
              "  ',',\n",
              "  'failures',\n",
              "  'and',\n",
              "  'problems',\n",
              "  '.'],\n",
              " ['there',\n",
              "  'is',\n",
              "  'no',\n",
              "  'human',\n",
              "  'being',\n",
              "  'on',\n",
              "  'earth',\n",
              "  ',',\n",
              "  'strong',\n",
              "  ',',\n",
              "  'powerful',\n",
              "  ',',\n",
              "  'wise',\n",
              "  'or',\n",
              "  'rich',\n",
              "  ',',\n",
              "  'who',\n",
              "  'has',\n",
              "  'not',\n",
              "  'experienced',\n",
              "  ',',\n",
              "  'struggle',\n",
              "  ',',\n",
              "  'suffering',\n",
              "  'or',\n",
              "  'failure',\n",
              "  '.'],\n",
              " ['you',\n",
              "  'have',\n",
              "  'to',\n",
              "  'work',\n",
              "  'hard',\n",
              "  'to',\n",
              "  'reach',\n",
              "  'to',\n",
              "  'the',\n",
              "  'highest',\n",
              "  'position',\n",
              "  '.'],\n",
              " ['life',\n",
              "  'is',\n",
              "  'full',\n",
              "  'of',\n",
              "  'paths',\n",
              "  ',',\n",
              "  'you',\n",
              "  'just',\n",
              "  'have',\n",
              "  'to',\n",
              "  'choose',\n",
              "  'the',\n",
              "  'right',\n",
              "  'one',\n",
              "  '.'],\n",
              " ['life',\n",
              "  'is',\n",
              "  'interesting',\n",
              "  'and',\n",
              "  'amazing',\n",
              "  'like',\n",
              "  'the',\n",
              "  'stars',\n",
              "  'up',\n",
              "  'in',\n",
              "  'the',\n",
              "  'skies.with',\n",
              "  'no',\n",
              "  'doubt',\n",
              "  ',',\n",
              "  'life',\n",
              "  'is',\n",
              "  'beautiful',\n",
              "  'and',\n",
              "  'full',\n",
              "  'of',\n",
              "  'celebrations',\n",
              "  '.'],\n",
              " ['however',\n",
              "  'you',\n",
              "  'should',\n",
              "  'always',\n",
              "  'be',\n",
              "  'ready',\n",
              "  'to',\n",
              "  'face',\n",
              "  'adversity',\n",
              "  'and',\n",
              "  'challenges',\n",
              "  '.'],\n",
              " ['there',\n",
              "  'are',\n",
              "  'difficult',\n",
              "  'situations',\n",
              "  'in',\n",
              "  'life',\n",
              "  'as',\n",
              "  'well.be',\n",
              "  'careful',\n",
              "  '!',\n",
              "  '!'],\n",
              " ['you', 'might', 'get', 'hurt', 'too', 'hard', '.'],\n",
              " ['life',\n",
              "  'is',\n",
              "  'sometimes',\n",
              "  'too',\n",
              "  'selfish',\n",
              "  'to',\n",
              "  'think',\n",
              "  'about',\n",
              "  'yourself',\n",
              "  '.'],\n",
              " ['then', 'life', 'is', 'too', 'hard', 'to', 'handle', '.'],\n",
              " ['falling', 'in', 'love', '!'],\n",
              " ['people',\n",
              "  'tend',\n",
              "  'to',\n",
              "  'fall',\n",
              "  'in',\n",
              "  'love',\n",
              "  'nowadays',\n",
              "  'but',\n",
              "  'i',\n",
              "  'personally',\n",
              "  'think',\n",
              "  'the',\n",
              "  'right',\n",
              "  'time',\n",
              "  'has',\n",
              "  'to',\n",
              "  'come',\n",
              "  '...',\n",
              "  'you',\n",
              "  'might',\n",
              "  'also',\n",
              "  'get',\n",
              "  'hurt',\n",
              "  'in',\n",
              "  'love',\n",
              "  '.'],\n",
              " ['you', 'might', 'be', 'broken-hearted', 'as', 'the', 'people', 'say', '.'],\n",
              " ['life',\n",
              "  'is',\n",
              "  'the',\n",
              "  'place',\n",
              "  'where',\n",
              "  'people',\n",
              "  'treat',\n",
              "  'everyone',\n",
              "  'differently',\n",
              "  ',',\n",
              "  'racism',\n",
              "  'exists',\n",
              "  'as',\n",
              "  'well',\n",
              "  'as',\n",
              "  'bullying',\n",
              "  '.'],\n",
              " ['people',\n",
              "  'tend',\n",
              "  'to',\n",
              "  'say',\n",
              "  'bad',\n",
              "  'stuff',\n",
              "  'behind',\n",
              "  'people',\n",
              "  \"'s\",\n",
              "  'back',\n",
              "  '.'],\n",
              " ['there',\n",
              "  'are',\n",
              "  'millions',\n",
              "  'of',\n",
              "  'people',\n",
              "  'using',\n",
              "  'horrible',\n",
              "  'words',\n",
              "  'to',\n",
              "  'call',\n",
              "  'people',\n",
              "  ',',\n",
              "  'people',\n",
              "  'use',\n",
              "  'people',\n",
              "  'everyday.life',\n",
              "  'is',\n",
              "  'not',\n",
              "  'that',\n",
              "  'easy',\n",
              "  'in',\n",
              "  'my',\n",
              "  'view',\n",
              "  '.'],\n",
              " ['sometimes',\n",
              "  ',',\n",
              "  'all',\n",
              "  'you',\n",
              "  'want',\n",
              "  'to',\n",
              "  'do',\n",
              "  'is',\n",
              "  'sit',\n",
              "  'alone',\n",
              "  'and',\n",
              "  'question',\n",
              "  'yourself',\n",
              "  'with',\n",
              "  'hundred',\n",
              "  'of',\n",
              "  'questions',\n",
              "  '.'],\n",
              " ['am', 'i', 'ugly', 'as', 'the', 'people', 'say', '?'],\n",
              " ['why', 'do', \"n't\", 'i', 'have', 'any', 'friends', '?'],\n",
              " ['why', 'is', 'the', 'world', 'so', 'hard', 'to', 'live', 'in', '?'],\n",
              " ['what', 'do', 'i', 'look', 'like', 'in', 'other', 'peoples', 'eyes', '?'],\n",
              " ['why',\n",
              "  'do',\n",
              "  \"n't\",\n",
              "  'i',\n",
              "  'have',\n",
              "  'the',\n",
              "  'same',\n",
              "  'colour',\n",
              "  'of',\n",
              "  'the',\n",
              "  'skin',\n",
              "  'as',\n",
              "  'everyone',\n",
              "  'else',\n",
              "  '?'],\n",
              " [':',\n",
              "  \"'\",\n",
              "  '(',\n",
              "  ':',\n",
              "  \"'\",\n",
              "  '(',\n",
              "  'how',\n",
              "  'can',\n",
              "  'i',\n",
              "  'make',\n",
              "  'others',\n",
              "  'happy',\n",
              "  '?'],\n",
              " ['the', 'questions', 'does', 'not', 'stop', '.'],\n",
              " ['you', 'ask', 'those', 'questions', 'over', 'and', 'over', 'again', '.'],\n",
              " ['when',\n",
              "  'you',\n",
              "  'do',\n",
              "  \"n't\",\n",
              "  'have',\n",
              "  'any',\n",
              "  'answers',\n",
              "  ',',\n",
              "  'you',\n",
              "  'want',\n",
              "  'to',\n",
              "  'scream',\n",
              "  'out',\n",
              "  'loud',\n",
              "  'or',\n",
              "  'cry.bullying',\n",
              "  '?'],\n",
              " ['racism', '?'],\n",
              " ['what',\n",
              "  'are',\n",
              "  'all',\n",
              "  'these',\n",
              "  '?',\n",
              "  ',',\n",
              "  'i',\n",
              "  'do',\n",
              "  \"n't\",\n",
              "  'understand',\n",
              "  'what',\n",
              "  'people',\n",
              "  'get',\n",
              "  'from',\n",
              "  'making',\n",
              "  'others',\n",
              "  'unhappy',\n",
              "  'and',\n",
              "  'upset',\n",
              "  '.'],\n",
              " ['every',\n",
              "  'single',\n",
              "  'one',\n",
              "  'of',\n",
              "  'you',\n",
              "  'there',\n",
              "  'in',\n",
              "  'the',\n",
              "  'world',\n",
              "  'have',\n",
              "  'your',\n",
              "  'own',\n",
              "  'beauty',\n",
              "  '.'],\n",
              " ['everything', 'is', 'beautiful', '!'],\n",
              " ['so',\n",
              "  'do',\n",
              "  \"n't\",\n",
              "  'sit',\n",
              "  'there',\n",
              "  'saying',\n",
              "  'i',\n",
              "  \"'m\",\n",
              "  'ugly',\n",
              "  'say',\n",
              "  'i',\n",
              "  \"'m\",\n",
              "  'pretty',\n",
              "  'or',\n",
              "  'handsome',\n",
              "  ',',\n",
              "  'damnn',\n",
              "  'care',\n",
              "  'about',\n",
              "  'what',\n",
              "  'people',\n",
              "  'say',\n",
              "  '.'],\n",
              " ['``',\n",
              "  'rumors',\n",
              "  'are',\n",
              "  'spreaded',\n",
              "  'by',\n",
              "  'haters',\n",
              "  ',',\n",
              "  'carried',\n",
              "  'by',\n",
              "  'fools',\n",
              "  'and',\n",
              "  'accepted',\n",
              "  'by',\n",
              "  'idiot',\n",
              "  '!',\n",
              "  \"''\"],\n",
              " ['treat', 'people', 'the', 'way', 'they', 'treat', 'you', '!'],\n",
              " ['be',\n",
              "  'strong',\n",
              "  'and',\n",
              "  'face',\n",
              "  'these',\n",
              "  'saddo',\n",
              "  'people',\n",
              "  'around',\n",
              "  'the',\n",
              "  'world',\n",
              "  '.'],\n",
              " ['haters', 'are', 'always', 'around', 'you', '.'],\n",
              " ['but',\n",
              "  'it',\n",
              "  'does',\n",
              "  \"n't\",\n",
              "  'matter',\n",
              "  'cause',\n",
              "  'they',\n",
              "  'are',\n",
              "  'the',\n",
              "  'ones',\n",
              "  'who',\n",
              "  'make',\n",
              "  'you',\n",
              "  'famous',\n",
              "  '.'],\n",
              " ['so', 'what', '?'],\n",
              " ['if',\n",
              "  'you',\n",
              "  \"'re\",\n",
              "  'not',\n",
              "  'beautiful',\n",
              "  ',',\n",
              "  'pretty',\n",
              "  ',',\n",
              "  'you',\n",
              "  'have',\n",
              "  'life',\n",
              "  'and',\n",
              "  'thats',\n",
              "  'the',\n",
              "  'most',\n",
              "  'of',\n",
              "  'it',\n",
              "  '.'],\n",
              " ['not',\n",
              "  'everyone',\n",
              "  'gets',\n",
              "  'to',\n",
              "  'live',\n",
              "  'and',\n",
              "  'those',\n",
              "  'who',\n",
              "  'do',\n",
              "  'are',\n",
              "  'sooo',\n",
              "  'lucky',\n",
              "  '!'],\n",
              " ['people',\n",
              "  'die',\n",
              "  ',',\n",
              "  'life',\n",
              "  'changes',\n",
              "  ',',\n",
              "  'people',\n",
              "  'come',\n",
              "  'and',\n",
              "  'go',\n",
              "  'but',\n",
              "  'guess',\n",
              "  'what',\n",
              "  'you',\n",
              "  'have',\n",
              "  'to',\n",
              "  'go',\n",
              "  'with',\n",
              "  'it',\n",
              "  'however',\n",
              "  'much',\n",
              "  'it',\n",
              "  'hurts',\n",
              "  '.'],\n",
              " ['you',\n",
              "  'miss',\n",
              "  'people',\n",
              "  'who',\n",
              "  'were',\n",
              "  'in',\n",
              "  'your',\n",
              "  'life',\n",
              "  ',',\n",
              "  'that',\n",
              "  \"'s\",\n",
              "  'the',\n",
              "  'way',\n",
              "  'they',\n",
              "  'remind',\n",
              "  'you',\n",
              "  'that',\n",
              "  'they',\n",
              "  'still',\n",
              "  'exist',\n",
              "  'in',\n",
              "  'your',\n",
              "  'life',\n",
              "  '.'],\n",
              " ['i',\n",
              "  'know',\n",
              "  'the',\n",
              "  'feeling',\n",
              "  'of',\n",
              "  'that',\n",
              "  ',',\n",
              "  'i',\n",
              "  'miss',\n",
              "  'my',\n",
              "  'handsome',\n",
              "  'uncle',\n",
              "  'as',\n",
              "  'well',\n",
              "  'but',\n",
              "  'i',\n",
              "  'know',\n",
              "  'we',\n",
              "  'can',\n",
              "  'never',\n",
              "  'meet',\n",
              "  'again',\n",
              "  '.'],\n",
              " ['i',\n",
              "  'know',\n",
              "  'he',\n",
              "  'is',\n",
              "  'not',\n",
              "  'here',\n",
              "  'anymore',\n",
              "  ',',\n",
              "  'so',\n",
              "  'what',\n",
              "  'i',\n",
              "  'will',\n",
              "  'still',\n",
              "  'love',\n",
              "  'him',\n",
              "  'the',\n",
              "  'most',\n",
              "  'in',\n",
              "  'my',\n",
              "  'life',\n",
              "  '.'],\n",
              " ['people',\n",
              "  'say',\n",
              "  'forget',\n",
              "  'the',\n",
              "  'past',\n",
              "  ',',\n",
              "  'life',\n",
              "  'in',\n",
              "  'present',\n",
              "  'and',\n",
              "  'save',\n",
              "  'the',\n",
              "  'future',\n",
              "  'for',\n",
              "  'tomorrow',\n",
              "  '.'],\n",
              " ['i',\n",
              "  'think',\n",
              "  'that',\n",
              "  'is',\n",
              "  'true',\n",
              "  ',',\n",
              "  'but',\n",
              "  'i',\n",
              "  'can',\n",
              "  'not',\n",
              "  'forget',\n",
              "  'my',\n",
              "  'past',\n",
              "  ',',\n",
              "  'it',\n",
              "  'has',\n",
              "  'all',\n",
              "  'those',\n",
              "  'beautiful',\n",
              "  'moments',\n",
              "  'which',\n",
              "  'mean',\n",
              "  'the',\n",
              "  'world',\n",
              "  'to',\n",
              "  'me',\n",
              "  '.'],\n",
              " ['it',\n",
              "  'is',\n",
              "  'the',\n",
              "  'hardest',\n",
              "  'thing',\n",
              "  'but',\n",
              "  'i',\n",
              "  'just',\n",
              "  'try',\n",
              "  'try',\n",
              "  'try',\n",
              "  'and',\n",
              "  'try',\n",
              "  '.'],\n",
              " ['do', \"n't\", 'give', 'up', 'or', 'lose', 'hope', 'on', 'anything', '.'],\n",
              " ['live', 'your', 'life', 'however', 'you', 'want', 'have', 'fun', '!'],\n",
              " ['dance', 'as', 'much', 'you', 'want', '!'],\n",
              " ['take', 'risks..', 'trust', 'yourself', '.'],\n",
              " ['believe',\n",
              "  'in',\n",
              "  'yourself',\n",
              "  '...',\n",
              "  '.',\n",
              "  'damn',\n",
              "  'care',\n",
              "  'about',\n",
              "  'haters',\n",
              "  '!'],\n",
              " ['there',\n",
              "  'is',\n",
              "  'so',\n",
              "  'much',\n",
              "  'to',\n",
              "  'do',\n",
              "  'so',\n",
              "  'stop',\n",
              "  'faffing',\n",
              "  'about.life',\n",
              "  'is',\n",
              "  'too',\n",
              "  'short',\n",
              "  'to',\n",
              "  'save',\n",
              "  'it',\n",
              "  'for',\n",
              "  'tomorrow',\n",
              "  '.'],\n",
              " ['do', \"n't\", 'give', 'up', 'and', 'hope', 'always', '!'],\n",
              " ['love', 'forever', '!', '!'],\n",
              " ['do',\n",
              "  'what',\n",
              "  'your',\n",
              "  'heart',\n",
              "  'says',\n",
              "  '...',\n",
              "  'dream',\n",
              "  'as',\n",
              "  'much',\n",
              "  'as',\n",
              "  'you',\n",
              "  'like',\n",
              "  'and',\n",
              "  'make',\n",
              "  'it',\n",
              "  'true',\n",
              "  '!'],\n",
              " ['you', 'only', 'live', 'once', 'so', 'make', 'the', 'most', 'of', 'it', '!'],\n",
              " ['<',\n",
              "  'learn',\n",
              "  'lessons',\n",
              "  'from',\n",
              "  'the',\n",
              "  'mistakes',\n",
              "  '...',\n",
              "  '.',\n",
              "  'from',\n",
              "  'this',\n",
              "  'i',\n",
              "  'learned',\n",
              "  'awful',\n",
              "  'a',\n",
              "  'lot',\n",
              "  'things',\n",
              "  '.'],\n",
              " ['i',\n",
              "  'started',\n",
              "  'to',\n",
              "  'enjoy',\n",
              "  'life',\n",
              "  'instead',\n",
              "  'of',\n",
              "  'listening',\n",
              "  'to',\n",
              "  'sad',\n",
              "  'songs',\n",
              "  'and',\n",
              "  'sitting',\n",
              "  'alone',\n",
              "  '.'],\n",
              " ['happiness',\n",
              "  'came',\n",
              "  'into',\n",
              "  'my',\n",
              "  'life',\n",
              "  'but',\n",
              "  'there',\n",
              "  'is',\n",
              "  'sadness',\n",
              "  'as',\n",
              "  'well',\n",
              "  '.'],\n",
              " ['everyday',\n",
              "  'i',\n",
              "  'used',\n",
              "  'to',\n",
              "  'dress',\n",
              "  'in',\n",
              "  'dull',\n",
              "  'clothes',\n",
              "  'now',\n",
              "  'i',\n",
              "  'love',\n",
              "  'colours',\n",
              "  'i',\n",
              "  'used',\n",
              "  'to',\n",
              "  'hate',\n",
              "  'going',\n",
              "  'out',\n",
              "  'of',\n",
              "  'my',\n",
              "  'house',\n",
              "  'but',\n",
              "  'guess',\n",
              "  'what',\n",
              "  'all',\n",
              "  'these',\n",
              "  'sound',\n",
              "  'outside',\n",
              "  'sounds',\n",
              "  'attractive',\n",
              "  'than',\n",
              "  'sad',\n",
              "  'songs',\n",
              "  '.'],\n",
              " ['rock',\n",
              "  'music',\n",
              "  'is',\n",
              "  'what',\n",
              "  'i',\n",
              "  'listen',\n",
              "  'to',\n",
              "  'now',\n",
              "  ',',\n",
              "  'sometimes',\n",
              "  'sad',\n",
              "  'as',\n",
              "  'well',\n",
              "  'all',\n",
              "  'things',\n",
              "  'in',\n",
              "  'life',\n",
              "  'depends',\n",
              "  'on',\n",
              "  'what',\n",
              "  'your',\n",
              "  'mood',\n",
              "  'and',\n",
              "  'the',\n",
              "  'situation',\n",
              "  '.']]"
            ]
          },
          "metadata": {
            "tags": []
          },
          "execution_count": 7
        }
      ]
    },
    {
      "cell_type": "code",
      "metadata": {
        "id": "a6N9uuhgsQNi",
        "colab_type": "code",
        "colab": {
          "base_uri": "https://localhost:8080/",
          "height": 51
        },
        "outputId": "2211e9a5-5f58-498c-c44b-0c1117ea9d6b"
      },
      "source": [
        "import nltk\n",
        "nltk.download('stopwords')\n",
        "#sent_word = [nltk.word_tokenize(sentence) for sentence in sentences]\n",
        "\n",
        "for i in range(len(sent_word)):\n",
        "    sent_word[i] = [word for word in sent_word[i]\n",
        "                    if word not in stopwords.words('english')]"
      ],
      "execution_count": 9,
      "outputs": [
        {
          "output_type": "stream",
          "text": [
            "[nltk_data] Downloading package stopwords to /root/nltk_data...\n",
            "[nltk_data]   Unzipping corpora/stopwords.zip.\n"
          ],
          "name": "stdout"
        }
      ]
    },
    {
      "cell_type": "code",
      "metadata": {
        "id": "msRGLz9wsc_O",
        "colab_type": "code",
        "colab": {
          "base_uri": "https://localhost:8080/",
          "height": 1000
        },
        "outputId": "c88e802c-c997-4575-8e22-580e8346d7e2"
      },
      "source": [
        "sent_word"
      ],
      "execution_count": 10,
      "outputs": [
        {
          "output_type": "execute_result",
          "data": {
            "text/plain": [
              "[['life', 'beautiful', ',', 'always', '.'],\n",
              " ['lots', 'problems', 'face', 'everyday', '.'],\n",
              " [\"n't\", 'worry', 'though', '!'],\n",
              " ['problems',\n",
              "  'make',\n",
              "  'strong',\n",
              "  ',',\n",
              "  'gives',\n",
              "  'courage',\n",
              "  'stand',\n",
              "  'alone',\n",
              "  'future',\n",
              "  '.'],\n",
              " ['life',\n",
              "  'full',\n",
              "  'moments',\n",
              "  'joy',\n",
              "  ',',\n",
              "  'pleasure',\n",
              "  ',',\n",
              "  'success',\n",
              "  'comfort',\n",
              "  'punctuated',\n",
              "  'misery',\n",
              "  ',',\n",
              "  'defeat',\n",
              "  ',',\n",
              "  'failures',\n",
              "  'problems',\n",
              "  '.'],\n",
              " ['human',\n",
              "  'earth',\n",
              "  ',',\n",
              "  'strong',\n",
              "  ',',\n",
              "  'powerful',\n",
              "  ',',\n",
              "  'wise',\n",
              "  'rich',\n",
              "  ',',\n",
              "  'experienced',\n",
              "  ',',\n",
              "  'struggle',\n",
              "  ',',\n",
              "  'suffering',\n",
              "  'failure',\n",
              "  '.'],\n",
              " ['work', 'hard', 'reach', 'highest', 'position', '.'],\n",
              " ['life', 'full', 'paths', ',', 'choose', 'right', 'one', '.'],\n",
              " ['life',\n",
              "  'interesting',\n",
              "  'amazing',\n",
              "  'like',\n",
              "  'stars',\n",
              "  'skies.with',\n",
              "  'doubt',\n",
              "  ',',\n",
              "  'life',\n",
              "  'beautiful',\n",
              "  'full',\n",
              "  'celebrations',\n",
              "  '.'],\n",
              " ['however', 'always', 'ready', 'face', 'adversity', 'challenges', '.'],\n",
              " ['difficult', 'situations', 'life', 'well.be', 'careful', '!', '!'],\n",
              " ['might', 'get', 'hurt', 'hard', '.'],\n",
              " ['life', 'sometimes', 'selfish', 'think', '.'],\n",
              " ['life', 'hard', 'handle', '.'],\n",
              " ['falling', 'love', '!'],\n",
              " ['people',\n",
              "  'tend',\n",
              "  'fall',\n",
              "  'love',\n",
              "  'nowadays',\n",
              "  'personally',\n",
              "  'think',\n",
              "  'right',\n",
              "  'time',\n",
              "  'come',\n",
              "  '...',\n",
              "  'might',\n",
              "  'also',\n",
              "  'get',\n",
              "  'hurt',\n",
              "  'love',\n",
              "  '.'],\n",
              " ['might', 'broken-hearted', 'people', 'say', '.'],\n",
              " ['life',\n",
              "  'place',\n",
              "  'people',\n",
              "  'treat',\n",
              "  'everyone',\n",
              "  'differently',\n",
              "  ',',\n",
              "  'racism',\n",
              "  'exists',\n",
              "  'well',\n",
              "  'bullying',\n",
              "  '.'],\n",
              " ['people',\n",
              "  'tend',\n",
              "  'say',\n",
              "  'bad',\n",
              "  'stuff',\n",
              "  'behind',\n",
              "  'people',\n",
              "  \"'s\",\n",
              "  'back',\n",
              "  '.'],\n",
              " ['millions',\n",
              "  'people',\n",
              "  'using',\n",
              "  'horrible',\n",
              "  'words',\n",
              "  'call',\n",
              "  'people',\n",
              "  ',',\n",
              "  'people',\n",
              "  'use',\n",
              "  'people',\n",
              "  'everyday.life',\n",
              "  'easy',\n",
              "  'view',\n",
              "  '.'],\n",
              " ['sometimes',\n",
              "  ',',\n",
              "  'want',\n",
              "  'sit',\n",
              "  'alone',\n",
              "  'question',\n",
              "  'hundred',\n",
              "  'questions',\n",
              "  '.'],\n",
              " ['ugly', 'people', 'say', '?'],\n",
              " [\"n't\", 'friends', '?'],\n",
              " ['world', 'hard', 'live', '?'],\n",
              " ['look', 'like', 'peoples', 'eyes', '?'],\n",
              " [\"n't\", 'colour', 'skin', 'everyone', 'else', '?'],\n",
              " [':', \"'\", '(', ':', \"'\", '(', 'make', 'others', 'happy', '?'],\n",
              " ['questions', 'stop', '.'],\n",
              " ['ask', 'questions', '.'],\n",
              " [\"n't\", 'answers', ',', 'want', 'scream', 'loud', 'cry.bullying', '?'],\n",
              " ['racism', '?'],\n",
              " ['?',\n",
              "  ',',\n",
              "  \"n't\",\n",
              "  'understand',\n",
              "  'people',\n",
              "  'get',\n",
              "  'making',\n",
              "  'others',\n",
              "  'unhappy',\n",
              "  'upset',\n",
              "  '.'],\n",
              " ['every', 'single', 'one', 'world', 'beauty', '.'],\n",
              " ['everything', 'beautiful', '!'],\n",
              " [\"n't\",\n",
              "  'sit',\n",
              "  'saying',\n",
              "  \"'m\",\n",
              "  'ugly',\n",
              "  'say',\n",
              "  \"'m\",\n",
              "  'pretty',\n",
              "  'handsome',\n",
              "  ',',\n",
              "  'damnn',\n",
              "  'care',\n",
              "  'people',\n",
              "  'say',\n",
              "  '.'],\n",
              " ['``',\n",
              "  'rumors',\n",
              "  'spreaded',\n",
              "  'haters',\n",
              "  ',',\n",
              "  'carried',\n",
              "  'fools',\n",
              "  'accepted',\n",
              "  'idiot',\n",
              "  '!',\n",
              "  \"''\"],\n",
              " ['treat', 'people', 'way', 'treat', '!'],\n",
              " ['strong', 'face', 'saddo', 'people', 'around', 'world', '.'],\n",
              " ['haters', 'always', 'around', '.'],\n",
              " [\"n't\", 'matter', 'cause', 'ones', 'make', 'famous', '.'],\n",
              " ['?'],\n",
              " [\"'re\", 'beautiful', ',', 'pretty', ',', 'life', 'thats', '.'],\n",
              " ['everyone', 'gets', 'live', 'sooo', 'lucky', '!'],\n",
              " ['people',\n",
              "  'die',\n",
              "  ',',\n",
              "  'life',\n",
              "  'changes',\n",
              "  ',',\n",
              "  'people',\n",
              "  'come',\n",
              "  'go',\n",
              "  'guess',\n",
              "  'go',\n",
              "  'however',\n",
              "  'much',\n",
              "  'hurts',\n",
              "  '.'],\n",
              " ['miss',\n",
              "  'people',\n",
              "  'life',\n",
              "  ',',\n",
              "  \"'s\",\n",
              "  'way',\n",
              "  'remind',\n",
              "  'still',\n",
              "  'exist',\n",
              "  'life',\n",
              "  '.'],\n",
              " ['know',\n",
              "  'feeling',\n",
              "  ',',\n",
              "  'miss',\n",
              "  'handsome',\n",
              "  'uncle',\n",
              "  'well',\n",
              "  'know',\n",
              "  'never',\n",
              "  'meet',\n",
              "  '.'],\n",
              " ['know', 'anymore', ',', 'still', 'love', 'life', '.'],\n",
              " ['people',\n",
              "  'say',\n",
              "  'forget',\n",
              "  'past',\n",
              "  ',',\n",
              "  'life',\n",
              "  'present',\n",
              "  'save',\n",
              "  'future',\n",
              "  'tomorrow',\n",
              "  '.'],\n",
              " ['think',\n",
              "  'true',\n",
              "  ',',\n",
              "  'forget',\n",
              "  'past',\n",
              "  ',',\n",
              "  'beautiful',\n",
              "  'moments',\n",
              "  'mean',\n",
              "  'world',\n",
              "  '.'],\n",
              " ['hardest', 'thing', 'try', 'try', 'try', 'try', '.'],\n",
              " [\"n't\", 'give', 'lose', 'hope', 'anything', '.'],\n",
              " ['live', 'life', 'however', 'want', 'fun', '!'],\n",
              " ['dance', 'much', 'want', '!'],\n",
              " ['take', 'risks..', 'trust', '.'],\n",
              " ['believe', '...', '.', 'damn', 'care', 'haters', '!'],\n",
              " ['much', 'stop', 'faffing', 'about.life', 'short', 'save', 'tomorrow', '.'],\n",
              " [\"n't\", 'give', 'hope', 'always', '!'],\n",
              " ['love', 'forever', '!', '!'],\n",
              " ['heart', 'says', '...', 'dream', 'much', 'like', 'make', 'true', '!'],\n",
              " ['live', 'make', '!'],\n",
              " ['<',\n",
              "  'learn',\n",
              "  'lessons',\n",
              "  'mistakes',\n",
              "  '...',\n",
              "  '.',\n",
              "  'learned',\n",
              "  'awful',\n",
              "  'lot',\n",
              "  'things',\n",
              "  '.'],\n",
              " ['started',\n",
              "  'enjoy',\n",
              "  'life',\n",
              "  'instead',\n",
              "  'listening',\n",
              "  'sad',\n",
              "  'songs',\n",
              "  'sitting',\n",
              "  'alone',\n",
              "  '.'],\n",
              " ['happiness', 'came', 'life', 'sadness', 'well', '.'],\n",
              " ['everyday',\n",
              "  'used',\n",
              "  'dress',\n",
              "  'dull',\n",
              "  'clothes',\n",
              "  'love',\n",
              "  'colours',\n",
              "  'used',\n",
              "  'hate',\n",
              "  'going',\n",
              "  'house',\n",
              "  'guess',\n",
              "  'sound',\n",
              "  'outside',\n",
              "  'sounds',\n",
              "  'attractive',\n",
              "  'sad',\n",
              "  'songs',\n",
              "  '.'],\n",
              " ['rock',\n",
              "  'music',\n",
              "  'listen',\n",
              "  ',',\n",
              "  'sometimes',\n",
              "  'sad',\n",
              "  'well',\n",
              "  'things',\n",
              "  'life',\n",
              "  'depends',\n",
              "  'mood',\n",
              "  'situation',\n",
              "  '.']]"
            ]
          },
          "metadata": {
            "tags": []
          },
          "execution_count": 10
        }
      ]
    },
    {
      "cell_type": "code",
      "metadata": {
        "id": "ftpZ6YnGsshP",
        "colab_type": "code",
        "colab": {}
      },
      "source": [
        "# Training the Word2Vec model\n",
        "model = Word2Vec(sent_word, min_count=1)\n",
        "\n",
        "\n",
        "words = model.wv.vocab"
      ],
      "execution_count": 11,
      "outputs": []
    },
    {
      "cell_type": "code",
      "metadata": {
        "id": "Y9OMvr18s3yk",
        "colab_type": "code",
        "colab": {
          "base_uri": "https://localhost:8080/",
          "height": 442
        },
        "outputId": "3f557a59-a06d-423d-e462-fca0c8f6e1da"
      },
      "source": [
        "# Test the word vectors\n",
        "vector = model.wv['life']\n",
        "\n",
        "print(vector)"
      ],
      "execution_count": 12,
      "outputs": [
        {
          "output_type": "stream",
          "text": [
            "[-4.3015280e-03  2.3699035e-03  4.9297591e-03 -1.7948226e-04\n",
            "  2.8595147e-03  1.7433430e-03  2.4618360e-03  1.6619292e-03\n",
            "  1.0764451e-04 -1.6148047e-03 -2.0032916e-03  4.6902760e-03\n",
            " -2.4756277e-03  3.9780098e-03  2.8382267e-03 -3.9765475e-04\n",
            "  4.3277573e-03 -2.9258747e-04  3.7552058e-04  1.9295138e-03\n",
            " -1.2540773e-03  7.1918452e-04 -3.8116386e-03  3.7867380e-03\n",
            " -4.6777814e-03  2.2854726e-03 -1.9409565e-03 -4.8076231e-03\n",
            "  4.8249257e-03  3.6260870e-04 -2.2306610e-03  2.5497819e-03\n",
            "  1.6052234e-05  3.7395555e-04 -2.0536662e-03  2.5926968e-03\n",
            " -1.5593763e-03  1.9631658e-03  3.0954594e-03  7.6593482e-04\n",
            " -2.7128810e-03  4.9933875e-03 -4.3085706e-03  2.4968490e-03\n",
            "  3.2183839e-04  3.2020425e-03  1.2556490e-03  4.3359390e-03\n",
            " -4.5480015e-04 -3.0575393e-04 -4.4956491e-03 -4.1843792e-03\n",
            "  6.7206449e-04  2.0057099e-05 -2.2554907e-05 -1.8947117e-03\n",
            "  1.9392822e-03  2.8945617e-03 -4.0024347e-03 -2.8155847e-03\n",
            " -2.4487588e-03  2.9441125e-03  3.0326890e-03  2.0494405e-03\n",
            "  3.2719832e-03 -4.7850385e-03 -3.9394880e-03  4.1796439e-03\n",
            " -3.4436388e-03  8.1108569e-04  1.3525528e-04 -7.9677481e-04\n",
            " -5.3979945e-04 -3.7897648e-03 -2.6704103e-03  2.7332718e-03\n",
            "  7.1123376e-04  7.5759430e-04  7.1923388e-04  1.0088235e-04\n",
            "  4.7352837e-04 -2.2832181e-03 -1.7541934e-04  5.0302455e-03\n",
            " -6.4783596e-04 -3.6301939e-03 -1.5395265e-03  4.2647957e-03\n",
            "  1.7348533e-03 -6.6257264e-05  1.2653157e-03  4.2796284e-03\n",
            " -2.2867899e-03 -3.3744602e-03  2.5529990e-03  1.1862535e-03\n",
            "  2.4287202e-03  4.0339868e-04 -2.0784419e-03  3.3607509e-03]\n"
          ],
          "name": "stdout"
        }
      ]
    },
    {
      "cell_type": "code",
      "metadata": {
        "id": "A4OoF7hbs7-y",
        "colab_type": "code",
        "colab": {
          "base_uri": "https://localhost:8080/",
          "height": 411
        },
        "outputId": "0670bedd-baf5-439f-b055-9ff7cc0bf507"
      },
      "source": [
        "# Most similar words\n",
        "similar = model.wv.most_similar('life',topn=20)\n",
        "\n",
        "similar"
      ],
      "execution_count": 13,
      "outputs": [
        {
          "output_type": "stream",
          "text": [
            "/usr/local/lib/python3.6/dist-packages/gensim/matutils.py:737: FutureWarning: Conversion of the second argument of issubdtype from `int` to `np.signedinteger` is deprecated. In future, it will be treated as `np.int64 == np.dtype(int).type`.\n",
            "  if np.issubdtype(vec.dtype, np.int):\n"
          ],
          "name": "stderr"
        },
        {
          "output_type": "execute_result",
          "data": {
            "text/plain": [
              "[('situations', 0.23987841606140137),\n",
              " ('horrible', 0.224794402718544),\n",
              " ('bullying', 0.22182878851890564),\n",
              " ('friends', 0.22092264890670776),\n",
              " ('present', 0.21633130311965942),\n",
              " ('adversity', 0.21314877271652222),\n",
              " ('?', 0.2020130157470703),\n",
              " ('happy', 0.2008058726787567),\n",
              " ('selfish', 0.1951473355293274),\n",
              " ('scream', 0.18527300655841827),\n",
              " ('personally', 0.17042213678359985),\n",
              " ('house', 0.1544904112815857),\n",
              " ('sooo', 0.14774207770824432),\n",
              " ('damnn', 0.14485765993595123),\n",
              " ('differently', 0.14464950561523438),\n",
              " ('one', 0.14298412203788757),\n",
              " ('question', 0.1411420851945877),\n",
              " ('meet', 0.13980832695960999),\n",
              " ('learn', 0.13784180581569672),\n",
              " ('clothes', 0.13013915717601776)]"
            ]
          },
          "metadata": {
            "tags": []
          },
          "execution_count": 13
        }
      ]
    },
    {
      "cell_type": "code",
      "metadata": {
        "id": "4s_EVHWUtPpv",
        "colab_type": "code",
        "colab": {
          "base_uri": "https://localhost:8080/",
          "height": 88
        },
        "outputId": "adb1091b-14f9-44c7-f617-c5d4e5a0cf68"
      },
      "source": [
        "# You can also check words similarity and compare above\n",
        "model.wv.similarity(w1='problems',w2='hard')"
      ],
      "execution_count": 15,
      "outputs": [
        {
          "output_type": "stream",
          "text": [
            "/usr/local/lib/python3.6/dist-packages/gensim/matutils.py:737: FutureWarning: Conversion of the second argument of issubdtype from `int` to `np.signedinteger` is deprecated. In future, it will be treated as `np.int64 == np.dtype(int).type`.\n",
            "  if np.issubdtype(vec.dtype, np.int):\n"
          ],
          "name": "stderr"
        },
        {
          "output_type": "execute_result",
          "data": {
            "text/plain": [
              "0.07832371"
            ]
          },
          "metadata": {
            "tags": []
          },
          "execution_count": 15
        }
      ]
    },
    {
      "cell_type": "code",
      "metadata": {
        "id": "1r3oURU2tmx4",
        "colab_type": "code",
        "colab": {
          "base_uri": "https://localhost:8080/",
          "height": 88
        },
        "outputId": "990d1338-e169-428d-e34e-9cfd74e4c875"
      },
      "source": [
        "model.wv.similarity(w1='moments',w2='situation')"
      ],
      "execution_count": 17,
      "outputs": [
        {
          "output_type": "stream",
          "text": [
            "/usr/local/lib/python3.6/dist-packages/gensim/matutils.py:737: FutureWarning: Conversion of the second argument of issubdtype from `int` to `np.signedinteger` is deprecated. In future, it will be treated as `np.int64 == np.dtype(int).type`.\n",
            "  if np.issubdtype(vec.dtype, np.int):\n"
          ],
          "name": "stderr"
        },
        {
          "output_type": "execute_result",
          "data": {
            "text/plain": [
              "0.045004003"
            ]
          },
          "metadata": {
            "tags": []
          },
          "execution_count": 17
        }
      ]
    },
    {
      "cell_type": "code",
      "metadata": {
        "id": "a3J4vG2Ct2bn",
        "colab_type": "code",
        "colab": {
          "base_uri": "https://localhost:8080/",
          "height": 88
        },
        "outputId": "9cee2b34-1d3c-476b-ac47-36b3ece53c9b"
      },
      "source": [
        "model.wv.similarity(w1='defeat',w2='failure')"
      ],
      "execution_count": 18,
      "outputs": [
        {
          "output_type": "stream",
          "text": [
            "/usr/local/lib/python3.6/dist-packages/gensim/matutils.py:737: FutureWarning: Conversion of the second argument of issubdtype from `int` to `np.signedinteger` is deprecated. In future, it will be treated as `np.int64 == np.dtype(int).type`.\n",
            "  if np.issubdtype(vec.dtype, np.int):\n"
          ],
          "name": "stderr"
        },
        {
          "output_type": "execute_result",
          "data": {
            "text/plain": [
              "0.11707923"
            ]
          },
          "metadata": {
            "tags": []
          },
          "execution_count": 18
        }
      ]
    },
    {
      "cell_type": "code",
      "metadata": {
        "id": "fOVV1bQKuJer",
        "colab_type": "code",
        "colab": {
          "base_uri": "https://localhost:8080/",
          "height": 88
        },
        "outputId": "018293ca-6ac9-4b2f-df05-d7d81eb566bc"
      },
      "source": [
        "#Same words similarity\n",
        "model.wv.similarity(w1='future',w2='future')"
      ],
      "execution_count": 22,
      "outputs": [
        {
          "output_type": "stream",
          "text": [
            "/usr/local/lib/python3.6/dist-packages/gensim/matutils.py:737: FutureWarning: Conversion of the second argument of issubdtype from `int` to `np.signedinteger` is deprecated. In future, it will be treated as `np.int64 == np.dtype(int).type`.\n",
            "  if np.issubdtype(vec.dtype, np.int):\n"
          ],
          "name": "stderr"
        },
        {
          "output_type": "execute_result",
          "data": {
            "text/plain": [
              "0.99999994"
            ]
          },
          "metadata": {
            "tags": []
          },
          "execution_count": 22
        }
      ]
    },
    {
      "cell_type": "code",
      "metadata": {
        "id": "c2nRuxKjuZLM",
        "colab_type": "code",
        "colab": {
          "base_uri": "https://localhost:8080/",
          "height": 88
        },
        "outputId": "3158154d-72f8-46e2-b714-4b33863ac390"
      },
      "source": [
        "model.wv.similarity(w1='joy',w2='pleasure')"
      ],
      "execution_count": 23,
      "outputs": [
        {
          "output_type": "stream",
          "text": [
            "/usr/local/lib/python3.6/dist-packages/gensim/matutils.py:737: FutureWarning: Conversion of the second argument of issubdtype from `int` to `np.signedinteger` is deprecated. In future, it will be treated as `np.int64 == np.dtype(int).type`.\n",
            "  if np.issubdtype(vec.dtype, np.int):\n"
          ],
          "name": "stderr"
        },
        {
          "output_type": "execute_result",
          "data": {
            "text/plain": [
              "-0.14760612"
            ]
          },
          "metadata": {
            "tags": []
          },
          "execution_count": 23
        }
      ]
    },
    {
      "cell_type": "code",
      "metadata": {
        "id": "iJwik-GAvQ32",
        "colab_type": "code",
        "colab": {
          "base_uri": "https://localhost:8080/",
          "height": 88
        },
        "outputId": "802dd61e-9c80-4fc4-b42e-dfb351c32fbf"
      },
      "source": [
        "model.wv.similarity(w1='struggle',w2='suffering')"
      ],
      "execution_count": 24,
      "outputs": [
        {
          "output_type": "stream",
          "text": [
            "/usr/local/lib/python3.6/dist-packages/gensim/matutils.py:737: FutureWarning: Conversion of the second argument of issubdtype from `int` to `np.signedinteger` is deprecated. In future, it will be treated as `np.int64 == np.dtype(int).type`.\n",
            "  if np.issubdtype(vec.dtype, np.int):\n"
          ],
          "name": "stderr"
        },
        {
          "output_type": "execute_result",
          "data": {
            "text/plain": [
              "0.2323225"
            ]
          },
          "metadata": {
            "tags": []
          },
          "execution_count": 24
        }
      ]
    },
    {
      "cell_type": "code",
      "metadata": {
        "id": "ancYQYWGvcNJ",
        "colab_type": "code",
        "colab": {
          "base_uri": "https://localhost:8080/",
          "height": 88
        },
        "outputId": "c7fb6b25-993b-4601-8648-2fd38846ade0"
      },
      "source": [
        "model.wv.similarity(w1='strong',w2='powerful')"
      ],
      "execution_count": 25,
      "outputs": [
        {
          "output_type": "stream",
          "text": [
            "/usr/local/lib/python3.6/dist-packages/gensim/matutils.py:737: FutureWarning: Conversion of the second argument of issubdtype from `int` to `np.signedinteger` is deprecated. In future, it will be treated as `np.int64 == np.dtype(int).type`.\n",
            "  if np.issubdtype(vec.dtype, np.int):\n"
          ],
          "name": "stderr"
        },
        {
          "output_type": "execute_result",
          "data": {
            "text/plain": [
              "-0.062759355"
            ]
          },
          "metadata": {
            "tags": []
          },
          "execution_count": 25
        }
      ]
    },
    {
      "cell_type": "code",
      "metadata": {
        "id": "vlf500FPvkFM",
        "colab_type": "code",
        "colab": {
          "base_uri": "https://localhost:8080/",
          "height": 88
        },
        "outputId": "1801c5dc-b730-4248-cc04-ec13ab8235c5"
      },
      "source": [
        "model.wv.similarity(w1='celebrations',w2='joy')"
      ],
      "execution_count": 27,
      "outputs": [
        {
          "output_type": "stream",
          "text": [
            "/usr/local/lib/python3.6/dist-packages/gensim/matutils.py:737: FutureWarning: Conversion of the second argument of issubdtype from `int` to `np.signedinteger` is deprecated. In future, it will be treated as `np.int64 == np.dtype(int).type`.\n",
            "  if np.issubdtype(vec.dtype, np.int):\n"
          ],
          "name": "stderr"
        },
        {
          "output_type": "execute_result",
          "data": {
            "text/plain": [
              "0.051797688"
            ]
          },
          "metadata": {
            "tags": []
          },
          "execution_count": 27
        }
      ]
    },
    {
      "cell_type": "code",
      "metadata": {
        "id": "uGWXIIz7wZUd",
        "colab_type": "code",
        "colab": {
          "base_uri": "https://localhost:8080/",
          "height": 88
        },
        "outputId": "7887abb4-b24d-4aaa-ad15-ed6d45c909ea"
      },
      "source": [
        "model.wv.similarity(w1='human',w2='people')"
      ],
      "execution_count": 29,
      "outputs": [
        {
          "output_type": "stream",
          "text": [
            "/usr/local/lib/python3.6/dist-packages/gensim/matutils.py:737: FutureWarning: Conversion of the second argument of issubdtype from `int` to `np.signedinteger` is deprecated. In future, it will be treated as `np.int64 == np.dtype(int).type`.\n",
            "  if np.issubdtype(vec.dtype, np.int):\n"
          ],
          "name": "stderr"
        },
        {
          "output_type": "execute_result",
          "data": {
            "text/plain": [
              "-0.11677838"
            ]
          },
          "metadata": {
            "tags": []
          },
          "execution_count": 29
        }
      ]
    },
    {
      "cell_type": "code",
      "metadata": {
        "id": "nMA6nNGiwwjD",
        "colab_type": "code",
        "colab": {
          "base_uri": "https://localhost:8080/",
          "height": 88
        },
        "outputId": "f6a591d5-449a-42a9-fe24-6ecd339e243a"
      },
      "source": [
        "model.wv.similarity(w1='hurt',w2='broken-hearted')"
      ],
      "execution_count": 30,
      "outputs": [
        {
          "output_type": "stream",
          "text": [
            "/usr/local/lib/python3.6/dist-packages/gensim/matutils.py:737: FutureWarning: Conversion of the second argument of issubdtype from `int` to `np.signedinteger` is deprecated. In future, it will be treated as `np.int64 == np.dtype(int).type`.\n",
            "  if np.issubdtype(vec.dtype, np.int):\n"
          ],
          "name": "stderr"
        },
        {
          "output_type": "execute_result",
          "data": {
            "text/plain": [
              "0.014123043"
            ]
          },
          "metadata": {
            "tags": []
          },
          "execution_count": 30
        }
      ]
    },
    {
      "cell_type": "code",
      "metadata": {
        "id": "Dn3GAfITxB-Q",
        "colab_type": "code",
        "colab": {
          "base_uri": "https://localhost:8080/",
          "height": 88
        },
        "outputId": "df428bf0-ee95-45c4-b785-d83a7309f227"
      },
      "source": [
        "model.wv.similarity(w1='unhappy',w2='upset')"
      ],
      "execution_count": 31,
      "outputs": [
        {
          "output_type": "stream",
          "text": [
            "/usr/local/lib/python3.6/dist-packages/gensim/matutils.py:737: FutureWarning: Conversion of the second argument of issubdtype from `int` to `np.signedinteger` is deprecated. In future, it will be treated as `np.int64 == np.dtype(int).type`.\n",
            "  if np.issubdtype(vec.dtype, np.int):\n"
          ],
          "name": "stderr"
        },
        {
          "output_type": "execute_result",
          "data": {
            "text/plain": [
              "-0.056426823"
            ]
          },
          "metadata": {
            "tags": []
          },
          "execution_count": 31
        }
      ]
    },
    {
      "cell_type": "code",
      "metadata": {
        "id": "-FcQ3AYwxKl2",
        "colab_type": "code",
        "colab": {
          "base_uri": "https://localhost:8080/",
          "height": 88
        },
        "outputId": "6ce81943-ab15-4cc1-a6d0-8ded4ca0c3e4"
      },
      "source": [
        "model.wv.similarity(w1='beauty',w2='beautiful')"
      ],
      "execution_count": 32,
      "outputs": [
        {
          "output_type": "stream",
          "text": [
            "/usr/local/lib/python3.6/dist-packages/gensim/matutils.py:737: FutureWarning: Conversion of the second argument of issubdtype from `int` to `np.signedinteger` is deprecated. In future, it will be treated as `np.int64 == np.dtype(int).type`.\n",
            "  if np.issubdtype(vec.dtype, np.int):\n"
          ],
          "name": "stderr"
        },
        {
          "output_type": "execute_result",
          "data": {
            "text/plain": [
              "0.055849083"
            ]
          },
          "metadata": {
            "tags": []
          },
          "execution_count": 32
        }
      ]
    },
    {
      "cell_type": "code",
      "metadata": {
        "id": "kMZBkdonxUNv",
        "colab_type": "code",
        "colab": {
          "base_uri": "https://localhost:8080/",
          "height": 88
        },
        "outputId": "85c49363-33ee-41b2-9e81-b37f1ca16b0d"
      },
      "source": [
        "model.wv.similarity(w1='life',w2='live')"
      ],
      "execution_count": 33,
      "outputs": [
        {
          "output_type": "stream",
          "text": [
            "/usr/local/lib/python3.6/dist-packages/gensim/matutils.py:737: FutureWarning: Conversion of the second argument of issubdtype from `int` to `np.signedinteger` is deprecated. In future, it will be treated as `np.int64 == np.dtype(int).type`.\n",
            "  if np.issubdtype(vec.dtype, np.int):\n"
          ],
          "name": "stderr"
        },
        {
          "output_type": "execute_result",
          "data": {
            "text/plain": [
              "-0.14613055"
            ]
          },
          "metadata": {
            "tags": []
          },
          "execution_count": 33
        }
      ]
    },
    {
      "cell_type": "code",
      "metadata": {
        "id": "XqGfzP26xc_m",
        "colab_type": "code",
        "colab": {
          "base_uri": "https://localhost:8080/",
          "height": 88
        },
        "outputId": "6fd310da-104e-4208-de13-ad510a8f5b86"
      },
      "source": [
        "model.wv.similarity(w1='future',w2='tomorrow')"
      ],
      "execution_count": 34,
      "outputs": [
        {
          "output_type": "stream",
          "text": [
            "/usr/local/lib/python3.6/dist-packages/gensim/matutils.py:737: FutureWarning: Conversion of the second argument of issubdtype from `int` to `np.signedinteger` is deprecated. In future, it will be treated as `np.int64 == np.dtype(int).type`.\n",
            "  if np.issubdtype(vec.dtype, np.int):\n"
          ],
          "name": "stderr"
        },
        {
          "output_type": "execute_result",
          "data": {
            "text/plain": [
              "0.040817168"
            ]
          },
          "metadata": {
            "tags": []
          },
          "execution_count": 34
        }
      ]
    },
    {
      "cell_type": "code",
      "metadata": {
        "id": "bxSqLDkkx1nd",
        "colab_type": "code",
        "colab": {
          "base_uri": "https://localhost:8080/",
          "height": 88
        },
        "outputId": "85540a64-edd4-45a8-e99b-e9d7ba55abcf"
      },
      "source": [
        "model.wv.similarity(w1='selfish',w2='mean')"
      ],
      "execution_count": 35,
      "outputs": [
        {
          "output_type": "stream",
          "text": [
            "/usr/local/lib/python3.6/dist-packages/gensim/matutils.py:737: FutureWarning: Conversion of the second argument of issubdtype from `int` to `np.signedinteger` is deprecated. In future, it will be treated as `np.int64 == np.dtype(int).type`.\n",
            "  if np.issubdtype(vec.dtype, np.int):\n"
          ],
          "name": "stderr"
        },
        {
          "output_type": "execute_result",
          "data": {
            "text/plain": [
              "-0.056037597"
            ]
          },
          "metadata": {
            "tags": []
          },
          "execution_count": 35
        }
      ]
    },
    {
      "cell_type": "code",
      "metadata": {
        "id": "Zaz5dRAhx9ex",
        "colab_type": "code",
        "colab": {
          "base_uri": "https://localhost:8080/",
          "height": 88
        },
        "outputId": "7300594e-3e7b-4015-c491-54c4534ba857"
      },
      "source": [
        "model.wv.similarity(w1='enjoy',w2='joy')"
      ],
      "execution_count": 36,
      "outputs": [
        {
          "output_type": "stream",
          "text": [
            "/usr/local/lib/python3.6/dist-packages/gensim/matutils.py:737: FutureWarning: Conversion of the second argument of issubdtype from `int` to `np.signedinteger` is deprecated. In future, it will be treated as `np.int64 == np.dtype(int).type`.\n",
            "  if np.issubdtype(vec.dtype, np.int):\n"
          ],
          "name": "stderr"
        },
        {
          "output_type": "execute_result",
          "data": {
            "text/plain": [
              "0.08439126"
            ]
          },
          "metadata": {
            "tags": []
          },
          "execution_count": 36
        }
      ]
    },
    {
      "cell_type": "code",
      "metadata": {
        "id": "DuBQmTkSyS0o",
        "colab_type": "code",
        "colab": {
          "base_uri": "https://localhost:8080/",
          "height": 88
        },
        "outputId": "533b8c8f-f57a-42f1-92b3-54f38412bd9a"
      },
      "source": [
        "model.wv.similarity(w1='sad',w2='hurt')"
      ],
      "execution_count": 37,
      "outputs": [
        {
          "output_type": "stream",
          "text": [
            "/usr/local/lib/python3.6/dist-packages/gensim/matutils.py:737: FutureWarning: Conversion of the second argument of issubdtype from `int` to `np.signedinteger` is deprecated. In future, it will be treated as `np.int64 == np.dtype(int).type`.\n",
            "  if np.issubdtype(vec.dtype, np.int):\n"
          ],
          "name": "stderr"
        },
        {
          "output_type": "execute_result",
          "data": {
            "text/plain": [
              "0.086256884"
            ]
          },
          "metadata": {
            "tags": []
          },
          "execution_count": 37
        }
      ]
    },
    {
      "cell_type": "code",
      "metadata": {
        "id": "kz-I9Tp3yamO",
        "colab_type": "code",
        "colab": {
          "base_uri": "https://localhost:8080/",
          "height": 88
        },
        "outputId": "134060d9-2270-4b76-f108-6289621f9fcc"
      },
      "source": [
        "model.wv.similarity(w1='sad',w2='alone')"
      ],
      "execution_count": 38,
      "outputs": [
        {
          "output_type": "stream",
          "text": [
            "/usr/local/lib/python3.6/dist-packages/gensim/matutils.py:737: FutureWarning: Conversion of the second argument of issubdtype from `int` to `np.signedinteger` is deprecated. In future, it will be treated as `np.int64 == np.dtype(int).type`.\n",
            "  if np.issubdtype(vec.dtype, np.int):\n"
          ],
          "name": "stderr"
        },
        {
          "output_type": "execute_result",
          "data": {
            "text/plain": [
              "0.13597728"
            ]
          },
          "metadata": {
            "tags": []
          },
          "execution_count": 38
        }
      ]
    },
    {
      "cell_type": "code",
      "metadata": {
        "id": "c9V24NQjydmJ",
        "colab_type": "code",
        "colab": {
          "base_uri": "https://localhost:8080/",
          "height": 88
        },
        "outputId": "0b8999c2-6e78-4d0a-d6f2-62274e90e4d7"
      },
      "source": [
        "model.wv.similarity(w1='sound',w2='songs')"
      ],
      "execution_count": 45,
      "outputs": [
        {
          "output_type": "stream",
          "text": [
            "/usr/local/lib/python3.6/dist-packages/gensim/matutils.py:737: FutureWarning: Conversion of the second argument of issubdtype from `int` to `np.signedinteger` is deprecated. In future, it will be treated as `np.int64 == np.dtype(int).type`.\n",
            "  if np.issubdtype(vec.dtype, np.int):\n"
          ],
          "name": "stderr"
        },
        {
          "output_type": "execute_result",
          "data": {
            "text/plain": [
              "-0.13685766"
            ]
          },
          "metadata": {
            "tags": []
          },
          "execution_count": 45
        }
      ]
    },
    {
      "cell_type": "code",
      "metadata": {
        "id": "5sRtIX2LymyW",
        "colab_type": "code",
        "colab": {
          "base_uri": "https://localhost:8080/",
          "height": 88
        },
        "outputId": "80c9d883-e3d1-454d-c101-c424eddf9158"
      },
      "source": [
        "model.wv.similarity(w1='listening',w2='songs')"
      ],
      "execution_count": 46,
      "outputs": [
        {
          "output_type": "stream",
          "text": [
            "/usr/local/lib/python3.6/dist-packages/gensim/matutils.py:737: FutureWarning: Conversion of the second argument of issubdtype from `int` to `np.signedinteger` is deprecated. In future, it will be treated as `np.int64 == np.dtype(int).type`.\n",
            "  if np.issubdtype(vec.dtype, np.int):\n"
          ],
          "name": "stderr"
        },
        {
          "output_type": "execute_result",
          "data": {
            "text/plain": [
              "0.050470024"
            ]
          },
          "metadata": {
            "tags": []
          },
          "execution_count": 46
        }
      ]
    },
    {
      "cell_type": "code",
      "metadata": {
        "id": "6uM8ii9vzVpU",
        "colab_type": "code",
        "colab": {
          "base_uri": "https://localhost:8080/",
          "height": 537
        },
        "outputId": "c3f468c3-2f6d-46ef-c6b4-8525cf624cdf"
      },
      "source": [
        "from sklearn.manifold import  TSNE\n",
        "vocab = ['life','live','joy','future','present','tomorrow','friends','happy','forget','past','success','defeat','sad','hurt','broken-hearted','give',\n",
        "         'take','miss','remind','strong','powerful','world','human','people','struggle','suffering','situations','everyone','changes','hurts','failure']\n",
        "def tsne_plot(model):\n",
        "    labels = []\n",
        "    wordvecs = []\n",
        "\n",
        "    for word in vocab:\n",
        "        wordvecs.append(model[word])\n",
        "        labels.append(word)\n",
        "    \n",
        "    tsne_model = TSNE(perplexity=3, n_components=3, init='pca', random_state=42)\n",
        "    coordinates = tsne_model.fit_transform(wordvecs)\n",
        "\n",
        "    x = []\n",
        "    y = []\n",
        "    for value in coordinates:\n",
        "        x.append(value[0])\n",
        "        y.append(value[1])\n",
        "        \n",
        "    plt.figure(figsize=(15,8)) \n",
        "    for i in range(len(x)):\n",
        "        plt.scatter(x[i],y[i])\n",
        "        plt.annotate(labels[i],\n",
        "                     xy=(x[i], y[i]),\n",
        "                     xytext=(2, 2),\n",
        "                     textcoords='offset points', ha='left')\n",
        "\n",
        "    plt.show()\n",
        "\n",
        "tsne_plot(model)"
      ],
      "execution_count": 50,
      "outputs": [
        {
          "output_type": "stream",
          "text": [
            "/usr/local/lib/python3.6/dist-packages/ipykernel_launcher.py:9: DeprecationWarning: Call to deprecated `__getitem__` (Method will be removed in 4.0.0, use self.wv.__getitem__() instead).\n",
            "  if __name__ == '__main__':\n"
          ],
          "name": "stderr"
        },
        {
          "output_type": "display_data",
          "data": {
            "image/png": "[encoded data removed]",
            "text/plain": [
              "<Figure size 1080x576 with 1 Axes>"
            ]
          },
          "metadata": {
            "tags": [],
            "needs_background": "light"
          }
        }
      ]
    },
    {
      "cell_type": "code",
      "metadata": {
        "id": "2xXNP1yQ00r2",
        "colab_type": "code",
        "colab": {}
      },
      "source": [
        ""
      ],
      "execution_count": null,
      "outputs": []
    }
  ]
}