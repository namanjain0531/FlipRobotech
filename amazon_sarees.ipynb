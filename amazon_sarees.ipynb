{
 "cells": [
  {
   "cell_type": "code",
   "execution_count": 1,
   "metadata": {},
   "outputs": [],
   "source": [
    "from selenium import webdriver\n",
    "import os"
   ]
  },
  {
   "cell_type": "code",
   "execution_count": 2,
   "metadata": {},
   "outputs": [],
   "source": [
    "browser=webdriver.Chrome(\"C:/Users/HP/Desktop/images/chromedriver_win32/chromedriver.exe\")"
   ]
  },
  {
   "cell_type": "code",
   "execution_count": 3,
   "metadata": {},
   "outputs": [],
   "source": [
    "url=browser.get('https://www.amazon.in/s?k=sarees+for+women&page=2&crid=Z17H444BQ9RT&qid=1594382049&sprefix=sarees+for+women%2Caps%2C305&ref=sr_pg_2')"
   ]
  },
  {
   "cell_type": "code",
   "execution_count": 4,
   "metadata": {},
   "outputs": [],
   "source": [
    "def make_directory(dirname):\n",
    "    current_path=os.getcwd()\n",
    "    path=os.path.join(current_path,dirname)\n",
    "    if not os.path.exists(path):\n",
    "        os.makedirs(path)"
   ]
  },
  {
   "cell_type": "code",
   "execution_count": 5,
   "metadata": {},
   "outputs": [],
   "source": [
    "make_directory(\"amazon_sarees\")"
   ]
  },
  {
   "cell_type": "code",
   "execution_count": 6,
   "metadata": {},
   "outputs": [
    {
     "name": "stdout",
     "output_type": "stream",
     "text": [
      "[<selenium.webdriver.remote.webelement.WebElement (session=\"c4645249e3f56b044a9e2456835e8df9\", element=\"f008a3b8-9b59-4fff-8b00-3629338afb8d\")>, <selenium.webdriver.remote.webelement.WebElement (session=\"c4645249e3f56b044a9e2456835e8df9\", element=\"1843c988-5f5a-412f-b663-967d647dec10\")>, <selenium.webdriver.remote.webelement.WebElement (session=\"c4645249e3f56b044a9e2456835e8df9\", element=\"6e0c68b3-72c6-4fc5-ac9f-79747c110242\")>, <selenium.webdriver.remote.webelement.WebElement (session=\"c4645249e3f56b044a9e2456835e8df9\", element=\"d8a2b7c4-c2d2-4d62-aba9-0294c53854cc\")>, <selenium.webdriver.remote.webelement.WebElement (session=\"c4645249e3f56b044a9e2456835e8df9\", element=\"97bc900b-43e5-48ec-ba08-bc2676bce64c\")>, <selenium.webdriver.remote.webelement.WebElement (session=\"c4645249e3f56b044a9e2456835e8df9\", element=\"3a715a96-aac1-438f-81b3-6c08a7f88ffa\")>, <selenium.webdriver.remote.webelement.WebElement (session=\"c4645249e3f56b044a9e2456835e8df9\", element=\"5f8973f6-ba75-4bb6-ad0f-569f8273cdb9\")>, <selenium.webdriver.remote.webelement.WebElement (session=\"c4645249e3f56b044a9e2456835e8df9\", element=\"a57315a3-0951-40f9-86ac-dd58a8b89d30\")>, <selenium.webdriver.remote.webelement.WebElement (session=\"c4645249e3f56b044a9e2456835e8df9\", element=\"f672cb01-df07-49d4-81ac-b4c9afc37d76\")>, <selenium.webdriver.remote.webelement.WebElement (session=\"c4645249e3f56b044a9e2456835e8df9\", element=\"e0a57d3e-918a-4661-9654-af75327f19fb\")>, <selenium.webdriver.remote.webelement.WebElement (session=\"c4645249e3f56b044a9e2456835e8df9\", element=\"29cabdf8-fc98-4d66-8e91-45d3e284072c\")>, <selenium.webdriver.remote.webelement.WebElement (session=\"c4645249e3f56b044a9e2456835e8df9\", element=\"cd88f67c-80fd-4aa1-b91d-c4181ea81514\")>, <selenium.webdriver.remote.webelement.WebElement (session=\"c4645249e3f56b044a9e2456835e8df9\", element=\"9d76fd1a-a428-40be-aa7d-3ac5dc60d551\")>, <selenium.webdriver.remote.webelement.WebElement (session=\"c4645249e3f56b044a9e2456835e8df9\", element=\"603788df-8d83-4fe2-a46c-cd47614fdd92\")>, <selenium.webdriver.remote.webelement.WebElement (session=\"c4645249e3f56b044a9e2456835e8df9\", element=\"3a76ce72-cc7c-4f08-8be1-872cfcd64ab9\")>, <selenium.webdriver.remote.webelement.WebElement (session=\"c4645249e3f56b044a9e2456835e8df9\", element=\"b5a2c2d4-5ee3-4347-8b40-0c5638e4c215\")>, <selenium.webdriver.remote.webelement.WebElement (session=\"c4645249e3f56b044a9e2456835e8df9\", element=\"0394cfd3-2a8d-45aa-9b22-b57bda22c4b8\")>, <selenium.webdriver.remote.webelement.WebElement (session=\"c4645249e3f56b044a9e2456835e8df9\", element=\"7d255f5f-6d4f-4969-8f80-84242822c930\")>, <selenium.webdriver.remote.webelement.WebElement (session=\"c4645249e3f56b044a9e2456835e8df9\", element=\"024d0400-1306-455e-b392-5081a34b8144\")>, <selenium.webdriver.remote.webelement.WebElement (session=\"c4645249e3f56b044a9e2456835e8df9\", element=\"a5150e8c-bf1a-40d9-947e-a17cd92a2f40\")>, <selenium.webdriver.remote.webelement.WebElement (session=\"c4645249e3f56b044a9e2456835e8df9\", element=\"f4020c7c-0f99-498d-8901-f527c74f9d6e\")>, <selenium.webdriver.remote.webelement.WebElement (session=\"c4645249e3f56b044a9e2456835e8df9\", element=\"a9ba28d8-c877-4b32-9dbe-f14f3b39ec5f\")>, <selenium.webdriver.remote.webelement.WebElement (session=\"c4645249e3f56b044a9e2456835e8df9\", element=\"37ea4635-7e15-4aa9-8f83-9d20e03eceb4\")>, <selenium.webdriver.remote.webelement.WebElement (session=\"c4645249e3f56b044a9e2456835e8df9\", element=\"de89539f-ae57-443a-9801-5ac86a2c1ce2\")>, <selenium.webdriver.remote.webelement.WebElement (session=\"c4645249e3f56b044a9e2456835e8df9\", element=\"583ec67a-2dcc-4d2d-a245-4006ae03bba7\")>, <selenium.webdriver.remote.webelement.WebElement (session=\"c4645249e3f56b044a9e2456835e8df9\", element=\"008ac245-5827-43cf-a68f-98d09fcdfd00\")>, <selenium.webdriver.remote.webelement.WebElement (session=\"c4645249e3f56b044a9e2456835e8df9\", element=\"c0a95642-fcda-4758-8afc-c5a39cd1de61\")>, <selenium.webdriver.remote.webelement.WebElement (session=\"c4645249e3f56b044a9e2456835e8df9\", element=\"bb0e4c87-b351-4a42-aeff-ffe74807881b\")>, <selenium.webdriver.remote.webelement.WebElement (session=\"c4645249e3f56b044a9e2456835e8df9\", element=\"5e1b86b6-88a2-4acd-8061-c845974fe7b7\")>, <selenium.webdriver.remote.webelement.WebElement (session=\"c4645249e3f56b044a9e2456835e8df9\", element=\"7b7137d2-caaa-4f1f-a2e0-0c98e297ae84\")>, <selenium.webdriver.remote.webelement.WebElement (session=\"c4645249e3f56b044a9e2456835e8df9\", element=\"52eae026-e8e0-4fa8-8b17-b7f6c434f932\")>, <selenium.webdriver.remote.webelement.WebElement (session=\"c4645249e3f56b044a9e2456835e8df9\", element=\"95d61ac7-a8c8-4b76-91f2-b20b62561fea\")>, <selenium.webdriver.remote.webelement.WebElement (session=\"c4645249e3f56b044a9e2456835e8df9\", element=\"171b9705-b225-4714-afd2-478810b29ab2\")>, <selenium.webdriver.remote.webelement.WebElement (session=\"c4645249e3f56b044a9e2456835e8df9\", element=\"1126ffcf-a82e-4718-80c6-11d894b03c0d\")>, <selenium.webdriver.remote.webelement.WebElement (session=\"c4645249e3f56b044a9e2456835e8df9\", element=\"569ed5b0-c867-4182-a257-06ede6f14282\")>, <selenium.webdriver.remote.webelement.WebElement (session=\"c4645249e3f56b044a9e2456835e8df9\", element=\"ad46e381-43dc-4a38-bbc2-cdfe125e2558\")>, <selenium.webdriver.remote.webelement.WebElement (session=\"c4645249e3f56b044a9e2456835e8df9\", element=\"cba296fb-2f31-46b8-a20b-00b72c50677a\")>, <selenium.webdriver.remote.webelement.WebElement (session=\"c4645249e3f56b044a9e2456835e8df9\", element=\"4e81ff10-b7ab-44b0-9cb2-f48c870733e5\")>, <selenium.webdriver.remote.webelement.WebElement (session=\"c4645249e3f56b044a9e2456835e8df9\", element=\"682522cf-ffa1-4c7a-829b-189cc740045c\")>, <selenium.webdriver.remote.webelement.WebElement (session=\"c4645249e3f56b044a9e2456835e8df9\", element=\"13441662-60ff-4780-9195-b4b92244c2d2\")>, <selenium.webdriver.remote.webelement.WebElement (session=\"c4645249e3f56b044a9e2456835e8df9\", element=\"0490d1da-fc47-425e-ad46-47c7d2620da5\")>, <selenium.webdriver.remote.webelement.WebElement (session=\"c4645249e3f56b044a9e2456835e8df9\", element=\"c6b0e850-ea47-4f17-995a-208b66bb2a33\")>, <selenium.webdriver.remote.webelement.WebElement (session=\"c4645249e3f56b044a9e2456835e8df9\", element=\"8b961a50-8afd-40cb-a88f-3adf1853c98e\")>, <selenium.webdriver.remote.webelement.WebElement (session=\"c4645249e3f56b044a9e2456835e8df9\", element=\"1c7e95c0-209b-4b1d-b7d2-5eeec8d2a044\")>, <selenium.webdriver.remote.webelement.WebElement (session=\"c4645249e3f56b044a9e2456835e8df9\", element=\"5eb0c763-1615-4056-bac9-d49b7db61363\")>, <selenium.webdriver.remote.webelement.WebElement (session=\"c4645249e3f56b044a9e2456835e8df9\", element=\"662619dc-d78e-4814-864d-8e13744e081c\")>, <selenium.webdriver.remote.webelement.WebElement (session=\"c4645249e3f56b044a9e2456835e8df9\", element=\"60f5ff3f-17dd-4570-a860-e34d2ad20a00\")>, <selenium.webdriver.remote.webelement.WebElement (session=\"c4645249e3f56b044a9e2456835e8df9\", element=\"abc18f94-3387-43fb-807c-98aeac520910\")>, <selenium.webdriver.remote.webelement.WebElement (session=\"c4645249e3f56b044a9e2456835e8df9\", element=\"a9f80624-d89c-4afe-b29e-fb2f17c232d2\")>, <selenium.webdriver.remote.webelement.WebElement (session=\"c4645249e3f56b044a9e2456835e8df9\", element=\"513512d7-b0f1-4c5a-a053-129bd2a39d8c\")>, <selenium.webdriver.remote.webelement.WebElement (session=\"c4645249e3f56b044a9e2456835e8df9\", element=\"21d10a3d-8138-4e96-bcaf-d97d65210946\")>, <selenium.webdriver.remote.webelement.WebElement (session=\"c4645249e3f56b044a9e2456835e8df9\", element=\"234ec912-bfb5-47c7-b484-bde483a40dd2\")>, <selenium.webdriver.remote.webelement.WebElement (session=\"c4645249e3f56b044a9e2456835e8df9\", element=\"d6ea239f-c89a-42bc-b8e5-d5563c8afc5a\")>, <selenium.webdriver.remote.webelement.WebElement (session=\"c4645249e3f56b044a9e2456835e8df9\", element=\"8650ff75-0e82-472e-8eee-3d3bd9d44bb3\")>, <selenium.webdriver.remote.webelement.WebElement (session=\"c4645249e3f56b044a9e2456835e8df9\", element=\"8dd7ed63-e395-465b-b614-74afaa09e8cd\")>, <selenium.webdriver.remote.webelement.WebElement (session=\"c4645249e3f56b044a9e2456835e8df9\", element=\"0707c861-5384-4579-bb19-204d28a05539\")>, <selenium.webdriver.remote.webelement.WebElement (session=\"c4645249e3f56b044a9e2456835e8df9\", element=\"71c17cda-4867-410d-a55a-9e54f8acb4c4\")>, <selenium.webdriver.remote.webelement.WebElement (session=\"c4645249e3f56b044a9e2456835e8df9\", element=\"8993f723-5c94-467b-98a5-a802b122c8ab\")>, <selenium.webdriver.remote.webelement.WebElement (session=\"c4645249e3f56b044a9e2456835e8df9\", element=\"87ca5fc6-1a68-435d-8b1d-44ff27459088\")>, <selenium.webdriver.remote.webelement.WebElement (session=\"c4645249e3f56b044a9e2456835e8df9\", element=\"47e3a8cb-b394-4ac1-925b-ed9461a70c95\")>]\n"
     ]
    }
   ],
   "source": [
    "images=browser.find_elements_by_xpath(\"//div[@class='a-section aok-relative s-image-tall-aspect']//img\")\n",
    "print(images)"
   ]
  },
  {
   "cell_type": "code",
   "execution_count": 7,
   "metadata": {},
   "outputs": [
    {
     "name": "stdout",
     "output_type": "stream",
     "text": [
      "https://www.amazon.in/images/I/71AnkW2DCWL._AC_UL320_.jpg\n",
      "https://www.amazon.in/images/I/91HWfexorqL._AC_UL320_.jpg\n",
      "https://www.amazon.in/images/I/81bM69N8cBL._AC_UL320_.jpg\n",
      "https://www.amazon.in/images/I/81-pAmwePdL._AC_UL320_.jpg\n",
      "https://www.amazon.in/images/I/81344RTFVfL._AC_UL320_.jpg\n",
      "https://www.amazon.in/images/I/61fu2EnscfL._AC_UL320_.jpg\n",
      "https://www.amazon.in/images/I/91sJG3QtQnL._AC_UL320_.jpg\n",
      "https://www.amazon.in/images/I/71b5JqOaJcL._AC_UL320_.jpg\n",
      "https://www.amazon.in/images/I/71MWiAnBMcL._AC_UL320_.jpg\n",
      "https://www.amazon.in/images/I/71-BCt0A7CL._AC_UL320_.jpg\n",
      "https://www.amazon.in/images/I/81et7nKmZHL._AC_UL320_.jpg\n",
      "https://www.amazon.in/images/I/81uSvaWKNtL._AC_UL320_.jpg\n",
      "https://www.amazon.in/images/I/71AB3ZkmnfL._AC_UL320_.jpg\n",
      "https://www.amazon.in/images/I/91nVhmjebmL._AC_UL320_.jpg\n",
      "https://www.amazon.in/images/I/81iT3n6A9VL._AC_UL320_.jpg\n",
      "https://www.amazon.in/images/I/91K7kfay53L._AC_UL320_.jpg\n",
      "https://www.amazon.in/images/I/71aJG9tjoAL._AC_UL320_.jpg\n",
      "https://www.amazon.in/images/I/612xf+9QZpL._AC_UL320_.jpg\n",
      "https://www.amazon.in/images/I/81VNghe4akL._AC_UL320_.jpg\n",
      "https://www.amazon.in/images/I/715Eq9LpiKL._AC_UL320_.jpg\n",
      "https://www.amazon.in/images/I/71ZWXjcGwGL._AC_UL320_.jpg\n",
      "https://www.amazon.in/images/I/71B-aOJ+GGL._AC_UL320_.jpg\n",
      "https://www.amazon.in/images/I/31HPzzyRSEL._AC_UL320_.jpg\n",
      "https://www.amazon.in/images/I/71IkTqmwjvL._AC_UL320_.jpg\n",
      "https://www.amazon.in/images/I/61b1twc91zL._AC_UL320_.jpg\n",
      "https://www.amazon.in/images/I/81QhclXBeEL._AC_UL320_.jpg\n",
      "https://www.amazon.in/images/I/81yBxlf-7KL._AC_UL320_.jpg\n",
      "https://www.amazon.in/images/I/81aPqWbygLL._AC_UL320_.jpg\n",
      "https://www.amazon.in/images/I/71Hb3Xmhh5L._AC_UL320_.jpg\n",
      "https://www.amazon.in/images/I/81Q9ig3qklL._AC_UL320_.jpg\n",
      "https://www.amazon.in/images/I/81B8TMw4Z3L._AC_UL320_.jpg\n",
      "https://www.amazon.in/images/I/81HlwcMxRvL._AC_UL320_.jpg\n",
      "https://www.amazon.in/images/I/810YIASBFbL._AC_UL320_.jpg\n",
      "https://www.amazon.in/images/I/61eRq0YtC+L._AC_UL320_.jpg\n",
      "https://www.amazon.in/images/I/81dPJnoDrUL._AC_UL320_.jpg\n",
      "https://www.amazon.in/images/I/81+BdQPV9ML._AC_UL320_.jpg\n",
      "https://www.amazon.in/images/I/91rG+JG4nvL._AC_UL320_.jpg\n",
      "https://www.amazon.in/images/I/71H+wwqqLvL._AC_UL320_.jpg\n",
      "https://www.amazon.in/images/I/71BRTQ1lC0L._AC_UL320_.jpg\n",
      "https://www.amazon.in/images/I/91MTkoNHToL._AC_UL320_.jpg\n",
      "https://www.amazon.in/images/I/71zwNAtzGnL._AC_UL320_.jpg\n",
      "https://www.amazon.in/images/I/81e+aJD2a-L._AC_UL320_.jpg\n",
      "https://www.amazon.in/images/I/91RS1ozop+L._AC_UL320_.jpg\n",
      "https://www.amazon.in/images/I/719cP5YbFGL._AC_UL320_.jpg\n",
      "https://www.amazon.in/images/I/813zNZrOakL._AC_UL320_.jpg\n",
      "https://www.amazon.in/images/I/81HV6B-QzPL._AC_UL320_.jpg\n",
      "https://www.amazon.in/images/I/71BwwiUAsLL._AC_UL320_.jpg\n",
      "https://www.amazon.in/images/I/91hrK4R8YdL._AC_UL320_.jpg\n",
      "https://www.amazon.in/images/I/91H+TTVqM0L._AC_UL320_.jpg\n",
      "https://www.amazon.in/images/I/91FxKbxhurL._AC_UL320_.jpg\n",
      "https://www.amazon.in/images/I/81-xW0yWsvL._AC_UL320_.jpg\n",
      "https://www.amazon.in/images/I/81Q8Oktw4sL._AC_UL320_.jpg\n",
      "https://www.amazon.in/images/I/81W1YR3GviL._AC_UL320_.jpg\n",
      "https://www.amazon.in/images/I/8193VjcJIpL._AC_UL320_.jpg\n",
      "https://www.amazon.in/images/I/71J1QFsyWHL._AC_UL320_.jpg\n",
      "https://www.amazon.in/images/I/717l4SFd5rL._AC_UL320_.jpg\n",
      "https://www.amazon.in/images/I/81iyzQCxStL._AC_UL320_.jpg\n",
      "https://www.amazon.in/images/I/61lEiwt2hBL._AC_UL320_.jpg\n",
      "https://www.amazon.in/images/I/91R69AMSvzL._AC_UL320_.jpg\n",
      "https://www.amazon.in/images/I/71Bk7UxpwdL._AC_UL320_.jpg\n"
     ]
    }
   ],
   "source": [
    "urls= []\n",
    "for image in images:\n",
    "    source=image.get_attribute('src')\n",
    "    urls.append(source)\n",
    "    print(source)"
   ]
  },
  {
   "cell_type": "code",
   "execution_count": 8,
   "metadata": {},
   "outputs": [
    {
     "data": {
      "text/plain": [
       "60"
      ]
     },
     "execution_count": 8,
     "metadata": {},
     "output_type": "execute_result"
    }
   ],
   "source": [
    "len(urls)"
   ]
  },
  {
   "cell_type": "code",
   "execution_count": 9,
   "metadata": {},
   "outputs": [],
   "source": [
    "import shutil\n",
    "import requests"
   ]
  },
  {
   "cell_type": "code",
   "execution_count": 10,
   "metadata": {},
   "outputs": [
    {
     "name": "stdout",
     "output_type": "stream",
     "text": [
      "Downloading 1 of 60 images\n",
      "Downloading 2 of 60 images\n",
      "Downloading 3 of 60 images\n",
      "Downloading 4 of 60 images\n",
      "Downloading 5 of 60 images\n",
      "Downloading 6 of 60 images\n",
      "Downloading 7 of 60 images\n",
      "Downloading 8 of 60 images\n",
      "Downloading 9 of 60 images\n",
      "Downloading 10 of 60 images\n",
      "Downloading 11 of 60 images\n",
      "Downloading 12 of 60 images\n",
      "Downloading 13 of 60 images\n",
      "Downloading 14 of 60 images\n",
      "Downloading 15 of 60 images\n",
      "Downloading 16 of 60 images\n",
      "Downloading 17 of 60 images\n",
      "Downloading 18 of 60 images\n",
      "Downloading 19 of 60 images\n",
      "Downloading 20 of 60 images\n",
      "Downloading 21 of 60 images\n",
      "Downloading 22 of 60 images\n",
      "Downloading 23 of 60 images\n",
      "Downloading 24 of 60 images\n",
      "Downloading 25 of 60 images\n",
      "Downloading 26 of 60 images\n",
      "Downloading 27 of 60 images\n",
      "Downloading 28 of 60 images\n",
      "Downloading 29 of 60 images\n",
      "Downloading 30 of 60 images\n",
      "Downloading 31 of 60 images\n",
      "Downloading 32 of 60 images\n",
      "Downloading 33 of 60 images\n",
      "Downloading 34 of 60 images\n",
      "Downloading 35 of 60 images\n",
      "Downloading 36 of 60 images\n",
      "Downloading 37 of 60 images\n",
      "Downloading 38 of 60 images\n",
      "Downloading 39 of 60 images\n",
      "Downloading 40 of 60 images\n",
      "Downloading 41 of 60 images\n",
      "Downloading 42 of 60 images\n",
      "Downloading 43 of 60 images\n",
      "Downloading 44 of 60 images\n",
      "Downloading 45 of 60 images\n",
      "Downloading 46 of 60 images\n",
      "Downloading 47 of 60 images\n",
      "Downloading 48 of 60 images\n",
      "Downloading 49 of 60 images\n",
      "Downloading 50 of 60 images\n",
      "Downloading 51 of 60 images\n",
      "Downloading 52 of 60 images\n",
      "Downloading 53 of 60 images\n",
      "Downloading 54 of 60 images\n",
      "Downloading 55 of 60 images\n",
      "Downloading 56 of 60 images\n",
      "Downloading 57 of 60 images\n",
      "Downloading 58 of 60 images\n",
      "Downloading 59 of 60 images\n",
      "Downloading 60 of 60 images\n"
     ]
    }
   ],
   "source": [
    "for index, link in enumerate(urls):\n",
    "    print(\"Downloading {0} of {1} images\".format(index+1, len(urls)))\n",
    "    response=requests.get(link)\n",
    "    with open('amazon_sarees/img_{0}.jpeg'.format(index), \"wb\") as file:\n",
    "        file.write(response.content)"
   ]
  },
  {
   "cell_type": "code",
   "execution_count": 12,
   "metadata": {},
   "outputs": [
    {
     "name": "stdout",
     "output_type": "stream",
     "text": [
      "Downloading 61 of 60 images\n",
      "Downloading 62 of 60 images\n",
      "Downloading 63 of 60 images\n",
      "Downloading 64 of 60 images\n",
      "Downloading 65 of 60 images\n",
      "Downloading 66 of 60 images\n",
      "Downloading 67 of 60 images\n",
      "Downloading 68 of 60 images\n",
      "Downloading 69 of 60 images\n",
      "Downloading 70 of 60 images\n",
      "Downloading 71 of 60 images\n",
      "Downloading 72 of 60 images\n",
      "Downloading 73 of 60 images\n",
      "Downloading 74 of 60 images\n",
      "Downloading 75 of 60 images\n",
      "Downloading 76 of 60 images\n",
      "Downloading 77 of 60 images\n",
      "Downloading 78 of 60 images\n",
      "Downloading 79 of 60 images\n",
      "Downloading 80 of 60 images\n",
      "Downloading 81 of 60 images\n",
      "Downloading 82 of 60 images\n",
      "Downloading 83 of 60 images\n",
      "Downloading 84 of 60 images\n",
      "Downloading 85 of 60 images\n",
      "Downloading 86 of 60 images\n",
      "Downloading 87 of 60 images\n",
      "Downloading 88 of 60 images\n",
      "Downloading 89 of 60 images\n",
      "Downloading 90 of 60 images\n",
      "Downloading 91 of 60 images\n",
      "Downloading 92 of 60 images\n",
      "Downloading 93 of 60 images\n",
      "Downloading 94 of 60 images\n",
      "Downloading 95 of 60 images\n",
      "Downloading 96 of 60 images\n",
      "Downloading 97 of 60 images\n",
      "Downloading 98 of 60 images\n",
      "Downloading 99 of 60 images\n",
      "Downloading 100 of 60 images\n",
      "Downloading 101 of 60 images\n",
      "Downloading 102 of 60 images\n",
      "Downloading 103 of 60 images\n",
      "Downloading 104 of 60 images\n",
      "Downloading 105 of 60 images\n",
      "Downloading 106 of 60 images\n",
      "Downloading 107 of 60 images\n",
      "Downloading 108 of 60 images\n",
      "Downloading 109 of 60 images\n",
      "Downloading 110 of 60 images\n",
      "Downloading 111 of 60 images\n",
      "Downloading 112 of 60 images\n",
      "Downloading 113 of 60 images\n",
      "Downloading 114 of 60 images\n",
      "Downloading 115 of 60 images\n",
      "Downloading 116 of 60 images\n",
      "Downloading 117 of 60 images\n",
      "Downloading 118 of 60 images\n",
      "Downloading 119 of 60 images\n",
      "Downloading 120 of 60 images\n"
     ]
    }
   ],
   "source": [
    "for index, link in enumerate(urls):\n",
    "    print(\"Downloading {0} of {1} images\".format(index+61, len(urls)))\n",
    "    response=requests.get(link)\n",
    "    with open('amazon_sarees/img_{0}.jpeg'.format(index), \"wb\") as file:\n",
    "        file.write(response.content)"
   ]
  },
  {
   "cell_type": "code",
   "execution_count": null,
   "metadata": {},
   "outputs": [],
   "source": []
  }
 ],
 "metadata": {
  "kernelspec": {
   "display_name": "Python 3",
   "language": "python",
   "name": "python3"
  },
  "language_info": {
   "codemirror_mode": {
    "name": "ipython",
    "version": 3
   },
   "file_extension": ".py",
   "mimetype": "text/x-python",
   "name": "python",
   "nbconvert_exporter": "python",
   "pygments_lexer": "ipython3",
   "version": "3.6.10"
  }
 },
 "nbformat": 4,
 "nbformat_minor": 4
}
