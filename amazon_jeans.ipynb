{
 "cells": [
  {
   "cell_type": "code",
   "execution_count": 1,
   "metadata": {},
   "outputs": [],
   "source": [
    "from selenium import webdriver\n",
    "import os"
   ]
  },
  {
   "cell_type": "code",
   "execution_count": 2,
   "metadata": {},
   "outputs": [],
   "source": [
    "browser=webdriver.Chrome(\"C:/Users/HP/Desktop/images/chromedriver_win32/chromedriver.exe\")"
   ]
  },
  {
   "cell_type": "code",
   "execution_count": 11,
   "metadata": {},
   "outputs": [],
   "source": [
    "url=browser.get('https://www.amazon.in/s?k=jeans+for+mens&page=2&crid=X1MQG667XIKW&qid=1594383485&sprefix=jeans%2Caps%2C736&ref=sr_pg_2')"
   ]
  },
  {
   "cell_type": "code",
   "execution_count": 4,
   "metadata": {},
   "outputs": [],
   "source": [
    "def make_directory(dirname):\n",
    "    current_path=os.getcwd()\n",
    "    path=os.path.join(current_path,dirname)\n",
    "    if not os.path.exists(path):\n",
    "        os.makedirs(path)"
   ]
  },
  {
   "cell_type": "code",
   "execution_count": 5,
   "metadata": {},
   "outputs": [],
   "source": [
    "make_directory(\"amazon_jeans\")"
   ]
  },
  {
   "cell_type": "code",
   "execution_count": 12,
   "metadata": {},
   "outputs": [
    {
     "name": "stdout",
     "output_type": "stream",
     "text": [
      "[<selenium.webdriver.remote.webelement.WebElement (session=\"0569125156e382c031f84df561c04e9f\", element=\"1485549b-8d65-46d0-b56d-4cb107c13317\")>, <selenium.webdriver.remote.webelement.WebElement (session=\"0569125156e382c031f84df561c04e9f\", element=\"24bb3ec8-0f21-4b9d-bb35-a4ea153800b5\")>, <selenium.webdriver.remote.webelement.WebElement (session=\"0569125156e382c031f84df561c04e9f\", element=\"a28807a0-0ff8-49d6-9f69-edac67aa557a\")>, <selenium.webdriver.remote.webelement.WebElement (session=\"0569125156e382c031f84df561c04e9f\", element=\"b44e7bd5-7433-46cd-88bc-83446662a00b\")>, <selenium.webdriver.remote.webelement.WebElement (session=\"0569125156e382c031f84df561c04e9f\", element=\"9c951be1-f1e2-48a8-b801-ff45991b55e3\")>, <selenium.webdriver.remote.webelement.WebElement (session=\"0569125156e382c031f84df561c04e9f\", element=\"1f0c1211-8694-44c3-92ad-e02e0bb256ed\")>, <selenium.webdriver.remote.webelement.WebElement (session=\"0569125156e382c031f84df561c04e9f\", element=\"6e131eb6-e405-4c5f-a9a9-754d0f353943\")>, <selenium.webdriver.remote.webelement.WebElement (session=\"0569125156e382c031f84df561c04e9f\", element=\"b050dc19-6a5e-4ad7-af73-ac2c51614212\")>, <selenium.webdriver.remote.webelement.WebElement (session=\"0569125156e382c031f84df561c04e9f\", element=\"d17d6cf6-a9ca-452b-9cc0-14767e74259f\")>, <selenium.webdriver.remote.webelement.WebElement (session=\"0569125156e382c031f84df561c04e9f\", element=\"c6c55401-7752-4f1e-902d-e84a917d040f\")>, <selenium.webdriver.remote.webelement.WebElement (session=\"0569125156e382c031f84df561c04e9f\", element=\"1f6f307a-4b23-41d7-bd03-ac35bc7c35af\")>, <selenium.webdriver.remote.webelement.WebElement (session=\"0569125156e382c031f84df561c04e9f\", element=\"3350a1c4-6609-4cc5-913b-03d4f179c779\")>, <selenium.webdriver.remote.webelement.WebElement (session=\"0569125156e382c031f84df561c04e9f\", element=\"96d525c4-008c-4ad2-9987-f6c524a466b9\")>, <selenium.webdriver.remote.webelement.WebElement (session=\"0569125156e382c031f84df561c04e9f\", element=\"f63fd3a1-5f80-45e5-9af5-5d7ff9e152fa\")>, <selenium.webdriver.remote.webelement.WebElement (session=\"0569125156e382c031f84df561c04e9f\", element=\"236e703d-c3a6-46d7-948b-4edb2d078eae\")>, <selenium.webdriver.remote.webelement.WebElement (session=\"0569125156e382c031f84df561c04e9f\", element=\"e35c1823-e96e-4cb3-984d-d6bcd0073192\")>, <selenium.webdriver.remote.webelement.WebElement (session=\"0569125156e382c031f84df561c04e9f\", element=\"705fc75d-c3ab-45ca-92e8-ebc65a4bcae2\")>, <selenium.webdriver.remote.webelement.WebElement (session=\"0569125156e382c031f84df561c04e9f\", element=\"85a3308c-f4f0-475a-87ab-71dac91e37aa\")>, <selenium.webdriver.remote.webelement.WebElement (session=\"0569125156e382c031f84df561c04e9f\", element=\"6283b66d-e448-4d81-8c7f-bfbd0eaa6bc1\")>, <selenium.webdriver.remote.webelement.WebElement (session=\"0569125156e382c031f84df561c04e9f\", element=\"7f408280-ecbf-4359-ab85-ec6ea039fe31\")>, <selenium.webdriver.remote.webelement.WebElement (session=\"0569125156e382c031f84df561c04e9f\", element=\"1ea5321c-a86c-4204-9ea0-286b1b85c645\")>, <selenium.webdriver.remote.webelement.WebElement (session=\"0569125156e382c031f84df561c04e9f\", element=\"87c43b01-132b-48c0-921a-ccd862d440f6\")>, <selenium.webdriver.remote.webelement.WebElement (session=\"0569125156e382c031f84df561c04e9f\", element=\"aa90d200-e0e1-4911-a395-7ffed01445f8\")>, <selenium.webdriver.remote.webelement.WebElement (session=\"0569125156e382c031f84df561c04e9f\", element=\"8fec3022-a379-40d3-9fbf-30d9fe0745ca\")>, <selenium.webdriver.remote.webelement.WebElement (session=\"0569125156e382c031f84df561c04e9f\", element=\"84909b6d-1cf8-4595-b913-922b68c233bb\")>, <selenium.webdriver.remote.webelement.WebElement (session=\"0569125156e382c031f84df561c04e9f\", element=\"84d3bd6a-2797-4e94-adea-453b818748ad\")>, <selenium.webdriver.remote.webelement.WebElement (session=\"0569125156e382c031f84df561c04e9f\", element=\"82ec9f72-aea4-4743-a4e3-029278f50148\")>, <selenium.webdriver.remote.webelement.WebElement (session=\"0569125156e382c031f84df561c04e9f\", element=\"f1616138-3b2c-475f-bbed-938714064fff\")>, <selenium.webdriver.remote.webelement.WebElement (session=\"0569125156e382c031f84df561c04e9f\", element=\"7783f99c-56cb-4f29-a1b9-3c4ca05da29c\")>, <selenium.webdriver.remote.webelement.WebElement (session=\"0569125156e382c031f84df561c04e9f\", element=\"b39d24d6-d7a6-4935-a99c-e03a894ca933\")>, <selenium.webdriver.remote.webelement.WebElement (session=\"0569125156e382c031f84df561c04e9f\", element=\"e1d9c136-3e8d-417f-a881-428b01974503\")>, <selenium.webdriver.remote.webelement.WebElement (session=\"0569125156e382c031f84df561c04e9f\", element=\"05144dc7-11ed-4723-beb6-72d16d643437\")>, <selenium.webdriver.remote.webelement.WebElement (session=\"0569125156e382c031f84df561c04e9f\", element=\"17e50199-b1f2-4fe7-9782-ac72d585ac07\")>, <selenium.webdriver.remote.webelement.WebElement (session=\"0569125156e382c031f84df561c04e9f\", element=\"582011d3-824c-4f29-b8cd-d1c72e4d8bd0\")>, <selenium.webdriver.remote.webelement.WebElement (session=\"0569125156e382c031f84df561c04e9f\", element=\"f76dd964-bf43-4c2c-90d3-a41e765e01c0\")>, <selenium.webdriver.remote.webelement.WebElement (session=\"0569125156e382c031f84df561c04e9f\", element=\"3fb0ea99-76cf-44b3-b7ae-bbeb837982e5\")>, <selenium.webdriver.remote.webelement.WebElement (session=\"0569125156e382c031f84df561c04e9f\", element=\"da34ad09-e65d-427b-9812-ef15ac9cdd40\")>, <selenium.webdriver.remote.webelement.WebElement (session=\"0569125156e382c031f84df561c04e9f\", element=\"8d83da02-cbe7-4da0-b601-e2a9bad5d65f\")>, <selenium.webdriver.remote.webelement.WebElement (session=\"0569125156e382c031f84df561c04e9f\", element=\"28526302-ab94-41ed-a262-ef5010cd91d3\")>, <selenium.webdriver.remote.webelement.WebElement (session=\"0569125156e382c031f84df561c04e9f\", element=\"4485c383-f83a-486d-9631-84b258c8616e\")>, <selenium.webdriver.remote.webelement.WebElement (session=\"0569125156e382c031f84df561c04e9f\", element=\"494c3ead-f5d3-4c01-809f-7c938e7b9b42\")>, <selenium.webdriver.remote.webelement.WebElement (session=\"0569125156e382c031f84df561c04e9f\", element=\"a50f1240-369a-4c18-a819-9ef5cc76c88b\")>, <selenium.webdriver.remote.webelement.WebElement (session=\"0569125156e382c031f84df561c04e9f\", element=\"95739147-9eb5-49c2-9da4-3316270ddffe\")>, <selenium.webdriver.remote.webelement.WebElement (session=\"0569125156e382c031f84df561c04e9f\", element=\"7ba38f43-b7a2-485b-8656-0dbb59b5e605\")>, <selenium.webdriver.remote.webelement.WebElement (session=\"0569125156e382c031f84df561c04e9f\", element=\"d2d19cad-c4a4-4919-a462-5d990a68b17c\")>, <selenium.webdriver.remote.webelement.WebElement (session=\"0569125156e382c031f84df561c04e9f\", element=\"eaf17921-0707-42b4-8326-c0f19bd2919a\")>, <selenium.webdriver.remote.webelement.WebElement (session=\"0569125156e382c031f84df561c04e9f\", element=\"52f37b6d-a03b-4c2d-9ade-2a0ad5ab50a7\")>, <selenium.webdriver.remote.webelement.WebElement (session=\"0569125156e382c031f84df561c04e9f\", element=\"f71b0d7d-a923-44b7-a6d7-660c9a0bc089\")>, <selenium.webdriver.remote.webelement.WebElement (session=\"0569125156e382c031f84df561c04e9f\", element=\"9be11111-0c1f-4766-901a-d6311383c05d\")>, <selenium.webdriver.remote.webelement.WebElement (session=\"0569125156e382c031f84df561c04e9f\", element=\"fc1283b8-01aa-4004-aa2d-7d30b2dd1540\")>, <selenium.webdriver.remote.webelement.WebElement (session=\"0569125156e382c031f84df561c04e9f\", element=\"61566ce5-df66-495e-a020-a407e5d9ebe5\")>, <selenium.webdriver.remote.webelement.WebElement (session=\"0569125156e382c031f84df561c04e9f\", element=\"f1369376-b90d-4765-bf06-f0a88a57170d\")>, <selenium.webdriver.remote.webelement.WebElement (session=\"0569125156e382c031f84df561c04e9f\", element=\"34724e1b-839a-42ce-b9ae-a302650e3643\")>, <selenium.webdriver.remote.webelement.WebElement (session=\"0569125156e382c031f84df561c04e9f\", element=\"49a6114c-527c-4837-bfb0-71aad784e508\")>, <selenium.webdriver.remote.webelement.WebElement (session=\"0569125156e382c031f84df561c04e9f\", element=\"f64b3961-99ef-4103-a6b7-f79b58cb593c\")>, <selenium.webdriver.remote.webelement.WebElement (session=\"0569125156e382c031f84df561c04e9f\", element=\"5ba30b8e-74eb-4c20-8a6d-fabc2a15234d\")>, <selenium.webdriver.remote.webelement.WebElement (session=\"0569125156e382c031f84df561c04e9f\", element=\"bc72ac66-c1ae-4ac1-bb3c-d495b234a701\")>, <selenium.webdriver.remote.webelement.WebElement (session=\"0569125156e382c031f84df561c04e9f\", element=\"bf404f23-f1ae-4dcd-a03c-ba5e1ea18b5d\")>, <selenium.webdriver.remote.webelement.WebElement (session=\"0569125156e382c031f84df561c04e9f\", element=\"96e946ff-3314-49e1-a59e-57b54030f6b3\")>, <selenium.webdriver.remote.webelement.WebElement (session=\"0569125156e382c031f84df561c04e9f\", element=\"ae4341d9-7356-43b4-b61a-d84c7daed4b9\")>]\n"
     ]
    }
   ],
   "source": [
    "images=browser.find_elements_by_xpath(\"//div[@class='a-section aok-relative s-image-tall-aspect']//img\")\n",
    "print(images)"
   ]
  },
  {
   "cell_type": "code",
   "execution_count": 13,
   "metadata": {},
   "outputs": [
    {
     "name": "stdout",
     "output_type": "stream",
     "text": [
      "https://www.amazon.in/images/I/91gyleVmEeL._AC_UL320_.jpg\n",
      "https://www.amazon.in/images/I/71pHBgvYSPL._AC_UL320_.jpg\n",
      "https://www.amazon.in/images/I/811eU2OFzWL._AC_UL320_.jpg\n",
      "https://www.amazon.in/images/I/71E1-wCD7jL._AC_UL320_.jpg\n",
      "https://www.amazon.in/images/I/61PJp-UGw8L._AC_UL320_.jpg\n",
      "https://www.amazon.in/images/I/71qpsMPjQIL._AC_UL320_.jpg\n",
      "https://www.amazon.in/images/I/61vbvuAOGXL._AC_UL320_.jpg\n",
      "https://www.amazon.in/images/I/61rYsv0jpPL._AC_UL320_.jpg\n",
      "https://www.amazon.in/images/I/71krH3DfdFL._AC_UL320_.jpg\n",
      "https://www.amazon.in/images/I/81ZYk9os89L._AC_UL320_.jpg\n",
      "https://www.amazon.in/images/I/81DkK3Vw4cL._AC_UL320_.jpg\n",
      "https://www.amazon.in/images/I/61yK+TRN6qL._AC_UL320_.jpg\n",
      "https://www.amazon.in/images/I/614lhz7kxaL._AC_UL320_.jpg\n",
      "https://www.amazon.in/images/I/81JfgEBtb1L._AC_UL320_.jpg\n",
      "https://www.amazon.in/images/I/718NirY5zuL._AC_UL320_.jpg\n",
      "https://www.amazon.in/images/I/71ft0likY8L._AC_UL320_.jpg\n",
      "https://www.amazon.in/images/I/81q6SbxfMuL._AC_UL320_.jpg\n",
      "https://www.amazon.in/images/I/61nJ6tJX0VL._AC_UL320_.jpg\n",
      "https://www.amazon.in/images/I/91BZB51YS6L._AC_UL320_.jpg\n",
      "https://www.amazon.in/images/I/81mmbz2sXNL._AC_UL320_.jpg\n",
      "https://www.amazon.in/images/I/81a91u9YXQL._AC_UL320_.jpg\n",
      "https://www.amazon.in/images/I/71BdagmwyuL._AC_UL320_.jpg\n",
      "https://www.amazon.in/images/I/81JpDJGUNsL._AC_UL320_.jpg\n",
      "https://www.amazon.in/images/I/81xJuIkdhZL._AC_UL320_.jpg\n",
      "https://www.amazon.in/images/I/81sexXdGL0L._AC_UL320_.jpg\n",
      "https://www.amazon.in/images/I/81HwrEpByNL._AC_UL320_.jpg\n",
      "https://www.amazon.in/images/I/91ThOhytvpL._AC_UL320_.jpg\n",
      "https://www.amazon.in/images/I/81bUS0EXJUL._AC_UL320_.jpg\n",
      "https://www.amazon.in/images/I/81fwKepgI6L._AC_UL320_.jpg\n",
      "https://www.amazon.in/images/I/71XhoCAoznL._AC_UL320_.jpg\n",
      "https://www.amazon.in/images/I/81TGQJsW5kL._AC_UL320_.jpg\n",
      "https://www.amazon.in/images/I/61N1hOGfVLL._AC_UL320_.jpg\n",
      "https://www.amazon.in/images/I/71PlzRWMYpL._AC_UL320_.jpg\n",
      "https://www.amazon.in/images/I/71JLiW7kLUL._AC_UL320_.jpg\n",
      "https://www.amazon.in/images/I/71j3Bv1coxL._AC_UL320_.jpg\n",
      "https://www.amazon.in/images/I/71-rRpSmtsL._AC_UL320_.jpg\n",
      "https://www.amazon.in/images/I/91RB3eteh5L._AC_UL320_.jpg\n",
      "https://www.amazon.in/images/I/81vg6RsOgbL._AC_UL320_.jpg\n",
      "https://www.amazon.in/images/I/91X+A6yzZsL._AC_UL320_.jpg\n",
      "https://www.amazon.in/images/I/81Y0MKp8XZL._AC_UL320_.jpg\n",
      "https://www.amazon.in/images/I/81txfZRypdL._AC_UL320_.jpg\n",
      "https://www.amazon.in/images/I/61WaKGhroQL._AC_UL320_.jpg\n",
      "https://www.amazon.in/images/I/814UqIs16KL._AC_UL320_.jpg\n",
      "https://www.amazon.in/images/I/81zwPJFusdL._AC_UL320_.jpg\n",
      "https://www.amazon.in/images/I/61SCAuhMhPL._AC_UL320_.jpg\n",
      "https://www.amazon.in/images/I/81aEMrPkHAL._AC_UL320_.jpg\n",
      "https://www.amazon.in/images/I/71K02DFehTL._AC_UL320_.jpg\n",
      "https://www.amazon.in/images/I/61qrdhq8I-L._AC_UL320_.jpg\n",
      "https://www.amazon.in/images/I/813z6di-TUL._AC_UL320_.jpg\n",
      "https://www.amazon.in/images/I/81dqdOjeAsL._AC_UL320_.jpg\n",
      "https://www.amazon.in/images/I/81tfWtSy8iL._AC_UL320_.jpg\n",
      "https://www.amazon.in/images/I/61ZMrMANV2L._AC_UL320_.jpg\n",
      "https://www.amazon.in/images/I/91PT6VCAAQL._AC_UL320_.jpg\n",
      "https://www.amazon.in/images/I/81KcPiaDQsL._AC_UL320_.jpg\n",
      "https://www.amazon.in/images/I/71vsuklP-hL._AC_UL320_.jpg\n",
      "https://www.amazon.in/images/I/81WPnyOpoEL._AC_UL320_.jpg\n",
      "https://www.amazon.in/images/I/91JJohsrPCL._AC_UL320_.jpg\n",
      "https://www.amazon.in/images/I/81xMa0nD2aL._AC_UL320_.jpg\n",
      "https://www.amazon.in/images/I/81kl+6NDTdL._AC_UL320_.jpg\n",
      "https://www.amazon.in/images/I/81H7rXis8kL._AC_UL320_.jpg\n"
     ]
    }
   ],
   "source": [
    "urls= []\n",
    "for image in images:\n",
    "    source=image.get_attribute('src')\n",
    "    urls.append(source)\n",
    "    print(source)"
   ]
  },
  {
   "cell_type": "code",
   "execution_count": 14,
   "metadata": {},
   "outputs": [
    {
     "data": {
      "text/plain": [
       "60"
      ]
     },
     "execution_count": 14,
     "metadata": {},
     "output_type": "execute_result"
    }
   ],
   "source": [
    "len(urls)"
   ]
  },
  {
   "cell_type": "code",
   "execution_count": 9,
   "metadata": {},
   "outputs": [],
   "source": [
    "import shutil\n",
    "import requests"
   ]
  },
  {
   "cell_type": "code",
   "execution_count": 10,
   "metadata": {},
   "outputs": [
    {
     "name": "stdout",
     "output_type": "stream",
     "text": [
      "Downloading 1 of 69 images\n",
      "Downloading 2 of 69 images\n",
      "Downloading 3 of 69 images\n",
      "Downloading 4 of 69 images\n",
      "Downloading 5 of 69 images\n",
      "Downloading 6 of 69 images\n",
      "Downloading 7 of 69 images\n",
      "Downloading 8 of 69 images\n",
      "Downloading 9 of 69 images\n",
      "Downloading 10 of 69 images\n",
      "Downloading 11 of 69 images\n",
      "Downloading 12 of 69 images\n",
      "Downloading 13 of 69 images\n",
      "Downloading 14 of 69 images\n",
      "Downloading 15 of 69 images\n",
      "Downloading 16 of 69 images\n",
      "Downloading 17 of 69 images\n",
      "Downloading 18 of 69 images\n",
      "Downloading 19 of 69 images\n",
      "Downloading 20 of 69 images\n",
      "Downloading 21 of 69 images\n",
      "Downloading 22 of 69 images\n",
      "Downloading 23 of 69 images\n",
      "Downloading 24 of 69 images\n",
      "Downloading 25 of 69 images\n",
      "Downloading 26 of 69 images\n",
      "Downloading 27 of 69 images\n",
      "Downloading 28 of 69 images\n",
      "Downloading 29 of 69 images\n",
      "Downloading 30 of 69 images\n",
      "Downloading 31 of 69 images\n",
      "Downloading 32 of 69 images\n",
      "Downloading 33 of 69 images\n",
      "Downloading 34 of 69 images\n",
      "Downloading 35 of 69 images\n",
      "Downloading 36 of 69 images\n",
      "Downloading 37 of 69 images\n",
      "Downloading 38 of 69 images\n",
      "Downloading 39 of 69 images\n",
      "Downloading 40 of 69 images\n",
      "Downloading 41 of 69 images\n",
      "Downloading 42 of 69 images\n",
      "Downloading 43 of 69 images\n",
      "Downloading 44 of 69 images\n",
      "Downloading 45 of 69 images\n",
      "Downloading 46 of 69 images\n",
      "Downloading 47 of 69 images\n",
      "Downloading 48 of 69 images\n",
      "Downloading 49 of 69 images\n",
      "Downloading 50 of 69 images\n",
      "Downloading 51 of 69 images\n",
      "Downloading 52 of 69 images\n",
      "Downloading 53 of 69 images\n",
      "Downloading 54 of 69 images\n",
      "Downloading 55 of 69 images\n",
      "Downloading 56 of 69 images\n",
      "Downloading 57 of 69 images\n",
      "Downloading 58 of 69 images\n",
      "Downloading 59 of 69 images\n",
      "Downloading 60 of 69 images\n",
      "Downloading 61 of 69 images\n",
      "Downloading 62 of 69 images\n",
      "Downloading 63 of 69 images\n",
      "Downloading 64 of 69 images\n",
      "Downloading 65 of 69 images\n",
      "Downloading 66 of 69 images\n",
      "Downloading 67 of 69 images\n",
      "Downloading 68 of 69 images\n",
      "Downloading 69 of 69 images\n"
     ]
    }
   ],
   "source": [
    "for index, link in enumerate(urls):\n",
    "    print(\"Downloading {0} of {1} images\".format(index+1, len(urls)))\n",
    "    response=requests.get(link)\n",
    "    with open('amazon_jeans/img_{0}.jpeg'.format(index), \"wb\") as file:\n",
    "        file.write(response.content)"
   ]
  },
  {
   "cell_type": "code",
   "execution_count": 15,
   "metadata": {},
   "outputs": [
    {
     "name": "stdout",
     "output_type": "stream",
     "text": [
      "Downloading 70 of 60 images\n",
      "Downloading 71 of 60 images\n",
      "Downloading 72 of 60 images\n",
      "Downloading 73 of 60 images\n",
      "Downloading 74 of 60 images\n",
      "Downloading 75 of 60 images\n",
      "Downloading 76 of 60 images\n",
      "Downloading 77 of 60 images\n",
      "Downloading 78 of 60 images\n",
      "Downloading 79 of 60 images\n",
      "Downloading 80 of 60 images\n",
      "Downloading 81 of 60 images\n",
      "Downloading 82 of 60 images\n",
      "Downloading 83 of 60 images\n",
      "Downloading 84 of 60 images\n",
      "Downloading 85 of 60 images\n",
      "Downloading 86 of 60 images\n",
      "Downloading 87 of 60 images\n",
      "Downloading 88 of 60 images\n",
      "Downloading 89 of 60 images\n",
      "Downloading 90 of 60 images\n",
      "Downloading 91 of 60 images\n",
      "Downloading 92 of 60 images\n",
      "Downloading 93 of 60 images\n",
      "Downloading 94 of 60 images\n",
      "Downloading 95 of 60 images\n",
      "Downloading 96 of 60 images\n",
      "Downloading 97 of 60 images\n",
      "Downloading 98 of 60 images\n",
      "Downloading 99 of 60 images\n",
      "Downloading 100 of 60 images\n",
      "Downloading 101 of 60 images\n",
      "Downloading 102 of 60 images\n",
      "Downloading 103 of 60 images\n",
      "Downloading 104 of 60 images\n",
      "Downloading 105 of 60 images\n",
      "Downloading 106 of 60 images\n",
      "Downloading 107 of 60 images\n",
      "Downloading 108 of 60 images\n",
      "Downloading 109 of 60 images\n",
      "Downloading 110 of 60 images\n",
      "Downloading 111 of 60 images\n",
      "Downloading 112 of 60 images\n",
      "Downloading 113 of 60 images\n",
      "Downloading 114 of 60 images\n",
      "Downloading 115 of 60 images\n",
      "Downloading 116 of 60 images\n",
      "Downloading 117 of 60 images\n",
      "Downloading 118 of 60 images\n",
      "Downloading 119 of 60 images\n",
      "Downloading 120 of 60 images\n",
      "Downloading 121 of 60 images\n",
      "Downloading 122 of 60 images\n",
      "Downloading 123 of 60 images\n",
      "Downloading 124 of 60 images\n",
      "Downloading 125 of 60 images\n",
      "Downloading 126 of 60 images\n",
      "Downloading 127 of 60 images\n",
      "Downloading 128 of 60 images\n",
      "Downloading 129 of 60 images\n"
     ]
    }
   ],
   "source": [
    "for index, link in enumerate(urls):\n",
    "    print(\"Downloading {0} of {1} images\".format(index+70, len(urls)))\n",
    "    response=requests.get(link)\n",
    "    with open('amazon_jeans/img_{0}.jpeg'.format(index), \"wb\") as file:\n",
    "        file.write(response.content)"
   ]
  },
  {
   "cell_type": "code",
   "execution_count": null,
   "metadata": {},
   "outputs": [],
   "source": []
  }
 ],
 "metadata": {
  "kernelspec": {
   "display_name": "Python 3",
   "language": "python",
   "name": "python3"
  },
  "language_info": {
   "codemirror_mode": {
    "name": "ipython",
    "version": 3
   },
   "file_extension": ".py",
   "mimetype": "text/x-python",
   "name": "python",
   "nbconvert_exporter": "python",
   "pygments_lexer": "ipython3",
   "version": "3.6.10"
  }
 },
 "nbformat": 4,
 "nbformat_minor": 4
}
