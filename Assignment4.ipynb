{
  "nbformat": 4,
  "nbformat_minor": 0,
  "metadata": {
    "colab": {
      "name": "assignment4.ipynb",
      "provenance": [],
      "mount_file_id": "1rVEJRNRBoCmSX5ck0Xfm5J8-ebMf9XCR",
      "authorship_tag": "ABX9TyNwskVKN/ySPV9TJI9YqPGl",
      "include_colab_link": true
    },
    "kernelspec": {
      "name": "python3",
      "display_name": "Python 3"
    },
    "accelerator": "GPU"
  },
  "cells": [
    {
      "cell_type": "markdown",
      "metadata": {
        "id": "view-in-github",
        "colab_type": "text"
      },
      "source": [
        "<a href=\"https://colab.research.google.com/github/namanjain0531/FlipRobotech/blob/master/Assignment4.ipynb\" target=\"_parent\"><img src=\"https://colab.research.google.com/assets/colab-badge.svg\" alt=\"Open In Colab\"/></a>"
      ]
    },
    {
      "cell_type": "code",
      "metadata": {
        "id": "0gC0BzNnAsFI",
        "colab_type": "code",
        "colab": {
          "base_uri": "https://localhost:8080/",
          "height": 34
        },
        "outputId": "81f590ce-e2fd-408f-ded4-9b6b424bdf7d"
      },
      "source": [
        "from google.colab import drive\n",
        "drive.mount('/content/drive/')"
      ],
      "execution_count": 1,
      "outputs": [
        {
          "output_type": "stream",
          "text": [
            "Drive already mounted at /content/drive/; to attempt to forcibly remount, call drive.mount(\"/content/drive/\", force_remount=True).\n"
          ],
          "name": "stdout"
        }
      ]
    },
    {
      "cell_type": "code",
      "metadata": {
        "id": "6lrXveKhAxfY",
        "colab_type": "code",
        "colab": {
          "base_uri": "https://localhost:8080/",
          "height": 34
        },
        "outputId": "afca55b8-ec25-460c-aac8-a824659d749e"
      },
      "source": [
        "import keras,os\n",
        "from keras.models import Sequential\n",
        "from keras.layers import Dense, Conv2D, MaxPool2D , Flatten\n",
        "from keras.preprocessing.image import ImageDataGenerator\n",
        "import numpy as np"
      ],
      "execution_count": 2,
      "outputs": [
        {
          "output_type": "stream",
          "text": [
            "Using TensorFlow backend.\n"
          ],
          "name": "stderr"
        }
      ]
    },
    {
      "cell_type": "code",
      "metadata": {
        "id": "WbL0F0b7A6km",
        "colab_type": "code",
        "colab": {
          "base_uri": "https://localhost:8080/",
          "height": 51
        },
        "outputId": "8a9f3ebb-768e-49cd-e64f-1de66514e5b6"
      },
      "source": [
        "trdata = ImageDataGenerator()\n",
        "traindata = trdata.flow_from_directory(directory=\"/content/drive/My Drive/training\",target_size=(150,150))\n",
        "tsdata = ImageDataGenerator()\n",
        "testdata = tsdata.flow_from_directory(directory=\"/content/drive/My Drive/test\", target_size=(150,150))"
      ],
      "execution_count": 3,
      "outputs": [
        {
          "output_type": "stream",
          "text": [
            "Found 2093 images belonging to 3 classes.\n",
            "Found 313 images belonging to 3 classes.\n"
          ],
          "name": "stdout"
        }
      ]
    },
    {
      "cell_type": "code",
      "metadata": {
        "id": "frTUr-HDBLU3",
        "colab_type": "code",
        "colab": {}
      },
      "source": [
        "nb_train_samples=2093\n",
        "nb_validation_samples=313\n",
        "batch_size=50\n",
        "epochs=20"
      ],
      "execution_count": 4,
      "outputs": []
    },
    {
      "cell_type": "code",
      "metadata": {
        "id": "jlvnRG9aBwSL",
        "colab_type": "code",
        "colab": {}
      },
      "source": [
        "model = Sequential()\n",
        "model.add(Conv2D(input_shape=(150,150,3),filters=64,kernel_size=(3,3),padding=\"same\", activation=\"relu\"))\n",
        "model.add(Conv2D(filters=64,kernel_size=(3,3),padding=\"same\", activation=\"relu\"))\n",
        "model.add(MaxPool2D(pool_size=(2,2),strides=(2,2)))\n",
        "model.add(Conv2D(filters=128, kernel_size=(3,3), padding=\"same\", activation=\"relu\"))\n",
        "model.add(Conv2D(filters=128, kernel_size=(3,3), padding=\"same\", activation=\"relu\"))\n",
        "model.add(MaxPool2D(pool_size=(2,2),strides=(2,2)))\n",
        "model.add(Conv2D(filters=256, kernel_size=(3,3), padding=\"same\", activation=\"relu\"))\n",
        "model.add(Conv2D(filters=256, kernel_size=(3,3), padding=\"same\", activation=\"relu\"))\n",
        "model.add(Conv2D(filters=256, kernel_size=(3,3), padding=\"same\", activation=\"relu\"))\n",
        "model.add(MaxPool2D(pool_size=(2,2),strides=(2,2)))\n",
        "model.add(Conv2D(filters=512, kernel_size=(3,3), padding=\"same\", activation=\"relu\"))\n",
        "model.add(Conv2D(filters=512, kernel_size=(3,3), padding=\"same\", activation=\"relu\"))\n",
        "model.add(Conv2D(filters=512, kernel_size=(3,3), padding=\"same\", activation=\"relu\"))\n",
        "model.add(MaxPool2D(pool_size=(2,2),strides=(2,2)))\n",
        "model.add(Conv2D(filters=512, kernel_size=(3,3), padding=\"same\", activation=\"relu\"))\n",
        "model.add(Conv2D(filters=512, kernel_size=(3,3), padding=\"same\", activation=\"relu\"))\n",
        "model.add(Conv2D(filters=512, kernel_size=(3,3), padding=\"same\", activation=\"relu\"))\n",
        "model.add(MaxPool2D(pool_size=(2,2),strides=(2,2)))\n",
        "model.add(Flatten())\n",
        "model.add(Dense(units=4096,activation=\"relu\"))\n",
        "model.add(Dense(units=4096,activation=\"relu\"))\n",
        "model.add(Dense(units=3, activation=\"softmax\"))"
      ],
      "execution_count": 5,
      "outputs": []
    },
    {
      "cell_type": "code",
      "metadata": {
        "id": "2-HU26jeB1LL",
        "colab_type": "code",
        "colab": {
          "base_uri": "https://localhost:8080/",
          "height": 901
        },
        "outputId": "0fbdf3f8-74d9-44ec-e12b-dbaf3b48f0a6"
      },
      "source": [
        "model.summary()"
      ],
      "execution_count": 6,
      "outputs": [
        {
          "output_type": "stream",
          "text": [
            "Model: \"sequential_1\"\n",
            "_________________________________________________________________\n",
            "Layer (type)                 Output Shape              Param #   \n",
            "=================================================================\n",
            "conv2d_1 (Conv2D)            (None, 150, 150, 64)      1792      \n",
            "_________________________________________________________________\n",
            "conv2d_2 (Conv2D)            (None, 150, 150, 64)      36928     \n",
            "_________________________________________________________________\n",
            "max_pooling2d_1 (MaxPooling2 (None, 75, 75, 64)        0         \n",
            "_________________________________________________________________\n",
            "conv2d_3 (Conv2D)            (None, 75, 75, 128)       73856     \n",
            "_________________________________________________________________\n",
            "conv2d_4 (Conv2D)            (None, 75, 75, 128)       147584    \n",
            "_________________________________________________________________\n",
            "max_pooling2d_2 (MaxPooling2 (None, 37, 37, 128)       0         \n",
            "_________________________________________________________________\n",
            "conv2d_5 (Conv2D)            (None, 37, 37, 256)       295168    \n",
            "_________________________________________________________________\n",
            "conv2d_6 (Conv2D)            (None, 37, 37, 256)       590080    \n",
            "_________________________________________________________________\n",
            "conv2d_7 (Conv2D)            (None, 37, 37, 256)       590080    \n",
            "_________________________________________________________________\n",
            "max_pooling2d_3 (MaxPooling2 (None, 18, 18, 256)       0         \n",
            "_________________________________________________________________\n",
            "conv2d_8 (Conv2D)            (None, 18, 18, 512)       1180160   \n",
            "_________________________________________________________________\n",
            "conv2d_9 (Conv2D)            (None, 18, 18, 512)       2359808   \n",
            "_________________________________________________________________\n",
            "conv2d_10 (Conv2D)           (None, 18, 18, 512)       2359808   \n",
            "_________________________________________________________________\n",
            "max_pooling2d_4 (MaxPooling2 (None, 9, 9, 512)         0         \n",
            "_________________________________________________________________\n",
            "conv2d_11 (Conv2D)           (None, 9, 9, 512)         2359808   \n",
            "_________________________________________________________________\n",
            "conv2d_12 (Conv2D)           (None, 9, 9, 512)         2359808   \n",
            "_________________________________________________________________\n",
            "conv2d_13 (Conv2D)           (None, 9, 9, 512)         2359808   \n",
            "_________________________________________________________________\n",
            "max_pooling2d_5 (MaxPooling2 (None, 4, 4, 512)         0         \n",
            "_________________________________________________________________\n",
            "flatten_1 (Flatten)          (None, 8192)              0         \n",
            "_________________________________________________________________\n",
            "dense_1 (Dense)              (None, 4096)              33558528  \n",
            "_________________________________________________________________\n",
            "dense_2 (Dense)              (None, 4096)              16781312  \n",
            "_________________________________________________________________\n",
            "dense_3 (Dense)              (None, 3)                 12291     \n",
            "=================================================================\n",
            "Total params: 65,066,819\n",
            "Trainable params: 65,066,819\n",
            "Non-trainable params: 0\n",
            "_________________________________________________________________\n"
          ],
          "name": "stdout"
        }
      ]
    },
    {
      "cell_type": "markdown",
      "metadata": {
        "id": "VJNMnWYZxHYM",
        "colab_type": "text"
      },
      "source": [
        "# Using SGD+Momentum"
      ]
    },
    {
      "cell_type": "code",
      "metadata": {
        "id": "A5Qcb1pRB_u8",
        "colab_type": "code",
        "colab": {}
      },
      "source": [
        "from keras.callbacks import Callback\n",
        "from keras.optimizers import Adam\n",
        "from keras.callbacks import ModelCheckpoint, EarlyStopping, ReduceLROnPlateau\n",
        "from keras.optimizers import SGD\n",
        "\n",
        "checkpoint= ModelCheckpoint(\"Modelc.h5\", monitor=\"val_accuracy\",mode='max', save_best_only=True,verbose=1)\n",
        "\n",
        "earlystop= EarlyStopping(monitor=\"val_accuracy\",min_delta=0,patience=5,verbose=1,restore_best_weights=True)\n",
        "\n",
        "reduce_lr= ReduceLROnPlateau(monitor=\"val_accuracy\", factor=0.2, patience=5, verbose=1, min_delta=0.001)\n",
        "\n",
        "#putiing callbacks into callback list\n",
        "callbacks = [earlystop, checkpoint, reduce_lr]\n",
        "momentums = [0.0, 0.5, 0.9, 0.99]\n",
        "opt = SGD(lr=0.01, momentum=0.5, decay=0.01)\n",
        "#we use a very small learning rate\n",
        "model.compile(loss = 'categorical_crossentropy',\n",
        "              optimizer=opt,\n",
        "              metrics=['accuracy'])"
      ],
      "execution_count": 7,
      "outputs": []
    },
    {
      "cell_type": "code",
      "metadata": {
        "id": "in_eXnguCcB4",
        "colab_type": "code",
        "colab": {
          "base_uri": "https://localhost:8080/",
          "height": 1000
        },
        "outputId": "405f5841-f0d6-4087-8e6e-fd6294bb28e6"
      },
      "source": [
        "history=model.fit_generator(\n",
        "    traindata,\n",
        "    steps_per_epoch=nb_train_samples//batch_size,\n",
        "    epochs=epochs,\n",
        "    validation_data=testdata,\n",
        "    validation_steps=nb_validation_samples//batch_size,\n",
        "    callbacks = [earlystop, checkpoint, reduce_lr])"
      ],
      "execution_count": 8,
      "outputs": [
        {
          "output_type": "stream",
          "text": [
            "Epoch 1/20\n",
            "41/41 [==============================] - 737s 18s/step - loss: 1.0731 - accuracy: 0.3857 - val_loss: 1.0965 - val_accuracy: 0.3646\n",
            "\n",
            "Epoch 00001: val_accuracy improved from -inf to 0.36458, saving model to Modelc.h5\n",
            "Epoch 2/20\n",
            "41/41 [==============================] - 411s 10s/step - loss: 1.0720 - accuracy: 0.4346 - val_loss: 1.1013 - val_accuracy: 0.3622\n",
            "\n",
            "Epoch 00002: val_accuracy did not improve from 0.36458\n",
            "Epoch 3/20\n",
            "41/41 [==============================] - 9s 231ms/step - loss: 1.0152 - accuracy: 0.4764 - val_loss: 0.7278 - val_accuracy: 0.5417\n",
            "\n",
            "Epoch 00003: val_accuracy improved from 0.36458 to 0.54167, saving model to Modelc.h5\n",
            "Epoch 4/20\n",
            "41/41 [==============================] - 10s 233ms/step - loss: 0.7486 - accuracy: 0.6365 - val_loss: 0.6408 - val_accuracy: 0.6324\n",
            "\n",
            "Epoch 00004: val_accuracy improved from 0.54167 to 0.63243, saving model to Modelc.h5\n",
            "Epoch 5/20\n",
            "41/41 [==============================] - 9s 231ms/step - loss: 0.6415 - accuracy: 0.6829 - val_loss: 0.5735 - val_accuracy: 0.6811\n",
            "\n",
            "Epoch 00005: val_accuracy improved from 0.63243 to 0.68108, saving model to Modelc.h5\n",
            "Epoch 6/20\n",
            "41/41 [==============================] - 10s 233ms/step - loss: 0.6781 - accuracy: 0.6821 - val_loss: 0.5834 - val_accuracy: 0.6562\n",
            "\n",
            "Epoch 00006: val_accuracy did not improve from 0.68108\n",
            "Epoch 7/20\n",
            "41/41 [==============================] - 10s 237ms/step - loss: 0.5437 - accuracy: 0.7325 - val_loss: 0.6861 - val_accuracy: 0.7135\n",
            "\n",
            "Epoch 00007: val_accuracy improved from 0.68108 to 0.71351, saving model to Modelc.h5\n",
            "Epoch 8/20\n",
            "41/41 [==============================] - 10s 235ms/step - loss: 0.4998 - accuracy: 0.7718 - val_loss: 0.5654 - val_accuracy: 0.6927\n",
            "\n",
            "Epoch 00008: val_accuracy did not improve from 0.71351\n",
            "Epoch 9/20\n",
            "41/41 [==============================] - 10s 241ms/step - loss: 0.4480 - accuracy: 0.7980 - val_loss: 1.1130 - val_accuracy: 0.6162\n",
            "\n",
            "Epoch 00009: val_accuracy did not improve from 0.71351\n",
            "Epoch 10/20\n",
            "41/41 [==============================] - 10s 238ms/step - loss: 0.4004 - accuracy: 0.8299 - val_loss: 0.3998 - val_accuracy: 0.7189\n",
            "\n",
            "Epoch 00010: val_accuracy improved from 0.71351 to 0.71892, saving model to Modelc.h5\n",
            "Epoch 11/20\n",
            "41/41 [==============================] - 10s 240ms/step - loss: 0.3508 - accuracy: 0.8507 - val_loss: 0.3803 - val_accuracy: 0.7865\n",
            "\n",
            "Epoch 00011: val_accuracy improved from 0.71892 to 0.78646, saving model to Modelc.h5\n",
            "Epoch 12/20\n",
            "41/41 [==============================] - 10s 245ms/step - loss: 0.3190 - accuracy: 0.8712 - val_loss: 0.6998 - val_accuracy: 0.7405\n",
            "\n",
            "Epoch 00012: val_accuracy did not improve from 0.78646\n",
            "Epoch 13/20\n",
            "41/41 [==============================] - 10s 242ms/step - loss: 0.3297 - accuracy: 0.8716 - val_loss: 0.7706 - val_accuracy: 0.8073\n",
            "\n",
            "Epoch 00013: val_accuracy improved from 0.78646 to 0.80729, saving model to Modelc.h5\n",
            "Epoch 14/20\n",
            "41/41 [==============================] - 10s 245ms/step - loss: 0.2743 - accuracy: 0.8971 - val_loss: 0.7078 - val_accuracy: 0.7838\n",
            "\n",
            "Epoch 00014: val_accuracy did not improve from 0.80729\n",
            "Epoch 15/20\n",
            "41/41 [==============================] - 10s 245ms/step - loss: 0.2317 - accuracy: 0.9085 - val_loss: 0.5688 - val_accuracy: 0.7946\n",
            "\n",
            "Epoch 00015: val_accuracy did not improve from 0.80729\n",
            "Epoch 16/20\n",
            "41/41 [==============================] - 10s 246ms/step - loss: 0.2182 - accuracy: 0.9253 - val_loss: 0.4574 - val_accuracy: 0.8073\n",
            "\n",
            "Epoch 00016: val_accuracy did not improve from 0.80729\n",
            "Epoch 17/20\n",
            "41/41 [==============================] - 10s 244ms/step - loss: 0.1727 - accuracy: 0.9333 - val_loss: 0.8314 - val_accuracy: 0.7838\n",
            "\n",
            "Epoch 00017: val_accuracy did not improve from 0.80729\n",
            "Epoch 18/20\n",
            "41/41 [==============================] - 10s 249ms/step - loss: 0.2054 - accuracy: 0.9200 - val_loss: 0.5053 - val_accuracy: 0.7865\n",
            "Restoring model weights from the end of the best epoch\n",
            "\n",
            "Epoch 00018: val_accuracy did not improve from 0.80729\n",
            "\n",
            "Epoch 00018: ReduceLROnPlateau reducing learning rate to 0.0019999999552965165.\n",
            "Epoch 00018: early stopping\n"
          ],
          "name": "stdout"
        }
      ]
    },
    {
      "cell_type": "markdown",
      "metadata": {
        "id": "18Umq1eqndSa",
        "colab_type": "text"
      },
      "source": [
        "# Using Adam optimiser"
      ]
    },
    {
      "cell_type": "code",
      "metadata": {
        "id": "kuSvpviSnvbg",
        "colab_type": "code",
        "colab": {}
      },
      "source": [
        "from keras.layers import Dense, Dropout, Flatten, Conv2D, MaxPool2D, BatchNormalization\n",
        "from keras.optimizers import Adam"
      ],
      "execution_count": 10,
      "outputs": []
    },
    {
      "cell_type": "code",
      "metadata": {
        "id": "J4DqGY63ncZI",
        "colab_type": "code",
        "colab": {}
      },
      "source": [
        "model = Sequential()\n",
        "\n",
        "model.add(Conv2D(32, kernel_size=(3,3),input_shape=(150, 150, 3), activation = 'relu'))\n",
        "model.add(Conv2D(32, kernel_size=(3,3), activation = 'relu'))\n",
        "model.add(MaxPool2D(2,2))\n",
        "model.add(BatchNormalization())\n",
        "model.add(Dropout(0.4))\n",
        "\n",
        "model.add(Conv2D(64, kernel_size=(3,3),activation = 'relu'))\n",
        "model.add(Conv2D(64, kernel_size=(3,3),activation = 'relu'))\n",
        "model.add(MaxPool2D(2,2))\n",
        "model.add(BatchNormalization())\n",
        "model.add(Dropout(0.4))\n",
        "\n",
        "model.add(Conv2D(128, kernel_size=(3,3), activation = 'relu'))\n",
        "model.add(BatchNormalization())\n",
        "\n",
        "model.add(Flatten())\n",
        "model.add(Dense(256, activation = \"relu\"))\n",
        "model.add(Dropout(0.4))\n",
        "model.add(Dense(128, activation = \"relu\"))\n",
        "model.add(Dropout(0.4))\n",
        "model.add(Dense(units=3, activation = \"softmax\"))"
      ],
      "execution_count": 19,
      "outputs": []
    },
    {
      "cell_type": "code",
      "metadata": {
        "id": "kSjFdKnJCtL4",
        "colab_type": "code",
        "colab": {
          "base_uri": "https://localhost:8080/",
          "height": 765
        },
        "outputId": "d834fbe1-7cb5-44e5-c939-ac8d010b2119"
      },
      "source": [
        "model.summary()"
      ],
      "execution_count": 20,
      "outputs": [
        {
          "output_type": "stream",
          "text": [
            "Model: \"sequential_5\"\n",
            "_________________________________________________________________\n",
            "Layer (type)                 Output Shape              Param #   \n",
            "=================================================================\n",
            "conv2d_26 (Conv2D)           (None, 148, 148, 32)      896       \n",
            "_________________________________________________________________\n",
            "conv2d_27 (Conv2D)           (None, 146, 146, 32)      9248      \n",
            "_________________________________________________________________\n",
            "max_pooling2d_11 (MaxPooling (None, 73, 73, 32)        0         \n",
            "_________________________________________________________________\n",
            "batch_normalization_7 (Batch (None, 73, 73, 32)        128       \n",
            "_________________________________________________________________\n",
            "dropout_9 (Dropout)          (None, 73, 73, 32)        0         \n",
            "_________________________________________________________________\n",
            "conv2d_28 (Conv2D)           (None, 71, 71, 64)        18496     \n",
            "_________________________________________________________________\n",
            "conv2d_29 (Conv2D)           (None, 69, 69, 64)        36928     \n",
            "_________________________________________________________________\n",
            "max_pooling2d_12 (MaxPooling (None, 34, 34, 64)        0         \n",
            "_________________________________________________________________\n",
            "batch_normalization_8 (Batch (None, 34, 34, 64)        256       \n",
            "_________________________________________________________________\n",
            "dropout_10 (Dropout)         (None, 34, 34, 64)        0         \n",
            "_________________________________________________________________\n",
            "conv2d_30 (Conv2D)           (None, 32, 32, 128)       73856     \n",
            "_________________________________________________________________\n",
            "batch_normalization_9 (Batch (None, 32, 32, 128)       512       \n",
            "_________________________________________________________________\n",
            "flatten_4 (Flatten)          (None, 131072)            0         \n",
            "_________________________________________________________________\n",
            "dense_10 (Dense)             (None, 256)               33554688  \n",
            "_________________________________________________________________\n",
            "dropout_11 (Dropout)         (None, 256)               0         \n",
            "_________________________________________________________________\n",
            "dense_11 (Dense)             (None, 128)               32896     \n",
            "_________________________________________________________________\n",
            "dropout_12 (Dropout)         (None, 128)               0         \n",
            "_________________________________________________________________\n",
            "dense_12 (Dense)             (None, 3)                 387       \n",
            "=================================================================\n",
            "Total params: 33,728,291\n",
            "Trainable params: 33,727,843\n",
            "Non-trainable params: 448\n",
            "_________________________________________________________________\n"
          ],
          "name": "stdout"
        }
      ]
    },
    {
      "cell_type": "code",
      "metadata": {
        "id": "N13B87KznzCj",
        "colab_type": "code",
        "colab": {}
      },
      "source": [
        "checkpoint= ModelCheckpoint(\"ModelD.h5\", monitor=\"val_accuracy\",mode='max', save_best_only=True,verbose=1)\n",
        "\n",
        "earlystop= EarlyStopping(monitor=\"val_accuracy\",min_delta=0,patience=5,verbose=1,restore_best_weights=True)\n",
        "\n",
        "reduce_lr= ReduceLROnPlateau(monitor=\"val_accuracy\", factor=0.2, patience=5, verbose=1, min_delta=0.001)\n",
        "\n",
        "#putiing callbacks into callback list\n",
        "callbacks = [earlystop, checkpoint, reduce_lr]\n",
        "momentums = [0.0, 0.5, 0.9, 0.99]\n",
        "opt = Adam(lr=0.001)\n",
        "#we use a very small learning rate\n",
        "model.compile(loss = 'categorical_crossentropy',\n",
        "              optimizer=opt,\n",
        "              metrics=['accuracy'])"
      ],
      "execution_count": 21,
      "outputs": []
    },
    {
      "cell_type": "code",
      "metadata": {
        "id": "JjHCJkm-oRQU",
        "colab_type": "code",
        "colab": {
          "base_uri": "https://localhost:8080/",
          "height": 1000
        },
        "outputId": "39dcef61-e980-4bcc-b1ce-64b067744659"
      },
      "source": [
        "history=model.fit_generator(\n",
        "    traindata,\n",
        "    steps_per_epoch=nb_train_samples//batch_size,\n",
        "    epochs=epochs,\n",
        "    validation_data=testdata,\n",
        "    validation_steps=nb_validation_samples//batch_size,\n",
        "    callbacks = [earlystop, checkpoint, reduce_lr])"
      ],
      "execution_count": 22,
      "outputs": [
        {
          "output_type": "stream",
          "text": [
            "Epoch 1/20\n",
            "41/41 [==============================] - 7s 172ms/step - loss: 5.2331 - accuracy: 0.6125 - val_loss: 14.9792 - val_accuracy: 0.4375\n",
            "\n",
            "Epoch 00001: val_accuracy improved from -inf to 0.43750, saving model to ModelD.h5\n",
            "Epoch 2/20\n",
            "41/41 [==============================] - 4s 104ms/step - loss: 3.7150 - accuracy: 0.6997 - val_loss: 9.3302 - val_accuracy: 0.5568\n",
            "\n",
            "Epoch 00002: val_accuracy improved from 0.43750 to 0.55676, saving model to ModelD.h5\n",
            "Epoch 3/20\n",
            "41/41 [==============================] - 4s 96ms/step - loss: 2.6236 - accuracy: 0.7092 - val_loss: 4.2979 - val_accuracy: 0.5573\n",
            "\n",
            "Epoch 00003: val_accuracy improved from 0.55676 to 0.55729, saving model to ModelD.h5\n",
            "Epoch 4/20\n",
            "41/41 [==============================] - 5s 110ms/step - loss: 1.8618 - accuracy: 0.7386 - val_loss: 3.5578 - val_accuracy: 0.5027\n",
            "\n",
            "Epoch 00004: val_accuracy did not improve from 0.55729\n",
            "Epoch 5/20\n",
            "41/41 [==============================] - 4s 95ms/step - loss: 1.3261 - accuracy: 0.7216 - val_loss: 0.7049 - val_accuracy: 0.6649\n",
            "\n",
            "Epoch 00005: val_accuracy improved from 0.55729 to 0.66486, saving model to ModelD.h5\n",
            "Epoch 6/20\n",
            "41/41 [==============================] - 4s 100ms/step - loss: 0.8867 - accuracy: 0.7842 - val_loss: 5.2456 - val_accuracy: 0.6458\n",
            "\n",
            "Epoch 00006: val_accuracy did not improve from 0.66486\n",
            "Epoch 7/20\n",
            "41/41 [==============================] - 4s 103ms/step - loss: 0.7670 - accuracy: 0.7927 - val_loss: 5.3628 - val_accuracy: 0.6541\n",
            "\n",
            "Epoch 00007: val_accuracy did not improve from 0.66486\n",
            "Epoch 8/20\n",
            "41/41 [==============================] - 4s 101ms/step - loss: 0.5776 - accuracy: 0.8275 - val_loss: 7.1282 - val_accuracy: 0.7292\n",
            "\n",
            "Epoch 00008: val_accuracy improved from 0.66486 to 0.72917, saving model to ModelD.h5\n",
            "Epoch 9/20\n",
            "41/41 [==============================] - 5s 111ms/step - loss: 0.4900 - accuracy: 0.8600 - val_loss: 15.0307 - val_accuracy: 0.5568\n",
            "\n",
            "Epoch 00009: val_accuracy did not improve from 0.72917\n",
            "Epoch 10/20\n",
            "41/41 [==============================] - 4s 98ms/step - loss: 0.3753 - accuracy: 0.8689 - val_loss: 0.3459 - val_accuracy: 0.8432\n",
            "\n",
            "Epoch 00010: val_accuracy improved from 0.72917 to 0.84324, saving model to ModelD.h5\n",
            "Epoch 11/20\n",
            "41/41 [==============================] - 4s 101ms/step - loss: 0.4243 - accuracy: 0.8567 - val_loss: 1.5671 - val_accuracy: 0.7552\n",
            "\n",
            "Epoch 00011: val_accuracy did not improve from 0.84324\n",
            "Epoch 12/20\n",
            "41/41 [==============================] - 4s 102ms/step - loss: 0.6478 - accuracy: 0.8670 - val_loss: 8.2256 - val_accuracy: 0.4324\n",
            "\n",
            "Epoch 00012: val_accuracy did not improve from 0.84324\n",
            "Epoch 13/20\n",
            "41/41 [==============================] - 4s 98ms/step - loss: 0.4492 - accuracy: 0.8531 - val_loss: 0.5659 - val_accuracy: 0.8021\n",
            "\n",
            "Epoch 00013: val_accuracy did not improve from 0.84324\n",
            "Epoch 14/20\n",
            "41/41 [==============================] - 4s 106ms/step - loss: 0.4394 - accuracy: 0.8616 - val_loss: 0.8185 - val_accuracy: 0.7189\n",
            "\n",
            "Epoch 00014: val_accuracy did not improve from 0.84324\n",
            "Epoch 15/20\n",
            "41/41 [==============================] - 4s 98ms/step - loss: 0.3559 - accuracy: 0.8841 - val_loss: 0.4913 - val_accuracy: 0.7946\n",
            "Restoring model weights from the end of the best epoch\n",
            "\n",
            "Epoch 00015: val_accuracy did not improve from 0.84324\n",
            "\n",
            "Epoch 00015: ReduceLROnPlateau reducing learning rate to 0.00020000000949949026.\n",
            "Epoch 00015: early stopping\n"
          ],
          "name": "stdout"
        }
      ]
    },
    {
      "cell_type": "markdown",
      "metadata": {
        "id": "Txn49Q78sL6M",
        "colab_type": "text"
      },
      "source": [
        "# Using RMSprop optimizer"
      ]
    },
    {
      "cell_type": "code",
      "metadata": {
        "id": "ZiPpWw9SoYBi",
        "colab_type": "code",
        "colab": {}
      },
      "source": [
        "from keras.optimizers import RMSprop"
      ],
      "execution_count": 23,
      "outputs": []
    },
    {
      "cell_type": "code",
      "metadata": {
        "id": "ZJwSTfN1sUw7",
        "colab_type": "code",
        "colab": {}
      },
      "source": [
        "checkpoint= ModelCheckpoint(\"ModelE.h5\", monitor=\"val_accuracy\",mode='max', save_best_only=True,verbose=1)\n",
        "\n",
        "earlystop= EarlyStopping(monitor=\"val_accuracy\",min_delta=0,patience=5,verbose=1,restore_best_weights=True)\n",
        "\n",
        "reduce_lr= ReduceLROnPlateau(monitor=\"val_accuracy\", factor=0.2, patience=5, verbose=1, min_delta=0.001)\n",
        "\n",
        "#putiing callbacks into callback list\n",
        "callbacks = [earlystop, checkpoint, reduce_lr]\n",
        "opt = RMSprop(lr=0.001)\n",
        "#we use a very small learning rate\n",
        "model.compile(loss = 'categorical_crossentropy',\n",
        "              optimizer=opt,\n",
        "              metrics=['accuracy'])"
      ],
      "execution_count": 24,
      "outputs": []
    },
    {
      "cell_type": "code",
      "metadata": {
        "id": "_xuUfG3psgHr",
        "colab_type": "code",
        "colab": {
          "base_uri": "https://localhost:8080/",
          "height": 629
        },
        "outputId": "e1ee13a6-f5c8-475f-8726-f983f509e487"
      },
      "source": [
        "history=model.fit_generator(\n",
        "    traindata,\n",
        "    steps_per_epoch=nb_train_samples//batch_size,\n",
        "    epochs=epochs,\n",
        "    validation_data=testdata,\n",
        "    validation_steps=nb_validation_samples//batch_size,\n",
        "    callbacks = [earlystop, checkpoint, reduce_lr])"
      ],
      "execution_count": 25,
      "outputs": [
        {
          "output_type": "stream",
          "text": [
            "Epoch 1/20\n",
            "41/41 [==============================] - 5s 133ms/step - loss: 2.1845 - accuracy: 0.7302 - val_loss: 1.0807 - val_accuracy: 0.7135\n",
            "\n",
            "Epoch 00001: val_accuracy improved from -inf to 0.71354, saving model to ModelE.h5\n",
            "Epoch 2/20\n",
            "41/41 [==============================] - 4s 97ms/step - loss: 1.1422 - accuracy: 0.7742 - val_loss: 8.0920 - val_accuracy: 0.5676\n",
            "\n",
            "Epoch 00002: val_accuracy did not improve from 0.71354\n",
            "Epoch 3/20\n",
            "41/41 [==============================] - 4s 100ms/step - loss: 1.2111 - accuracy: 0.7602 - val_loss: 7.6075 - val_accuracy: 0.7812\n",
            "\n",
            "Epoch 00003: val_accuracy improved from 0.71354 to 0.78125, saving model to ModelE.h5\n",
            "Epoch 4/20\n",
            "41/41 [==============================] - 4s 104ms/step - loss: 0.8510 - accuracy: 0.7866 - val_loss: 1.0742 - val_accuracy: 0.6595\n",
            "\n",
            "Epoch 00004: val_accuracy did not improve from 0.78125\n",
            "Epoch 5/20\n",
            "41/41 [==============================] - 4s 94ms/step - loss: 0.8681 - accuracy: 0.7850 - val_loss: 0.4697 - val_accuracy: 0.7081\n",
            "\n",
            "Epoch 00005: val_accuracy did not improve from 0.78125\n",
            "Epoch 6/20\n",
            "41/41 [==============================] - 4s 107ms/step - loss: 0.9053 - accuracy: 0.7927 - val_loss: 0.6007 - val_accuracy: 0.7292\n",
            "\n",
            "Epoch 00006: val_accuracy did not improve from 0.78125\n",
            "Epoch 7/20\n",
            "41/41 [==============================] - 4s 101ms/step - loss: 1.0542 - accuracy: 0.8064 - val_loss: 0.9783 - val_accuracy: 0.7405\n",
            "\n",
            "Epoch 00007: val_accuracy did not improve from 0.78125\n",
            "Epoch 8/20\n",
            "41/41 [==============================] - 4s 100ms/step - loss: 0.8100 - accuracy: 0.8105 - val_loss: 0.7438 - val_accuracy: 0.7708\n",
            "Restoring model weights from the end of the best epoch\n",
            "\n",
            "Epoch 00008: val_accuracy did not improve from 0.78125\n",
            "\n",
            "Epoch 00008: ReduceLROnPlateau reducing learning rate to 0.00020000000949949026.\n",
            "Epoch 00008: early stopping\n"
          ],
          "name": "stdout"
        }
      ]
    },
    {
      "cell_type": "markdown",
      "metadata": {
        "id": "yFU5u2yStdMW",
        "colab_type": "text"
      },
      "source": [
        "# Using Nadam Optimizer"
      ]
    },
    {
      "cell_type": "code",
      "metadata": {
        "id": "xQw3Le2Fsjmx",
        "colab_type": "code",
        "colab": {}
      },
      "source": [
        "from keras.optimizers import Nadam"
      ],
      "execution_count": 26,
      "outputs": []
    },
    {
      "cell_type": "code",
      "metadata": {
        "id": "eaDCkVDGtcXZ",
        "colab_type": "code",
        "colab": {}
      },
      "source": [
        "checkpoint= ModelCheckpoint(\"ModelF.h5\", monitor=\"val_accuracy\",mode='max', save_best_only=True,verbose=1)\n",
        "\n",
        "earlystop= EarlyStopping(monitor=\"val_accuracy\",min_delta=0,patience=5,verbose=1,restore_best_weights=True)\n",
        "\n",
        "reduce_lr= ReduceLROnPlateau(monitor=\"val_accuracy\", factor=0.2, patience=5, verbose=1, min_delta=0.001)\n",
        "\n",
        "#putiing callbacks into callback list\n",
        "callbacks = [earlystop, checkpoint, reduce_lr]\n",
        "opt = Nadam(lr=0.001, beta_1=0.9, beta_2=0.999, epsilon=1e-07)\n",
        "#we use a very small learning rate\n",
        "model.compile(loss = 'categorical_crossentropy',\n",
        "              optimizer=opt,\n",
        "              metrics=['accuracy'])"
      ],
      "execution_count": 28,
      "outputs": []
    },
    {
      "cell_type": "code",
      "metadata": {
        "id": "Y0AhhUuCtxn_",
        "colab_type": "code",
        "colab": {
          "base_uri": "https://localhost:8080/",
          "height": 1000
        },
        "outputId": "c000f2b1-d6f1-4bd3-91f9-24974ec8f5cc"
      },
      "source": [
        "history=model.fit_generator(\n",
        "    traindata,\n",
        "    steps_per_epoch=nb_train_samples//batch_size,\n",
        "    epochs=epochs,\n",
        "    validation_data=testdata,\n",
        "    validation_steps=nb_validation_samples//batch_size,\n",
        "    callbacks = [earlystop, checkpoint, reduce_lr])"
      ],
      "execution_count": 29,
      "outputs": [
        {
          "output_type": "stream",
          "text": [
            "Epoch 1/20\n",
            "41/41 [==============================] - 6s 146ms/step - loss: 1.0571 - accuracy: 0.7811 - val_loss: 0.4493 - val_accuracy: 0.7812\n",
            "\n",
            "Epoch 00001: val_accuracy improved from -inf to 0.78125, saving model to ModelF.h5\n",
            "Epoch 2/20\n",
            "41/41 [==============================] - 4s 107ms/step - loss: 0.9075 - accuracy: 0.7920 - val_loss: 1.2164 - val_accuracy: 0.6811\n",
            "\n",
            "Epoch 00002: val_accuracy did not improve from 0.78125\n",
            "Epoch 3/20\n",
            "41/41 [==============================] - 4s 105ms/step - loss: 1.2314 - accuracy: 0.8056 - val_loss: 1.6231 - val_accuracy: 0.6615\n",
            "\n",
            "Epoch 00003: val_accuracy did not improve from 0.78125\n",
            "Epoch 4/20\n",
            "41/41 [==============================] - 5s 113ms/step - loss: 0.9614 - accuracy: 0.7912 - val_loss: 0.6949 - val_accuracy: 0.7946\n",
            "\n",
            "Epoch 00004: val_accuracy improved from 0.78125 to 0.79459, saving model to ModelF.h5\n",
            "Epoch 5/20\n",
            "41/41 [==============================] - 4s 102ms/step - loss: 1.1377 - accuracy: 0.7462 - val_loss: 3.1553 - val_accuracy: 0.6216\n",
            "\n",
            "Epoch 00005: val_accuracy did not improve from 0.79459\n",
            "Epoch 6/20\n",
            "41/41 [==============================] - 5s 110ms/step - loss: 0.6325 - accuracy: 0.8105 - val_loss: 0.4998 - val_accuracy: 0.7917\n",
            "\n",
            "Epoch 00006: val_accuracy did not improve from 0.79459\n",
            "Epoch 7/20\n",
            "41/41 [==============================] - 4s 108ms/step - loss: 0.5258 - accuracy: 0.8079 - val_loss: 14.4673 - val_accuracy: 0.8054\n",
            "\n",
            "Epoch 00007: val_accuracy improved from 0.79459 to 0.80541, saving model to ModelF.h5\n",
            "Epoch 8/20\n",
            "41/41 [==============================] - 4s 102ms/step - loss: 0.3672 - accuracy: 0.8492 - val_loss: 1.4284 - val_accuracy: 0.7865\n",
            "\n",
            "Epoch 00008: val_accuracy did not improve from 0.80541\n",
            "Epoch 9/20\n",
            "41/41 [==============================] - 5s 113ms/step - loss: 0.3395 - accuracy: 0.8732 - val_loss: 0.6679 - val_accuracy: 0.8108\n",
            "\n",
            "Epoch 00009: val_accuracy improved from 0.80541 to 0.81081, saving model to ModelF.h5\n",
            "Epoch 10/20\n",
            "41/41 [==============================] - 4s 103ms/step - loss: 0.3477 - accuracy: 0.8765 - val_loss: 0.6759 - val_accuracy: 0.7568\n",
            "\n",
            "Epoch 00010: val_accuracy did not improve from 0.81081\n",
            "Epoch 11/20\n",
            "41/41 [==============================] - 5s 111ms/step - loss: 0.3006 - accuracy: 0.8848 - val_loss: 6.9313 - val_accuracy: 0.6927\n",
            "\n",
            "Epoch 00011: val_accuracy did not improve from 0.81081\n",
            "Epoch 12/20\n",
            "41/41 [==============================] - 4s 108ms/step - loss: 0.3792 - accuracy: 0.8742 - val_loss: 0.8926 - val_accuracy: 0.7730\n",
            "\n",
            "Epoch 00012: val_accuracy did not improve from 0.81081\n",
            "Epoch 13/20\n",
            "41/41 [==============================] - 4s 101ms/step - loss: 0.2773 - accuracy: 0.9003 - val_loss: 14.1898 - val_accuracy: 0.8438\n",
            "\n",
            "Epoch 00013: val_accuracy improved from 0.81081 to 0.84375, saving model to ModelF.h5\n",
            "Epoch 14/20\n",
            "41/41 [==============================] - 5s 112ms/step - loss: 0.2665 - accuracy: 0.9078 - val_loss: 16.2378 - val_accuracy: 0.8162\n",
            "\n",
            "Epoch 00014: val_accuracy did not improve from 0.84375\n",
            "Epoch 15/20\n",
            "41/41 [==============================] - 4s 102ms/step - loss: 0.2329 - accuracy: 0.9261 - val_loss: 1.8454 - val_accuracy: 0.7297\n",
            "\n",
            "Epoch 00015: val_accuracy did not improve from 0.84375\n",
            "Epoch 16/20\n",
            "41/41 [==============================] - 4s 109ms/step - loss: 0.1715 - accuracy: 0.9196 - val_loss: 0.2419 - val_accuracy: 0.8177\n",
            "\n",
            "Epoch 00016: val_accuracy did not improve from 0.84375\n",
            "Epoch 17/20\n",
            "41/41 [==============================] - 4s 107ms/step - loss: 0.3059 - accuracy: 0.9118 - val_loss: 9.2841 - val_accuracy: 0.7568\n",
            "\n",
            "Epoch 00017: val_accuracy did not improve from 0.84375\n",
            "Epoch 18/20\n",
            "41/41 [==============================] - 4s 104ms/step - loss: 0.2249 - accuracy: 0.9154 - val_loss: 17.4166 - val_accuracy: 0.7917\n",
            "Restoring model weights from the end of the best epoch\n",
            "\n",
            "Epoch 00018: val_accuracy did not improve from 0.84375\n",
            "\n",
            "Epoch 00018: ReduceLROnPlateau reducing learning rate to 0.00020000000949949026.\n",
            "Epoch 00018: early stopping\n"
          ],
          "name": "stdout"
        }
      ]
    },
    {
      "cell_type": "markdown",
      "metadata": {
        "id": "QjhAJvoRuS63",
        "colab_type": "text"
      },
      "source": [
        "# Nesterov Accelerated Gradient Descent"
      ]
    },
    {
      "cell_type": "code",
      "metadata": {
        "id": "Um3FvEVvt4pn",
        "colab_type": "code",
        "colab": {}
      },
      "source": [
        "from keras.optimizers import SGD\n",
        "\n",
        "checkpoint= ModelCheckpoint(\"ModelG.h5\", monitor=\"val_accuracy\",mode='max', save_best_only=True,verbose=1)\n",
        "\n",
        "earlystop= EarlyStopping(monitor=\"val_accuracy\",min_delta=0,patience=5,verbose=1,restore_best_weights=True)\n",
        "\n",
        "reduce_lr= ReduceLROnPlateau(monitor=\"val_accuracy\", factor=0.2, patience=5, verbose=1, min_delta=0.001)\n",
        "\n",
        "#putiing callbacks into callback list\n",
        "callbacks = [earlystop, checkpoint, reduce_lr]\n",
        "momentums = [0.0, 0.5, 0.9, 0.99]\n",
        "opt = SGD(lr=0.001, momentum=0.0, decay=0.01,nesterov=True)\n",
        "#we use a very small learning rate\n",
        "model.compile(loss = 'categorical_crossentropy',\n",
        "              optimizer=opt,\n",
        "              metrics=['accuracy'])"
      ],
      "execution_count": 33,
      "outputs": []
    },
    {
      "cell_type": "code",
      "metadata": {
        "id": "RtjDQnwvwqzH",
        "colab_type": "code",
        "colab": {
          "base_uri": "https://localhost:8080/",
          "height": 765
        },
        "outputId": "ae1e81c7-bfe2-4b2d-f91c-1734940f9e0d"
      },
      "source": [
        "history=model.fit_generator(\n",
        "    traindata,\n",
        "    steps_per_epoch=nb_train_samples//batch_size,\n",
        "    epochs=epochs,\n",
        "    validation_data=testdata,\n",
        "    validation_steps=nb_validation_samples//batch_size,\n",
        "    callbacks = [earlystop, checkpoint, reduce_lr])"
      ],
      "execution_count": 34,
      "outputs": [
        {
          "output_type": "stream",
          "text": [
            "Epoch 1/20\n",
            "41/41 [==============================] - 5s 123ms/step - loss: 0.2042 - accuracy: 0.9250 - val_loss: 0.7197 - val_accuracy: 0.8333\n",
            "\n",
            "Epoch 00001: val_accuracy improved from -inf to 0.83333, saving model to ModelG.h5\n",
            "Epoch 2/20\n",
            "41/41 [==============================] - 4s 92ms/step - loss: 0.1666 - accuracy: 0.9360 - val_loss: 0.2821 - val_accuracy: 0.8054\n",
            "\n",
            "Epoch 00002: val_accuracy did not improve from 0.83333\n",
            "Epoch 3/20\n",
            "41/41 [==============================] - 4s 98ms/step - loss: 0.2046 - accuracy: 0.9223 - val_loss: 1.4413 - val_accuracy: 0.7604\n",
            "\n",
            "Epoch 00003: val_accuracy did not improve from 0.83333\n",
            "Epoch 4/20\n",
            "41/41 [==============================] - 4s 99ms/step - loss: 0.2058 - accuracy: 0.9262 - val_loss: 12.9306 - val_accuracy: 0.7676\n",
            "\n",
            "Epoch 00004: val_accuracy did not improve from 0.83333\n",
            "Epoch 5/20\n",
            "41/41 [==============================] - 4s 93ms/step - loss: 0.1885 - accuracy: 0.9299 - val_loss: 0.6949 - val_accuracy: 0.8486\n",
            "\n",
            "Epoch 00005: val_accuracy improved from 0.83333 to 0.84865, saving model to ModelG.h5\n",
            "Epoch 6/20\n",
            "41/41 [==============================] - 4s 100ms/step - loss: 0.1944 - accuracy: 0.9242 - val_loss: 3.5442 - val_accuracy: 0.8021\n",
            "\n",
            "Epoch 00006: val_accuracy did not improve from 0.84865\n",
            "Epoch 7/20\n",
            "41/41 [==============================] - 4s 98ms/step - loss: 0.1790 - accuracy: 0.9358 - val_loss: 14.4260 - val_accuracy: 0.8324\n",
            "\n",
            "Epoch 00007: val_accuracy did not improve from 0.84865\n",
            "Epoch 8/20\n",
            "41/41 [==============================] - 4s 96ms/step - loss: 0.1741 - accuracy: 0.9413 - val_loss: 0.1823 - val_accuracy: 0.8021\n",
            "\n",
            "Epoch 00008: val_accuracy did not improve from 0.84865\n",
            "Epoch 9/20\n",
            "41/41 [==============================] - 4s 106ms/step - loss: 0.1975 - accuracy: 0.9265 - val_loss: 0.8244 - val_accuracy: 0.8324\n",
            "\n",
            "Epoch 00009: val_accuracy did not improve from 0.84865\n",
            "Epoch 10/20\n",
            "41/41 [==============================] - 4s 97ms/step - loss: 0.1905 - accuracy: 0.9253 - val_loss: 0.8909 - val_accuracy: 0.7838\n",
            "Restoring model weights from the end of the best epoch\n",
            "\n",
            "Epoch 00010: val_accuracy did not improve from 0.84865\n",
            "\n",
            "Epoch 00010: ReduceLROnPlateau reducing learning rate to 0.00020000000949949026.\n",
            "Epoch 00010: early stopping\n"
          ],
          "name": "stdout"
        }
      ]
    },
    {
      "cell_type": "code",
      "metadata": {
        "id": "MW5RbFOew3o9",
        "colab_type": "code",
        "colab": {}
      },
      "source": [
        ""
      ],
      "execution_count": null,
      "outputs": []
    }
  ]
}